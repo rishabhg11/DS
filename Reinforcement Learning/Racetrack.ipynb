{
 "cells": [
  {
   "cell_type": "markdown",
   "metadata": {
    "id": "mMZRHIPikmQN"
   },
   "source": [
    "**Learning a Racetrack using SARSA**\n"
   ]
  },
  {
   "cell_type": "code",
   "execution_count": null,
   "metadata": {
    "collapsed": true,
    "id": "8B4tLkBuvkbp"
   },
   "outputs": [],
   "source": [
    "import numpy as np\n",
    "import random\n",
    "import matplotlib.pyplot as plt"
   ]
  },
  {
   "cell_type": "markdown",
   "metadata": {
    "id": "b49Q9YVMk_8l"
   },
   "source": [
    "**Creating the Environment**"
   ]
  },
  {
   "cell_type": "code",
   "execution_count": null,
   "metadata": {
    "id": "SCTepNp3vkbq"
   },
   "outputs": [],
   "source": [
    "class ObstacleCourse(object):\n",
    "    \n",
    "    def load(self, course):\n",
    "        y_size, x_size = len(course), len(course[0])\n",
    "        self.course = np.zeros((x_size, y_size), dtype=np.int16)\n",
    "        for y in range(y_size):\n",
    "            for x in range(x_size):\n",
    "                point = course[y][x]\n",
    "                if point == 'o':\n",
    "                    self.course[x, y] = 1\n",
    "                elif point == 'F':\n",
    "                    self.course[x, y] = 0\n",
    "                elif point == 'S':\n",
    "                    self.course[x, y] = 2\n",
    "                elif point == 'X':\n",
    "                    self.course[x, y] = -1     \n",
    "        self.course = self.course\n",
    "        for x in range(x_size):\n",
    "            for y in range(y_size):\n",
    "                if self.course[x, y] == 0:\n",
    "                    self.start_positions.append((x, y))\n",
    "\n",
    "    def obstacle(self, pos):\n",
    "        return self.course[pos[0], pos[1]] == -1\n",
    "    \n",
    "    def finished(self, pos):\n",
    "        return self.course[pos[0], pos[1]] == 2\n",
    "    \n",
    "    def terminal_state(self):\n",
    "        return (self.course[self.position[0], self.position[1]] == 2)\n",
    "        \n",
    "    def obstacle_state(self):\n",
    "        return (self.course[self.position[0], self.position[1]] == -1)\n",
    "\n",
    "    def __init__(self, course):\n",
    "        self.NOISE = 0.0\n",
    "        self.EPS = 0.1\n",
    "        self.MAX_VELOCITY = 4\n",
    "        self.start_positions = []\n",
    "        self.course = None\n",
    "        self.load(course)\n",
    "        self.random_start()\n",
    "        self.velocity = np.array([0, 0], dtype=np.int16)\n",
    "\n",
    "\n",
    "    def reward(self, action):\n",
    "        if self.terminal_state(): \n",
    "          return 0.0\n",
    "        self.update_velocity(action)\n",
    "        self.update_position()\n",
    "        if self.terminal_state():\n",
    "            return 100.0\n",
    "        if self.obstacle_state():\n",
    "            return -100.0\n",
    "        return -1.0\n",
    "    \n",
    "\n",
    "    def get_state(self):\n",
    "        return self.position.copy(), self.velocity.copy()    \n",
    "\n",
    "    def update_velocity(self, action):\n",
    "        if np.random.rand() > self.NOISE:\n",
    "            self.velocity += np.array(action, dtype=np.int16)\n",
    "            self.velocity = np.minimum(self.velocity, self.MAX_VELOCITY)\n",
    "            self.velocity = np.maximum(self.velocity, np.maximum(-self.MAX_VELOCITY,-self.position[1]))\n",
    "            \n",
    "    def reset(self):\n",
    "        self.random_start()\n",
    "        self.velocity = np.array([0, 0], dtype=np.int16)\n",
    "\n",
    "    def update_position(self):\n",
    "        for i in range(0, self.MAX_VELOCITY+1):\n",
    "            step = i / self.MAX_VELOCITY\n",
    "            pos = self.position + np.round(self.velocity * step).astype(np.int16)\n",
    "            if self.obstacle(pos):\n",
    "                self.position = pos\n",
    "                return\n",
    "            if self.finished(pos):\n",
    "                self.position = pos\n",
    "                self.velocity = np.array([0, 0], dtype=np.int16)\n",
    "                return\n",
    "        self.position = pos\n",
    "    \n",
    "\n",
    "    def random_start(self):\n",
    "        self.position = np.array(random.choice(self.start_positions), dtype=np.int16)\n",
    "        print(self.position)\n",
    "        \n",
    "    def action_to_tuple(self, a):\n",
    "        ax = a // 3 - 1\n",
    "        ay = a % 3 - 1\n",
    "        return ax, ay\n",
    "    \n",
    "    \n",
    "    def tuple_to_action(self, a):\n",
    "        return int((a[0] + 1) * 3 + a[1] + 1)\n",
    "    \n",
    "    \n",
    "    def greedy_eps(self, Q):\n",
    "        s = self.get_state()\n",
    "        s_x, s_y = s[0][0], s[0][1]\n",
    "        s_vx, s_vy = s[1][0], s[1][1]\n",
    "        if np.random.rand() > self.EPS:\n",
    "            if (np.max(Q[s_x, s_y, s_vx, s_vy, :, :]) ==\n",
    "                np.min(Q[s_x, s_y, s_vx, s_vy, :, :])):\n",
    "                a = (0, 0)\n",
    "            else:\n",
    "                a = np.argmax(Q[s_x, s_y, s_vx, s_vy, :, :])\n",
    "                a = np.unravel_index(a, (3, 3)) - np.array([1, 1])\n",
    "                a = (a[0], a[1])\n",
    "        else:\n",
    "            a = self.action_to_tuple(random.randrange(9))        \n",
    "        return a\n",
    "    \n",
    "    \n",
    "    def state_action(self, s, a):\n",
    "        s_x, s_y = s[0][0], s[0][1]\n",
    "        s_vx, s_vy = s[1][0], s[1][1]\n",
    "        a_x, a_y = a[0]+1, a[1]+1\n",
    "        s_a = (s_x, s_y, s_vx, s_vy, a_x, a_y)        \n",
    "        return s_a        "
   ]
  },
  {
   "cell_type": "markdown",
   "metadata": {
    "id": "qHnkA4RGlsFc"
   },
   "source": [
    "**Following respresntation is used to follow the race track:**   \n",
    "\n",
    "1.    'S'  represents the start line.\n",
    "2.    'F'  represents the finish line.\n",
    "3.    'o'  represents the open cell.\n",
    "4.    'X'  represents the obstacle.\n",
    "\n"
   ]
  },
  {
   "cell_type": "code",
   "execution_count": null,
   "metadata": {
    "collapsed": true,
    "id": "1CQhtKTqvkbr"
   },
   "outputs": [],
   "source": [
    "course_1 = ['XFFFFFFFFFFFFFFFX',\n",
    "            'XoooooooooooooooX',\n",
    "            'XoooooooooooooooX',\n",
    "            'XooooXXXXXXXooooX',\n",
    "            'XoooooooooooooooX',\n",
    "            'XoooooooooooooooX',\n",
    "            'XoooooooooooooooX',\n",
    "            'XXXXXXoooooXXXXXX',\n",
    "            'XoooooooooooooooX',\n",
    "            'XoooooooooooooooX',\n",
    "            'XoooooooooooooooX',\n",
    "            'XooooXXXXXXXooooX',\n",
    "            'XoooooooooooooooX',\n",
    "            'XoooooooooooooooX',\n",
    "            'XoooooooooooooooX',\n",
    "            'XoooooooooooooooX',\n",
    "            'XSSSSSSSSSSSSSSSX']\n",
    "\n",
    "course_2 =   ['XFFFFFFFFFFFFFFFX',\n",
    "              'XoooooooooooooooX',\n",
    "              'XoooooooooooooooX',\n",
    "              'XoooooooooooooooX',\n",
    "              'XXXXXXXXXXXXooooX',\n",
    "              'XooooooooooXooooX',\n",
    "              'XooooooooooXooooX',\n",
    "              'XooooooooooXooooX',\n",
    "              'XooooooooooXooooX',\n",
    "              'XooooXooooooooooX',\n",
    "              'XooooXooooooooooX',\n",
    "              'XooooXooooooooooX',\n",
    "              'XooooXooooooooooX',\n",
    "              'XooooXXXXXXXXXXXX',\n",
    "              'XoooooooooooooooX',\n",
    "              'XoooooooooooooooX',\n",
    "              'XoooooooooooooooX',\n",
    "              'XSSSSSSSSSSSSSSSX']\n",
    "\n",
    "course_3 = ['XFFFFFFFFFFFFFFFX',\n",
    "            'XoooooooooooooooX',\n",
    "            'XoooooooooooooooX',\n",
    "            'XooooXXXXXXXooooX',\n",
    "            'XoooooooooooooooX',\n",
    "            'XoooooooooooooooX',\n",
    "            'XoooooooooooooooX',\n",
    "            'XooXoooooooooXooX',\n",
    "            'XooXoooooooooXooX',\n",
    "            'XooXoooooooooXooX',\n",
    "            'XooXoooooooooXooX',\n",
    "            'XooXoooooooooXooX',\n",
    "            'XoooooooooooooooX',\n",
    "            'XoooooooooooooooX',\n",
    "            'XoooooooooooooooX',\n",
    "            'XoooooooooooooooX',\n",
    "            'XSSSSSSSSSSSSSSSX']\n"
   ]
  },
  {
   "cell_type": "markdown",
   "metadata": {
    "id": "zImOA0pgeQtV"
   },
   "source": [
    "**SARSA algorithm** is a slight variation of the popular Q-Learning algorithm. For a learning agent in any Reinforcement Learning algorithm it’s policy can be of two types:-\n",
    "\n",
    "\n",
    "1.   **On Policy:**In this, the learning agent learns the value function according to the current action derived from the policy currently being used.\n",
    "2.   **Off Policy:** In this, the learning agent learns the value function according to the action derived from another policy.\n",
    "\n",
    "\n",
    "**Q-Learning technique is an Off Policy** technique and uses the greedy approach to learn the Q-value. **SARSA technique, on the other hand, is an On Policy** and uses the action performed by the current policy to learn the Q-value.\n",
    "\n",
    "This name simply reflects the fact that the main function for updating the Q-value depends on the current state of the agent \"S1\", the action the agent chooses \"A1\", the reward \"R\" the agent gets for choosing this action, the state \"S2\" that the agent enters after taking that action, and finally the next action \"A2\" the agent chooses in its new state.\n",
    "\n",
    "For solving the Obstacle race, we have used the **SARSA Algorithm.**"
   ]
  },
  {
   "cell_type": "code",
   "execution_count": null,
   "metadata": {
    "id": "pE1b6E6Qvkbs",
    "scrolled": false
   },
   "outputs": [],
   "source": [
    "course = course_2\n",
    "x_size, y_size = len(course[0]),len(course)\n",
    "Q = np.zeros((x_size, y_size, 9, 9, 3, 3), dtype=np.float64)\n",
    "position_map = np.zeros((x_size, y_size), dtype=np.float64)  \n",
    "N = 40000  \n",
    "gamma = 1.0\n",
    "alpha = 0.25\n",
    "track = ObstacleCourse(course)\n",
    "\n",
    "# Sarsa\n",
    "\n",
    "epochs = []\n",
    "counts = []\n",
    "count = 0\n",
    "for e in range(N):\n",
    "    if (e+1) % 200 == 0: print('Episode {}'.format(e+1))\n",
    "    track.reset()\n",
    "    s = track.get_state()\n",
    "    a = track.greedy_eps(Q)\n",
    "    while not track.terminal_state() and not track.obstacle_state():\n",
    "        position_map[s[0][0], s[0][1]] += 1\n",
    "        print(position_map)\n",
    "        count += 1\n",
    "        r = track.reward(a)\n",
    "        s_prime = track.get_state()\n",
    "        a_prime = track.greedy_eps(Q)\n",
    "        s_a = track.state_action(s, a)\n",
    "        s_a_prime = track.state_action(s_prime, a_prime)\n",
    "        Q[s_a] = Q[s_a] + alpha * (r + gamma * Q[s_a_prime] - Q[s_a])\n",
    "        s, a = s_prime, a_prime\n",
    "    epochs.append(e)\n",
    "    counts.append(count)"
   ]
  },
  {
   "cell_type": "markdown",
   "metadata": {
    "id": "5tBnMCdQl8Po"
   },
   "source": [
    "We experimented the reward values for the obstacle and finish positions. Using reward value of -10 and 10 respectively as stated in the questions caused the learning to be wayward. Certain start postion caused the obstacle collision to be more rewarding than trying to reach to finish line. In the end we decided to use the higher reward value of -100 and 100 for obstacles and terminal position respectively to learn the obstacle course as desirable."
   ]
  },
  {
   "cell_type": "code",
   "execution_count": null,
   "metadata": {
    "id": "4bRhio5Uvkbv"
   },
   "outputs": [],
   "source": [
    "pi = np.zeros((x_size, y_size, 9, 9), dtype=np.int16)\n",
    "for idx in np.ndindex(x_size, y_size, 9, 9):\n",
    "    a = np.argmax(Q[idx[0], idx[1], idx[2], idx[3], :, :])\n",
    "    a = np.unravel_index(a, (3, 3))\n",
    "    pi[idx] = track.tuple_to_action(a - np.array([1, 1]))    "
   ]
  },
  {
   "cell_type": "code",
   "execution_count": null,
   "metadata": {
    "id": "8H_VVAVwwFHZ"
   },
   "outputs": [],
   "source": [
    "from celluloid import Camera"
   ]
  },
  {
   "cell_type": "markdown",
   "metadata": {
    "id": "i8czbM_4wFoK"
   },
   "source": [
    "<b>LEARNING COURSE 2</b>\n"
   ]
  },
  {
   "cell_type": "markdown",
   "metadata": {
    "id": "DwcO9v3-pfOO"
   },
   "source": [
    "Learning this obstacle course was a little tricky.This required learning for 40000 iteration and alpha value 0.2"
   ]
  },
  {
   "cell_type": "markdown",
   "metadata": {
    "id": "RS5vdzwZnire"
   },
   "source": [
    "**Heatmap showing steps exploration during the learning for Course 2.**"
   ]
  },
  {
   "cell_type": "code",
   "execution_count": null,
   "metadata": {
    "colab": {
     "base_uri": "https://localhost:8080/",
     "height": 283
    },
    "id": "SUv6RYNBvkbv",
    "outputId": "132d7dab-4678-41d2-be32-7e1f05949b4b"
   },
   "outputs": [
    {
     "name": "stdout",
     "output_type": "stream",
     "text": [
      "Exploration Heatmap\n"
     ]
    },
    {
     "data": {
      "image/png": "[encoded data removed]",
      "text/plain": [
       "<Figure size 432x288 with 1 Axes>"
      ]
     },
     "metadata": {
      "needs_background": "light",
      "tags": []
     },
     "output_type": "display_data"
    }
   ],
   "source": [
    "print('Exploration Heatmap')\n",
    "plt.imshow(np.flipud(position_map.T), cmap='gist_heat', interpolation='nearest')\n",
    "plt.show()"
   ]
  },
  {
   "cell_type": "code",
   "execution_count": null,
   "metadata": {
    "colab": {
     "base_uri": "https://localhost:8080/",
     "height": 283
    },
    "id": "S5wIR1IgN1Qa",
    "outputId": "3ad4c4f8-a416-46af-be6f-ccdd0ac1898f"
   },
   "outputs": [
    {
     "name": "stdout",
     "output_type": "stream",
     "text": [
      "[14  0]\n"
     ]
    },
    {
     "data": {
      "image/png": "[encoded data removed]",
      "text/plain": [
       "<Figure size 432x288 with 1 Axes>"
      ]
     },
     "metadata": {
      "needs_background": "light",
      "tags": []
     },
     "output_type": "display_data"
    }
   ],
   "source": [
    "fig = plt.figure()\n",
    "camera = Camera(fig)\n",
    "pos_map = np.zeros((x_size, y_size))\n",
    "track.reset()\n",
    "for e in range(1000):\n",
    "    s = track.get_state()\n",
    "    s_x, s_y = s[0][0], s[0][1]\n",
    "    s_vx, s_vy = s[1][0], s[1][1]\n",
    "    pos_map[s_x, s_y] += 1  # exploration map\n",
    "    act = track.action_to_tuple(pi[s_x, s_y, s_vx, s_vy])\n",
    "    track.reward(act)\n",
    "    pos_map = (pos_map > 0).astype(np.float32)\n",
    "    pos_map +=  track.course  # overlay track course\n",
    "    plt.imshow(np.flipud(pos_map.T), cmap='RdYlBu', interpolation='nearest')\n",
    "    #plt.show()\n",
    "    camera.snap()\n",
    "    pos_map -=  track.course\n",
    "    if track.terminal_state(): \n",
    "      break"
   ]
  },
  {
   "cell_type": "code",
   "execution_count": null,
   "metadata": {
    "id": "b-_w0I9GOoE6"
   },
   "outputs": [],
   "source": [
    "animation = camera.animate()\n",
    "animation.save('Trac.mp4')"
   ]
  },
  {
   "cell_type": "markdown",
   "metadata": {
    "id": "5BNwJNCsgI00"
   },
   "source": [
    "**Simulation for Course 2.** \n",
    "\n",
    "```\n",
    "# This is formatted as code\n",
    "```\n",
    "\n"
   ]
  },
  {
   "cell_type": "code",
   "execution_count": null,
   "metadata": {
    "colab": {
     "base_uri": "https://localhost:8080/",
     "height": 288
    },
    "id": "irV_0UyAYSMK",
    "outputId": "463ebfc0-136d-44bf-a186-751a4b3c3520"
   },
   "outputs": [
    {
     "data": {
      "text/html": [
       "\n",
       "<video width=400 controls>\n",
       "      <source src=\"data:video/mp4;base64,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\" type=\"video/mp4\">\n",
       "</video>\n"
      ],
      "text/plain": [
       "<IPython.core.display.HTML object>"
      ]
     },
     "execution_count": 70,
     "metadata": {
      "tags": []
     },
     "output_type": "execute_result"
    }
   ],
   "source": [
    "from IPython.display import HTML,Image\n",
    "from base64 import b64encode\n",
    "mp4 = open('Trac.mp4','rb').read()\n",
    "data_url = \"data:video/mp4;base64,\" + b64encode(mp4).decode()\n",
    "HTML(\"\"\"\n",
    "<video width=400 controls>\n",
    "      <source src=\"%s\" type=\"video/mp4\">\n",
    "</video>\n",
    "\"\"\" % data_url)"
   ]
  },
  {
   "cell_type": "markdown",
   "metadata": {
    "id": "-MLFEWwtwZj5"
   },
   "source": [
    "<b>Learning course 1</b>\n",
    "\n",
    "Learning this obstacle required learning for 20000 episode and alpha value 0.1"
   ]
  },
  {
   "cell_type": "markdown",
   "metadata": {
    "id": "QvdJn9-KgXRZ"
   },
   "source": [
    "**Heatmap showing steps exploration during the learning for Course 1.**"
   ]
  },
  {
   "cell_type": "code",
   "execution_count": null,
   "metadata": {
    "colab": {
     "base_uri": "https://localhost:8080/",
     "height": 265
    },
    "id": "ur0tjabUbi28",
    "outputId": "5adaa00f-bf87-4adb-a66c-84a940cc8f91"
   },
   "outputs": [
    {
     "data": {
      "image/png": "[encoded data removed]",
      "text/plain": [
       "<IPython.core.display.Image object>"
      ]
     },
     "execution_count": 71,
     "metadata": {
      "tags": []
     },
     "output_type": "execute_result"
    }
   ],
   "source": [
    "Image(filename='Track1_heatmap.png')"
   ]
  },
  {
   "cell_type": "markdown",
   "metadata": {
    "id": "JaBk1upJgq5o"
   },
   "source": [
    "**Simulation for Course 1.** "
   ]
  },
  {
   "cell_type": "code",
   "execution_count": null,
   "metadata": {
    "colab": {
     "base_uri": "https://localhost:8080/",
     "height": 288
    },
    "id": "pA32IMa0aLt2",
    "outputId": "7ea323ef-84d6-4f3e-a1ba-a43de2c2ee1e"
   },
   "outputs": [
    {
     "data": {
      "text/html": [
       "\n",
       "<video width=400 controls>\n",
       "      <source src=\"data:video/mp4;base64,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\" type=\"video/mp4\">\n",
       "</video>\n"
      ],
      "text/plain": [
       "<IPython.core.display.HTML object>"
      ]
     },
     "execution_count": 67,
     "metadata": {
      "tags": []
     },
     "output_type": "execute_result"
    }
   ],
   "source": [
    "mp4_2 = open('Track1_simulation.mp4','rb').read()\n",
    "data_url_2 = \"data:video/mp4;base64,\" + b64encode(mp4_2).decode()\n",
    "HTML(\"\"\"\n",
    "<video width=400 controls>\n",
    "      <source src=\"%s\" type=\"video/mp4\">\n",
    "</video>\n",
    "\"\"\" % data_url_2)"
   ]
  },
  {
   "cell_type": "markdown",
   "metadata": {
    "id": "Vs_wccRcwvhg"
   },
   "source": [
    "<b>Learning course 3</b>\n",
    "\n",
    "Learning this obstacle was straight forward and again required learning for 20000 episode and alpha value 0.1"
   ]
  },
  {
   "cell_type": "markdown",
   "metadata": {
    "id": "9Tqg_ZYHgxKs"
   },
   "source": [
    "**Heatmap showing steps exploration during the learning for Course 3.** "
   ]
  },
  {
   "cell_type": "code",
   "execution_count": null,
   "metadata": {
    "colab": {
     "base_uri": "https://localhost:8080/",
     "height": 265
    },
    "id": "bWuREavRb06X",
    "outputId": "cf1f27f2-2d9b-4697-95d8-38f05f14f0d6"
   },
   "outputs": [
    {
     "data": {
      "image/png": "[encoded data removed]",
      "text/plain": [
       "<IPython.core.display.Image object>"
      ]
     },
     "execution_count": 72,
     "metadata": {
      "tags": []
     },
     "output_type": "execute_result"
    }
   ],
   "source": [
    "Image(filename='another_track.png')"
   ]
  },
  {
   "cell_type": "markdown",
   "metadata": {
    "id": "CP3kfHpUxug-"
   },
   "source": [
    "**Simulation for Course 3.** "
   ]
  },
  {
   "cell_type": "code",
   "execution_count": null,
   "metadata": {
    "colab": {
     "base_uri": "https://localhost:8080/",
     "height": 288
    },
    "id": "vXDZZbkEa9Qz",
    "outputId": "d3697f31-c32c-4d6d-faff-455818196c9d"
   },
   "outputs": [
    {
     "data": {
      "text/html": [
       "\n",
       "<video width=400 controls>\n",
       "      <source src=\"data:video/mp4;base64,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\" type=\"video/mp4\">\n",
       "</video>\n"
      ],
      "text/plain": [
       "<IPython.core.display.HTML object>"
      ]
     },
     "execution_count": 74,
     "metadata": {
      "tags": []
     },
     "output_type": "execute_result"
    }
   ],
   "source": [
    "mp4_3 = open('another_track.mp4','rb').read()\n",
    "data_url_3 = \"data:video/mp4;base64,\" + b64encode(mp4_3).decode()\n",
    "HTML(\"\"\"\n",
    "<video width=400 controls>\n",
    "      <source src=\"%s\" type=\"video/mp4\">\n",
    "</video>\n",
    "\"\"\" % data_url_3)"
   ]
  }
 ],
 "metadata": {
  "accelerator": "GPU",
  "colab": {
   "collapsed_sections": [],
   "name": "AML_Assignment_2.ipynb",
   "provenance": []
  },
  "kernelspec": {
   "display_name": "Python 3",
   "language": "python",
   "name": "python3"
  },
  "language_info": {
   "codemirror_mode": {
    "name": "ipython",
    "version": 3
   },
   "file_extension": ".py",
   "mimetype": "text/x-python",
   "name": "python",
   "nbconvert_exporter": "python",
   "pygments_lexer": "ipython3",
   "version": "3.7.6"
  }
 },
 "nbformat": 4,
 "nbformat_minor": 1
}
