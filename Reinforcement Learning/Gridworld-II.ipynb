{
 "cells": [
  {
   "cell_type": "markdown",
   "metadata": {
    "id": "txiaYl5bH2o-"
   },
   "source": [
    "**Policy Improvement Using TD Update,SARSA and Q-learning**"
   ]
  },
  {
   "cell_type": "code",
   "execution_count": 3,
   "metadata": {
    "id": "STdh_skYBDIe"
   },
   "outputs": [],
   "source": [
    "import numpy as np\n",
    "import random\n",
    "from matplotlib import pyplot as plt\n",
    "from tqdm import tqdm"
   ]
  },
  {
   "cell_type": "markdown",
   "metadata": {
    "id": "5TtggyGZEmkI"
   },
   "source": [
    "The code in the cells before question 1 begins is the same as in assignment 2."
   ]
  },
  {
   "cell_type": "code",
   "execution_count": 46,
   "metadata": {
    "id": "rjRNbllFBDIl"
   },
   "outputs": [],
   "source": [
    "START_STATE = (0,0)\n",
    "TER_STATE = (5,5)\n",
    "PEN_STATE = (5,2)\n",
    "HOLES = [(3,2),(4,2)]\n",
    "Actions = ['U','D','L','R']"
   ]
  },
  {
   "cell_type": "code",
   "execution_count": 47,
   "metadata": {
    "id": "JsWLJKTSBDIm"
   },
   "outputs": [],
   "source": [
    "#To check if a state is legal or not\n",
    "def is_legal(State):\n",
    "    if (State[0] >= 0) and (State[0] <= 5):\n",
    "        if (State[1] >= 0) and (State[1] <= 5):\n",
    "                if State != HOLES[0] and State != HOLES[1]:\n",
    "                    return True\n",
    "    return False"
   ]
  },
  {
   "cell_type": "code",
   "execution_count": 48,
   "metadata": {
    "id": "nEKSNKFvBDIn"
   },
   "outputs": [],
   "source": [
    "#Returns reward for a particular state\n",
    "def return_reward(S):\n",
    "    if S == PEN_STATE:\n",
    "        return(-15)\n",
    "    elif S == TER_STATE:\n",
    "        return (15)\n",
    "    else:\n",
    "        return(0)"
   ]
  },
  {
   "cell_type": "code",
   "execution_count": 49,
   "metadata": {
    "id": "b8NY9NT5BDIn"
   },
   "outputs": [],
   "source": [
    "#returns the change of coordinate after an action\n",
    "def movement(S,A):\n",
    "    if A=='U':\n",
    "        return S[0],S[1]+1\n",
    "    elif A=='D':\n",
    "        return S[0],S[1]-1\n",
    "    elif A=='L':\n",
    "        return S[0]-1,S[1]\n",
    "    elif A=='R':\n",
    "        return S[0]+1,S[1]\n",
    "    else:\n",
    "        return S[0],S[1]"
   ]
  },
  {
   "cell_type": "code",
   "execution_count": 50,
   "metadata": {
    "id": "CxlLFO-QBDIo"
   },
   "outputs": [],
   "source": [
    "#Defines the next state after performing an action on the current state\n",
    "def nxtState(S,A):\n",
    "    if A == \"U\":\n",
    "        act = np.random.choice([\"U\", \"L\", \"R\", \"S\"], p=[0.8, 0.05, 0.05, 0.1])\n",
    "    elif A == \"D\":\n",
    "        act = np.random.choice([\"D\", \"L\", \"R\", \"S\"], p=[0.8, 0.05, 0.05,  0.1])\n",
    "    elif A == \"L\":\n",
    "        act = np.random.choice([\"L\", \"U\", \"D\", \"S\"], p=[0.8, 0.05, 0.05, 0.1])\n",
    "    elif A == \"R\":\n",
    "        act =  np.random.choice([\"R\", \"U\", \"D\", \"S\"], p=[0.8, 0.05, 0.05, 0.1])\n",
    "        \n",
    "    state = movement(S,act)\n",
    "    \n",
    "    if is_legal(state):\n",
    "        return state\n",
    "    return S"
   ]
  },
  {
   "cell_type": "code",
   "execution_count": 51,
   "metadata": {
    "id": "19q9MmAtBDIp"
   },
   "outputs": [],
   "source": [
    "#defines a random policy i.e. each action is equally likely\n",
    "def random_policy():\n",
    "    pi = {}\n",
    "    for i in range(6):\n",
    "        for j in range(6):\n",
    "            if (i,j) != HOLES[0] and (i,j) != HOLES[1] and (i,j) != TER_STATE:\n",
    "                pi[(i,j)] = [0.25]*4\n",
    "    \n",
    "    return(pi)"
   ]
  },
  {
   "cell_type": "code",
   "execution_count": 52,
   "metadata": {
    "id": "FdIejQ6-BDIq"
   },
   "outputs": [],
   "source": [
    "#returns the probabilites of ending up at different states when taking action on a state\n",
    "def transition(S, A):\n",
    "    nxtState = [S]\n",
    "    prob = [0.1] \n",
    "    \n",
    "    if A == 'U':\n",
    "        if is_legal((S[0],S[1]+1)) == True:\n",
    "            nxtState.append((S[0],S[1]+1))\n",
    "            prob.append(0.8)\n",
    "        else:\n",
    "            prob[0]+=0.8\n",
    "            \n",
    "        if is_legal((S[0]-1,S[1])) == True:\n",
    "            nxtState.append((S[0]-1,S[1]))\n",
    "            prob.append(0.05)\n",
    "        else:\n",
    "            prob[0]+=0.05\n",
    "            \n",
    "        if is_legal((S[0]+1,S[1])) == True:\n",
    "            nxtState.append((S[0]+1,S[1]))\n",
    "            prob.append(0.05)\n",
    "        else:\n",
    "            prob[0]+=0.05\n",
    "            \n",
    "    elif A == 'D':\n",
    "        if is_legal((S[0],S[1]-1)) == True:\n",
    "            nxtState.append((S[0],S[1]-1))\n",
    "            prob.append(0.8)\n",
    "        else:\n",
    "            prob[0]+=0.8\n",
    "            \n",
    "        if is_legal((S[0]-1,S[1])) == True:\n",
    "            nxtState.append((S[0]-1,S[1]))\n",
    "            prob.append(0.05)\n",
    "        else:\n",
    "            prob[0]+=0.05\n",
    "            \n",
    "        if is_legal((S[0]+1,S[1])) == True:\n",
    "            nxtState.append((S[0]+1,S[1]))\n",
    "            prob.append(0.05)\n",
    "        else:\n",
    "            prob[0]+=0.05\n",
    "            \n",
    "    elif A == 'L':\n",
    "        if is_legal((S[0]-1,S[1])) == True:\n",
    "            nxtState.append((S[0]-1,S[1]))\n",
    "            prob.append(0.8)\n",
    "        else:\n",
    "            prob[0]+=0.8\n",
    "            \n",
    "        if is_legal((S[0],S[1]+1)) == True:\n",
    "            nxtState.append((S[0],S[1]+1))\n",
    "            prob.append(0.05)\n",
    "        else:\n",
    "            prob[0]+=0.05\n",
    "            \n",
    "        if is_legal((S[0],S[1]-1)) == True:\n",
    "            nxtState.append((S[0],S[1]-1))\n",
    "            prob.append(0.05)\n",
    "        else:\n",
    "            prob[0]+=0.05\n",
    "            \n",
    "    else:\n",
    "        if is_legal((S[0]+1,S[1])) == True:\n",
    "            nxtState.append((S[0]+1,S[1]))\n",
    "            prob.append(0.8)\n",
    "        else:\n",
    "            prob[0]+=0.8\n",
    "            \n",
    "        if is_legal((S[0],S[1]+1)) == True:\n",
    "            nxtState.append((S[0],S[1]+1))\n",
    "            prob.append(0.05)\n",
    "        else:\n",
    "            prob[0]+=0.05\n",
    "            \n",
    "        if is_legal((S[0],S[1]-1)) == True:\n",
    "            nxtState.append((S[0],S[1]-1))\n",
    "            prob.append(0.05)\n",
    "        else:\n",
    "            prob[0]+=0.05\n",
    "    \n",
    "    return nxtState, prob\n"
   ]
  },
  {
   "cell_type": "markdown",
   "metadata": {
    "id": "BthJ1cBMDkSP"
   },
   "source": [
    "\n",
    "**TD Updates**"
   ]
  },
  {
   "cell_type": "code",
   "execution_count": 53,
   "metadata": {
    "id": "cuuR6FbDBDIr"
   },
   "outputs": [],
   "source": [
    "#Value Function\n",
    "V={}\n",
    "for i in range(6):\n",
    "    for j in range(6):\n",
    "            V[(i,j)]=0"
   ]
  },
  {
   "cell_type": "code",
   "execution_count": 54,
   "metadata": {
    "id": "eaeV_7GQvrtr"
   },
   "outputs": [],
   "source": [
    "gamma=0.9\n",
    "def TD_epi(S,V,alpha,update=True):  #returns the sqaured TD erros for an episode\n",
    "      tde = []\n",
    "      while S!=TER_STATE:\n",
    "          A = np.random.choice(Actions, p=policy[S])\n",
    "          S0 = nxtState(S,A)\n",
    "          R = return_reward(S0)\n",
    "          td_err = R + gamma*V[S0] - V[S]\n",
    "          if update==True:\n",
    "             V[S]=V[S] + alpha*(td_err)\n",
    "          tde.append(td_err)\n",
    "          S=S0\n",
    "\n",
    "      tde_sq=[x**2 for x in tde]\n",
    "      return tde_sq\n",
    "\n"
   ]
  },
  {
   "cell_type": "code",
   "execution_count": 11,
   "metadata": {
    "id": "dtn1AY9GvvQU"
   },
   "outputs": [],
   "source": [
    "def TD_sim(episodes,alpha,update=True):#setting update to true will update the Q-values whereas setting it to false will not\n",
    "   total=0\n",
    "   count=0\n",
    "   for i in range(episodes):\n",
    "     j=random.randint(0, 5)\n",
    "     start=(1,j)\n",
    "     tde_sq = TD_epi(start, V, alpha,update)\n",
    "     total+= sum(tde_sq)\n",
    "     count+= len(tde_sq)\n",
    "\n",
    "   avg=total/count\n",
    "   return avg"
   ]
  },
  {
   "cell_type": "code",
   "execution_count": 55,
   "metadata": {
    "id": "-ZdCmZAG7wNh"
   },
   "outputs": [],
   "source": [
    "#initializing the value function\n",
    "def init_Val(val):\n",
    "  for i in range(0,6):\n",
    "    for j in range(0,6):\n",
    "       state=(i,j)\n",
    "       if state != HOLES[0] and state != HOLES[1]:\n",
    "         val[state]=0\n",
    "       else:\n",
    "         val[state]=\"NA\""
   ]
  },
  {
   "cell_type": "code",
   "execution_count": 34,
   "metadata": {
    "id": "K_W6h_J_wYqH"
   },
   "outputs": [],
   "source": [
    "policy=random_policy()\n",
    "alphas=np.linspace(0.001, 0.2, num=200)\n",
    "avg_tde = []\n",
    "V = {} \n",
    "for a in alphas:\n",
    "  init_Val(V)\n",
    "  TD_sim(100, a, update=True) #estimating using td\n",
    "  avg_tde.append(TD_sim(100, a, update=False)) #for plotting (no update)\n",
    "    "
   ]
  },
  {
   "cell_type": "code",
   "execution_count": 35,
   "metadata": {
    "colab": {
     "base_uri": "https://localhost:8080/",
     "height": 281
    },
    "id": "vo2fnZmgH6Uj",
    "outputId": "2a1879fc-34f9-41e5-f45a-39b52b0d17f4"
   },
   "outputs": [
    {
     "data": {
      "image/png": "[encoded data removed]",
      "text/plain": [
       "<Figure size 432x288 with 1 Axes>"
      ]
     },
     "metadata": {
      "needs_background": "light",
      "tags": []
     },
     "output_type": "display_data"
    }
   ],
   "source": [
    "plt.title(\"Averaged TD squared error on log scale\")\n",
    "plt.plot(alphas,np.log(avg_tde))\n",
    "plt.show()"
   ]
  },
  {
   "cell_type": "markdown",
   "metadata": {
    "id": "PeXQpfdB9WP7"
   },
   "source": [
    "\n",
    "\n",
    "Here 'alpha' and 'gamma' refer to their usual meaning i.e. the step size and the discount rate.'e' refers to the epsilon value.\n",
    "\n",
    "**Tabular Estimation**"
   ]
  },
  {
   "cell_type": "code",
   "execution_count": 20,
   "metadata": {
    "id": "vEMEru0NI1sU"
   },
   "outputs": [],
   "source": [
    "def init_actval(Q):\n",
    "  for a in Actions:\n",
    "    for i in range(0,6):\n",
    "      for j in range(0,6):\n",
    "          if (i, j) != HOLES[0] and (i, j) != HOLES[1] and (i,j)!=TER_STATE:\n",
    "              Q[(i,j),a]=np.random.random()\n",
    "          else:\n",
    "              Q[(i,j),a]=0"
   ]
  },
  {
   "cell_type": "code",
   "execution_count": 57,
   "metadata": {
    "id": "DAalH4qYI-55"
   },
   "outputs": [],
   "source": [
    "Q={}\n",
    "init_actval(Q)"
   ]
  },
  {
   "cell_type": "code",
   "execution_count": 61,
   "metadata": {
    "id": "7G0zkjqSyRGi"
   },
   "outputs": [],
   "source": [
    "def init_policy():\n",
    "  policy={}\n",
    "  for i in range(0,6):\n",
    "    for j in range(0,6):\n",
    "      if (i,j) != HOLES[0] and  (i,j)!= HOLES[1]:\n",
    "        policy[(i,j)]=[0, 0, 0, 0]\n",
    "  return policy"
   ]
  },
  {
   "cell_type": "code",
   "execution_count": 12,
   "metadata": {
    "id": "pjlnUPdK8PhZ"
   },
   "outputs": [],
   "source": [
    "def update_policy(Q,e,policy):#Policy update according to the epsilon-greedy policy\n",
    "    for s in policy:\n",
    "        argmax=\"U\"\n",
    "        max=Q[s,\"U\"]\n",
    "        for a in Actions:\n",
    "            if Q[s,a]>max:\n",
    "                argmax = a\n",
    "                max = Q[s,a]\n",
    "        P =[e/4,e/4,e/4,e/4]\n",
    "        maxi = Actions.index(argmax)\n",
    "        P[maxi]+= 1-e\n",
    "        policy[s] = P"
   ]
  },
  {
   "cell_type": "code",
   "execution_count": 62,
   "metadata": {
    "id": "cH0gZCMI8U2U"
   },
   "outputs": [],
   "source": [
    "def sarsa_episode(Q,alpha,e): \n",
    "    rew = 0\n",
    "    S=START_STATE\n",
    "    while S!= TER_STATE:\n",
    "      A = np.random.choice(Actions, p=policy[S]) \n",
    "      S0 = nxtState(S,A)\n",
    "      R = return_reward(S0)\n",
    "      rew+=R\n",
    "      A0=np.random.choice(Actions, p=policy[S0])\n",
    "      Q[(S,A)]=Q[(S,A)]+alpha*(R+0.9*Q[(S0,A0)]-Q[(S,A)])\n",
    "      S=S0\n",
    "      update_policy(Q,e,policy)\n",
    "    return rew"
   ]
  },
  {
   "cell_type": "code",
   "execution_count": 63,
   "metadata": {
    "id": "j-87ufhZ8u2X"
   },
   "outputs": [],
   "source": [
    "def sarsa(episodes,alpha,e):\n",
    "   init_actval(Q)\n",
    "   update_policy(Q, e, policy)#first update is a random epsilon greedy policy since our Qvalues are random\n",
    "   rewards=[]\n",
    "   for i in range(episodes):\n",
    "       rewards.append(sarsa_episode(Q, alpha, e))\n",
    "   return rewards"
   ]
  },
  {
   "cell_type": "code",
   "execution_count": 20,
   "metadata": {
    "id": "Iy-xYZV08yge"
   },
   "outputs": [],
   "source": [
    "def Qlearning_epi(Q,alpha,e):\n",
    "    S = START_STATE\n",
    "    rew = 0\n",
    "    while S!=TER_STATE:\n",
    "      A=np.random.choice(Actions, p=policy[S])\n",
    "      S0=nxtState(S,A)\n",
    "      R = return_reward(S0)\n",
    "      rew+=R\n",
    "      maxQ = max([Q[S0,a] for a in Actions])\n",
    "      Q[S,A]=Q[S,A] + alpha*(R+0.9*maxQ-Q[S,A])\n",
    "      S=S0\n",
    "      update_policy(Q, e, policy)\n",
    "    return rew"
   ]
  },
  {
   "cell_type": "code",
   "execution_count": 21,
   "metadata": {
    "id": "p349ixJ8870D"
   },
   "outputs": [],
   "source": [
    "def Qlearning(episodes,alpha,e):\n",
    "    init_actval(Q)\n",
    "    update_policy(Q, e, policy)#first epsilon greedy policy according to random Q values\n",
    "    rewards = []\n",
    "    for i in range(episodes):\n",
    "        rewards.append(Qlearning_epi(Q, alpha, e))\n",
    "    return rewards"
   ]
  },
  {
   "cell_type": "markdown",
   "metadata": {
    "id": "Y7eq-TiM-DnB"
   },
   "source": [
    "Here I found step_size alpha=0.2 and epsilon=0.1 works wells."
   ]
  },
  {
   "cell_type": "code",
   "execution_count": 25,
   "metadata": {
    "colab": {
     "base_uri": "https://localhost:8080/"
    },
    "id": "T0yRcAGe9FKY",
    "outputId": "669eb87b-c400-4a2b-d176-e1221089e253"
   },
   "outputs": [
    {
     "name": "stderr",
     "output_type": "stream",
     "text": [
      "100%|██████████| 1000/1000 [28:00<00:00,  1.68s/it]\n"
     ]
    }
   ],
   "source": [
    "policy = init_policy()\n",
    "\n",
    "episodes=np.arange(1,201)\n",
    "rewards_SARSA=np.zeros(200)\n",
    "rewards_Qlearning=np.zeros(200)\n",
    "for i in tqdm(range(1000)):\n",
    "    rewards_SARSA+=np.array(sarsa(200,0.2,0.1))\n",
    "    rewards_Qlearning+=np.array(Qlearning(200,0.2,0.1))\n",
    "rewards_SARSA/=1000\n",
    "rewards_Qlearning/=1000"
   ]
  },
  {
   "cell_type": "markdown",
   "metadata": {
    "id": "iZv5wHf-BUnG"
   },
   "source": [
    "Plot of both SARSA and QLearning using tabular estimation"
   ]
  },
  {
   "cell_type": "code",
   "execution_count": 26,
   "metadata": {
    "colab": {
     "base_uri": "https://localhost:8080/",
     "height": 281
    },
    "id": "P2EiNlcmZTng",
    "outputId": "8a37f59d-b535-4960-efde-e11583db20fd"
   },
   "outputs": [
    {
     "data": {
      "image/png": "[encoded data removed]",
      "text/plain": [
       "<Figure size 432x288 with 1 Axes>"
      ]
     },
     "metadata": {
      "needs_background": "light",
      "tags": []
     },
     "output_type": "display_data"
    }
   ],
   "source": [
    "plt.title(\"Average return over episodes (Tabular)\")\n",
    "plt.plot(episodes,rewards_SARSA,label=\"SARSA\")\n",
    "plt.plot(episodes,rewards_Qlearning,label=\"Qlearning\")\n",
    "plt.legend()\n",
    "plt.show()"
   ]
  },
  {
   "cell_type": "markdown",
   "metadata": {
    "id": "FTrmVdZI-QTw"
   },
   "source": [
    "**Linear Approximation**\n",
    "\n",
    "I am using the state-action pair as a linear combination. We have a total of 144 such combination (36 states and 4 action for each state). I am using one hot encoding to get a 144 dim-vector for our linear approximation."
   ]
  },
  {
   "cell_type": "code",
   "execution_count": 64,
   "metadata": {
    "id": "qpw4joUvZugK"
   },
   "outputs": [],
   "source": [
    "l=list(Q.keys())\n",
    "def encode(S,A):\n",
    "   X=np.zeros(144)\n",
    "   np.put(X,l.index((S,A)),1)\n",
    "   return X\n",
    "\n"
   ]
  },
  {
   "cell_type": "code",
   "execution_count": 65,
   "metadata": {
    "id": "N8V7x-uWZ8Eg"
   },
   "outputs": [],
   "source": [
    "#We get Q value as linear combination of weights and encoding\n",
    "def updateQ(weights):\n",
    "    Q={}\n",
    "    for a in Actions:\n",
    "        for i in range(0, 6):\n",
    "            for j in range(0, 6):\n",
    "                if (i, j) != (3, 2) and (i, j) != (4, 2):\n",
    "                    Q[(i, j), a] = np.dot(weights,encode(i,j))\n",
    "    return Q"
   ]
  },
  {
   "cell_type": "markdown",
   "metadata": {
    "id": "TUFxtTqgAFPp"
   },
   "source": [
    "Implementing the SARSA semi-gradient algorithm"
   ]
  },
  {
   "cell_type": "code",
   "execution_count": 85,
   "metadata": {
    "id": "TvrTKytdaPTK"
   },
   "outputs": [],
   "source": [
    "def sarsa_gradient_epi(alpha,e,weights):\n",
    "    rew = 0\n",
    "    S = START_STATE\n",
    "    while S != TER_STATE:\n",
    "        A = np.random.choice(Actions, p=policy[S]) \n",
    "        S0 = nxtState(S,A)\n",
    "        R = return_reward(S0)\n",
    "        rew+= R\n",
    "        A0 = np.random.choice(Actions, p=policy[S0])\n",
    "        delta = R + 0.9*(weights[l.index((S0,A0))]-weights[l.index((S,A))])\n",
    "        weights+= alpha*delta*encode(S,A)\n",
    "        S=S0\n",
    "        Q=updateQ(weights)\n",
    "        update_policy(Q,e,policy)\n",
    "    return rew "
   ]
  },
  {
   "cell_type": "code",
   "execution_count": 86,
   "metadata": {
    "id": "LEh_JUwaaoJn"
   },
   "outputs": [],
   "source": [
    "\n",
    "def sarsa_gradient(episodes,alpha,e):\n",
    "    Q={}\n",
    "    init_actval(Q)\n",
    "    weights=np.zeros(144)\n",
    "    Q = updateQ(weights)\n",
    "    #random epsilon greedy policy\n",
    "    for s in policy:\n",
    "        P = [e / 4, e / 4, e / 4, e / 4]\n",
    "        x = np.random.choice([0, 1, 2, 3], p=[0.25, 0.25, 0.25, 0.25])\n",
    "        P[x]+= 1 - e\n",
    "        policy[s] = P\n",
    "    rewards = []\n",
    "    for i in range(episodes):\n",
    "        rew = sarsa_gradient_epi(alpha, e,weights)\n",
    "        rewards.append(rew)\n",
    "    return rewards"
   ]
  },
  {
   "cell_type": "markdown",
   "metadata": {
    "id": "SATqPbDqBK55"
   },
   "source": [
    "Implementing the Q-learning semi-gradient algorithm"
   ]
  },
  {
   "cell_type": "code",
   "execution_count": 87,
   "metadata": {
    "id": "_7WaqbMaawL5"
   },
   "outputs": [],
   "source": [
    "def qlearning_gradient_epi(alpha,e,weights):\n",
    "    rew = 0\n",
    "    S = START_STATE\n",
    "    while S != TER_STATE:\n",
    "        A = np.random.choice(Actions, p=policy[S])  # choose action according to the policy\n",
    "        S0=nxtState(S,A)\n",
    "        R = return_reward(S0)\n",
    "        rew+= R\n",
    "        Qhat= [q(S,a,weights) for a in Actions]\n",
    "        delta = (R + 0.9 *(max(Qhat) - q(S,A,weights)))\n",
    "        weights+= alpha * delta * encode(S, A)\n",
    "        S=S0\n",
    "        Q = updateQ(weights)\n",
    "        update_policy(Q, e, policy)\n",
    "\n",
    "    return rew"
   ]
  },
  {
   "cell_type": "code",
   "execution_count": 88,
   "metadata": {
    "id": "VeI41KLZa-ue"
   },
   "outputs": [],
   "source": [
    "def Qlearning_gradient(episodes,alpha,e):\n",
    "    Q={}\n",
    "    init_actval(Q)\n",
    "    weights = np.zeros(144)\n",
    "    Q = updateQ(weights)\n",
    "    for s in policy: #random intial policy\n",
    "        P = [e / 4, e / 4, e / 4, e / 4]\n",
    "        x = np.random.choice([0, 1, 2, 3], p=[0.25, 0.25, 0.25, 0.25])\n",
    "        P[x]+= 1 - e\n",
    "        policy[s] = P\n",
    "    rewards = []\n",
    "    for i in range(episodes):\n",
    "        rew = qlearning_gradient_epi(alpha,e,weights)\n",
    "        rewards.append(rew)\n",
    "    return rewards"
   ]
  },
  {
   "cell_type": "markdown",
   "metadata": {
    "id": "HPNvPbRyEA64"
   },
   "source": [
    "Here again, I found that step_size alpha=0.2 and epsilon=0.1 works wells. So have again used it for plotting rewards."
   ]
  },
  {
   "cell_type": "code",
   "execution_count": 89,
   "metadata": {
    "id": "ybGQiPRbbLmh"
   },
   "outputs": [],
   "source": [
    "policy =  init_policy()\n",
    "Q={}\n",
    "init_actval(Q)\n",
    "rewards_SARSA = np.zeros(200)\n",
    "rewards_Qlearning = np.zeros(200)\n",
    "for i in range(1000):\n",
    "    rewards_SARSA+=np.array(sarsa_gradient(200, 0.2, 0.1))\n",
    "    rewards_Qlearning+= np.array(Qlearning_gradient(200, 0.2, 0.1))\n",
    "rewards_SARSA/=1000\n",
    "rewards_Qlearning/=1000"
   ]
  },
  {
   "cell_type": "markdown",
   "metadata": {
    "id": "gb-q7BheENks"
   },
   "source": [
    "Plot of both SARSA and QLearning algorithms for average reward over episodes using linear approximation."
   ]
  },
  {
   "cell_type": "code",
   "execution_count": 92,
   "metadata": {
    "colab": {
     "base_uri": "https://localhost:8080/",
     "height": 281
    },
    "id": "H2xzqMmzlzgr",
    "outputId": "ed655c19-e53b-4786-be9e-01976170f438"
   },
   "outputs": [
    {
     "data": {
      "image/png": "[encoded data removed]",
      "text/plain": [
       "<Figure size 432x288 with 1 Axes>"
      ]
     },
     "metadata": {
      "needs_background": "light",
      "tags": []
     },
     "output_type": "display_data"
    }
   ],
   "source": [
    "plt.title(\"Average return over episodes (Linear Approximation)\")\n",
    "plt.plot(episodes,rewards_SARSA,label=\"SARSA\")\n",
    "plt.plot(episodes,rewards_Qlearning,label=\"Qlearning\")\n",
    "plt.ylim(-15,20)\n",
    "plt.legend()\n",
    "plt.show()"
   ]
  },
  {
   "cell_type": "code",
   "execution_count": 1,
   "metadata": {
    "id": "rkMRGYZcfAX6"
   },
   "outputs": [],
   "source": [
    "def is_legal(state): \n",
    "    if state[0]<1 or state[0]>4 or state[1]<1 or state[1]>12:\n",
    "        return False \n",
    "    return True"
   ]
  },
  {
   "cell_type": "code",
   "execution_count": 4,
   "metadata": {
    "id": "fdpl5TdjmPUe"
   },
   "outputs": [],
   "source": [
    "def movement(S,A):\n",
    "    if A=='U':\n",
    "        return S[0],S[1]+1\n",
    "    elif A=='D':\n",
    "        return S[0],S[1]-1\n",
    "    elif A=='L':\n",
    "        return S[0]-1,S[1]\n",
    "    elif A=='R':\n",
    "        return S[0]+1,S[1]\n",
    "    else:\n",
    "        return S[0],S[1]"
   ]
  },
  {
   "cell_type": "code",
   "execution_count": 24,
   "metadata": {
    "id": "Z2wp3beAjGmD"
   },
   "outputs": [],
   "source": [
    "Actions =[\"U\",\"L\",\"R\",\"D\"]\n",
    "START_STATE = (4,1)\n",
    "TER_STATE = (4,12)\n",
    "CLIFF=[]\n",
    "for j in range(2,12):\n",
    "    CLIFF.append((4,j))"
   ]
  },
  {
   "cell_type": "code",
   "execution_count": 34,
   "metadata": {
    "id": "GwuO9URVgsJH"
   },
   "outputs": [],
   "source": [
    "def nxtState(S, A):\n",
    "    reward = -1\n",
    "    nxt_state = movement(S,A)\n",
    "    if is_legal(nxt_state)==True:\n",
    "        S = nxt_state\n",
    "\n",
    "    if nxt_state in CLIFF:\n",
    "        S = (4,1)\n",
    "        reward=-100\n",
    "\n",
    "    return (S,reward)\n"
   ]
  },
  {
   "cell_type": "code",
   "execution_count": 32,
   "metadata": {
    "id": "H07d1V77hu2G"
   },
   "outputs": [],
   "source": [
    "policy={}\n",
    "def init_policy(e):\n",
    " for i in range (1,5):\n",
    "    for j in range(1,13):\n",
    "         P = [e/4, e/4, e/4, e/4]\n",
    "         x= np.random.randint(0, 4)\n",
    "         P[x]+=1-e\n",
    "         policy[(i,j)]=P"
   ]
  },
  {
   "cell_type": "code",
   "execution_count": 22,
   "metadata": {
    "id": "_buEZ8_oh4kb"
   },
   "outputs": [],
   "source": [
    "\n",
    "Q={}\n",
    "def init_actval(Q):\n",
    " for a in Actions:\n",
    "  for i in range(1,5):\n",
    "    for j in range(1,13):\n",
    "      if i==4 and j!=1:\n",
    "         Q[(i, j),a] = np.random.random()\n",
    "      else:\n",
    "         Q[(i, j),a] = 0"
   ]
  },
  {
   "cell_type": "markdown",
   "metadata": {
    "id": "FtM9uyi0Cy2t"
   },
   "source": [
    "Here I had to make some slight changes to the sarsa_episode and qleaning_episode function from the previous question to suit this problem. It is just due to the way nxtState function is implemented to return both reward and the next state "
   ]
  },
  {
   "cell_type": "code",
   "execution_count": 13,
   "metadata": {
    "id": "Du0fs8kOi0nK"
   },
   "outputs": [],
   "source": [
    "def sarsa_episode(Q,alpha,e):   \n",
    "    rew = 0\n",
    "    S=START_STATE\n",
    "    while S!= TER_STATE:\n",
    "      A = np.random.choice(Actions, p=policy[S]) \n",
    "      S0,R = nxtState(S,A)\n",
    "      rew+=R\n",
    "      A0=np.random.choice(Actions, p=policy[S0])\n",
    "      Q[(S,A)]=Q[(S,A)]+alpha*(R+0.9*Q[(S0,A0)]-Q[(S,A)])\n",
    "      S=S0\n",
    "      update_policy(Q,e,policy)\n",
    "    return rew"
   ]
  },
  {
   "cell_type": "code",
   "execution_count": 29,
   "metadata": {
    "id": "XPpl7QhRlSmp"
   },
   "outputs": [],
   "source": [
    "def sarsa(episodes,alpha,e):\n",
    "   init_actval(Q)\n",
    "   update_policy(Q, e, policy) #epsilon-greedy policy according to random intial Qvalues\n",
    "   rewards=[]\n",
    "   for i in range(episodes):\n",
    "       rewards.append(sarsa_episode(Q, alpha, e))\n",
    "   return rewards"
   ]
  },
  {
   "cell_type": "code",
   "execution_count": 17,
   "metadata": {
    "id": "S_RIaZ6Wla6F"
   },
   "outputs": [],
   "source": [
    "def Qlearning_epi(Q,alpha,e):\n",
    "    S = START_STATE\n",
    "    rew = 0\n",
    "    while S!=TER_STATE:\n",
    "      A=np.random.choice(Actions, p=policy[S])\n",
    "      S0,R = nxtState(S,A)\n",
    "      rew+=R\n",
    "      maxQ = max([Q[S0,a] for a in Actions])\n",
    "      Q[S,A]=Q[S,A] + alpha*(R+0.9*maxQ-Q[S,A])\n",
    "      S=S0\n",
    "      update_policy(Q, e, policy)\n",
    "    return rew"
   ]
  },
  {
   "cell_type": "code",
   "execution_count": 30,
   "metadata": {
    "id": "eoyvzbm-lcvg"
   },
   "outputs": [],
   "source": [
    "def Qlearning(episodes,alpha,e):\n",
    "    init_actval(Q)\n",
    "    update_policy(Q, e, policy)#epsilon-greedy policy according to random intial Qvalues\n",
    "    rewards = []\n",
    "    for i in range(episodes):\n",
    "        rewards.append(Qlearning_epi(Q, alpha, e))\n",
    "    return rewards"
   ]
  },
  {
   "cell_type": "markdown",
   "metadata": {
    "id": "fbOegc4dDajG"
   },
   "source": [
    "Plot of average rewards over espiodes to see how Qlearning and SARSA algorithm perform for different values of epsilon."
   ]
  },
  {
   "cell_type": "code",
   "execution_count": 47,
   "metadata": {
    "colab": {
     "base_uri": "https://localhost:8080/",
     "height": 809
    },
    "id": "NwNL-toAlU9N",
    "outputId": "7527d825-c036-4907-aa00-c2f8f15fb208"
   },
   "outputs": [
    {
     "data": {
      "image/png": "[encoded data removed]",
      "text/plain": [
       "<Figure size 432x288 with 1 Axes>"
      ]
     },
     "metadata": {
      "needs_background": "light",
      "tags": []
     },
     "output_type": "display_data"
    },
    {
     "data": {
      "image/png": "[encoded data removed]",
      "text/plain": [
       "<Figure size 432x288 with 1 Axes>"
      ]
     },
     "metadata": {
      "needs_background": "light",
      "tags": []
     },
     "output_type": "display_data"
    },
    {
     "data": {
      "image/png": "[encoded data removed]",
      "text/plain": [
       "<Figure size 432x288 with 1 Axes>"
      ]
     },
     "metadata": {
      "needs_background": "light",
      "tags": []
     },
     "output_type": "display_data"
    }
   ],
   "source": [
    "epsilon = [0.01,0.05,0.1]\n",
    "episodes=np.arange(1,101)\n",
    "for i in range(len(epsilon)):\n",
    "  rewards_SARSA=np.zeros(100)\n",
    "  rewards_Qlearning=np.zeros(100)\n",
    "  for j in range(1000):\n",
    "    rewards_SARSA+= np.array(sarsa(100,0.1,epsilon[i])) \n",
    "    rewards_Qlearning+= np.array(Qlearning(100,0.1,epsilon[i]))\n",
    "  rewards_SARSA/=1000\n",
    "  rewards_Qlearning/=1000\n",
    "  tit = \"Average return over episode: Epsilon=\"+str(epsilon[i])\n",
    "  plt.figure(i)\n",
    "  plt.title(tit)\n",
    "  plt.plot(episodes,rewards_SARSA,label=\"Sarsa\")\n",
    "  plt.plot(episodes,rewards_Qlearning,label=\"Qlearn\")\n",
    "  plt.ylim(-500,5)\n",
    "  plt.legend()\n",
    "  plt.show()"
   ]
  }
 ],
 "metadata": {
  "colab": {
   "name": "Rishabh_RL3.ipynb",
   "provenance": [],
   "toc_visible": true
  },
  "kernelspec": {
   "display_name": "Python 3",
   "language": "python",
   "name": "python3"
  },
  "language_info": {
   "codemirror_mode": {
    "name": "ipython",
    "version": 3
   },
   "file_extension": ".py",
   "mimetype": "text/x-python",
   "name": "python",
   "nbconvert_exporter": "python",
   "pygments_lexer": "ipython3",
   "version": "3.7.6"
  }
 },
 "nbformat": 4,
 "nbformat_minor": 1
}
