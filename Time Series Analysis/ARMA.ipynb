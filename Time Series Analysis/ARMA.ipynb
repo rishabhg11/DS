{
 "cells": [
  {
   "cell_type": "markdown",
   "metadata": {},
   "source": [
    "# TIME SERIES ANALYSIS"
   ]
  },
  {
   "cell_type": "markdown",
   "metadata": {},
   "source": [
    "**ARIMA**\n",
    "\n",
    "    "
   ]
  },
  {
   "cell_type": "code",
   "execution_count": 1,
   "metadata": {},
   "outputs": [],
   "source": [
    "import pandas as pd\n",
    "import numpy as np\n",
    "import warnings\n",
    "import matplotlib.pyplot as plt\n",
    "from statsmodels.tsa.arima_model import ARMA\n",
    "from arch.unitroot import PhillipsPerron,KPSS,ADF"
   ]
  },
  {
   "cell_type": "markdown",
   "metadata": {},
   "source": [
    "**DATASET**\n",
    "<br>\n",
    "Dataset used here is the 2019 data of daily electricity consumption (in MWh) in each state in India. We want to forecast energy needs in the future.\n"
   ]
  },
  {
   "cell_type": "code",
   "execution_count": 3,
   "metadata": {},
   "outputs": [
    {
     "data": {
      "text/html": [
       "<div>\n",
       "<style scoped>\n",
       "    .dataframe tbody tr th:only-of-type {\n",
       "        vertical-align: middle;\n",
       "    }\n",
       "\n",
       "    .dataframe tbody tr th {\n",
       "        vertical-align: top;\n",
       "    }\n",
       "\n",
       "    .dataframe thead th {\n",
       "        text-align: right;\n",
       "    }\n",
       "</style>\n",
       "<table border=\"1\" class=\"dataframe\">\n",
       "  <thead>\n",
       "    <tr style=\"text-align: right;\">\n",
       "      <th></th>\n",
       "      <th>Unnamed: 0</th>\n",
       "      <th>Punjab</th>\n",
       "      <th>Haryana</th>\n",
       "      <th>Rajasthan</th>\n",
       "      <th>Delhi</th>\n",
       "      <th>UP</th>\n",
       "      <th>Uttarakhand</th>\n",
       "      <th>HP</th>\n",
       "      <th>J&amp;K</th>\n",
       "      <th>Chandigarh</th>\n",
       "      <th>...</th>\n",
       "      <th>Odisha</th>\n",
       "      <th>West Bengal</th>\n",
       "      <th>Sikkim</th>\n",
       "      <th>Arunachal Pradesh</th>\n",
       "      <th>Assam</th>\n",
       "      <th>Manipur</th>\n",
       "      <th>Meghalaya</th>\n",
       "      <th>Mizoram</th>\n",
       "      <th>Nagaland</th>\n",
       "      <th>Tripura</th>\n",
       "    </tr>\n",
       "  </thead>\n",
       "  <tbody>\n",
       "    <tr>\n",
       "      <th>0</th>\n",
       "      <td>02/01/2019 00:00:00</td>\n",
       "      <td>119.9</td>\n",
       "      <td>130.3</td>\n",
       "      <td>234.1</td>\n",
       "      <td>85.8</td>\n",
       "      <td>313.9</td>\n",
       "      <td>40.7</td>\n",
       "      <td>30.0</td>\n",
       "      <td>52.5</td>\n",
       "      <td>5.0</td>\n",
       "      <td>...</td>\n",
       "      <td>70.2</td>\n",
       "      <td>108.2</td>\n",
       "      <td>2.0</td>\n",
       "      <td>2.1</td>\n",
       "      <td>21.7</td>\n",
       "      <td>2.7</td>\n",
       "      <td>6.1</td>\n",
       "      <td>1.9</td>\n",
       "      <td>2.2</td>\n",
       "      <td>3.4</td>\n",
       "    </tr>\n",
       "    <tr>\n",
       "      <th>1</th>\n",
       "      <td>03/01/2019 00:00:00</td>\n",
       "      <td>121.9</td>\n",
       "      <td>133.5</td>\n",
       "      <td>240.2</td>\n",
       "      <td>85.5</td>\n",
       "      <td>311.8</td>\n",
       "      <td>39.3</td>\n",
       "      <td>30.1</td>\n",
       "      <td>54.1</td>\n",
       "      <td>4.9</td>\n",
       "      <td>...</td>\n",
       "      <td>67.9</td>\n",
       "      <td>110.2</td>\n",
       "      <td>1.9</td>\n",
       "      <td>2.2</td>\n",
       "      <td>23.4</td>\n",
       "      <td>2.4</td>\n",
       "      <td>6.5</td>\n",
       "      <td>1.8</td>\n",
       "      <td>2.2</td>\n",
       "      <td>3.6</td>\n",
       "    </tr>\n",
       "    <tr>\n",
       "      <th>2</th>\n",
       "      <td>04/01/2019 00:00:00</td>\n",
       "      <td>118.8</td>\n",
       "      <td>128.2</td>\n",
       "      <td>239.8</td>\n",
       "      <td>83.5</td>\n",
       "      <td>320.7</td>\n",
       "      <td>38.1</td>\n",
       "      <td>30.1</td>\n",
       "      <td>53.2</td>\n",
       "      <td>4.8</td>\n",
       "      <td>...</td>\n",
       "      <td>66.3</td>\n",
       "      <td>106.8</td>\n",
       "      <td>1.7</td>\n",
       "      <td>2.2</td>\n",
       "      <td>21.7</td>\n",
       "      <td>2.4</td>\n",
       "      <td>6.3</td>\n",
       "      <td>1.7</td>\n",
       "      <td>2.2</td>\n",
       "      <td>3.5</td>\n",
       "    </tr>\n",
       "    <tr>\n",
       "      <th>3</th>\n",
       "      <td>05/01/2019 00:00:00</td>\n",
       "      <td>121.0</td>\n",
       "      <td>127.5</td>\n",
       "      <td>239.1</td>\n",
       "      <td>79.2</td>\n",
       "      <td>299.0</td>\n",
       "      <td>39.2</td>\n",
       "      <td>30.2</td>\n",
       "      <td>51.5</td>\n",
       "      <td>4.3</td>\n",
       "      <td>...</td>\n",
       "      <td>65.8</td>\n",
       "      <td>107.0</td>\n",
       "      <td>2.0</td>\n",
       "      <td>2.2</td>\n",
       "      <td>22.5</td>\n",
       "      <td>2.7</td>\n",
       "      <td>5.7</td>\n",
       "      <td>1.8</td>\n",
       "      <td>2.3</td>\n",
       "      <td>3.5</td>\n",
       "    </tr>\n",
       "    <tr>\n",
       "      <th>4</th>\n",
       "      <td>06/01/2019 00:00:00</td>\n",
       "      <td>121.4</td>\n",
       "      <td>132.6</td>\n",
       "      <td>240.4</td>\n",
       "      <td>76.6</td>\n",
       "      <td>286.8</td>\n",
       "      <td>39.2</td>\n",
       "      <td>31.0</td>\n",
       "      <td>53.2</td>\n",
       "      <td>4.3</td>\n",
       "      <td>...</td>\n",
       "      <td>62.9</td>\n",
       "      <td>106.4</td>\n",
       "      <td>2.0</td>\n",
       "      <td>2.2</td>\n",
       "      <td>21.7</td>\n",
       "      <td>2.7</td>\n",
       "      <td>6.2</td>\n",
       "      <td>1.9</td>\n",
       "      <td>2.3</td>\n",
       "      <td>3.3</td>\n",
       "    </tr>\n",
       "    <tr>\n",
       "      <th>...</th>\n",
       "      <td>...</td>\n",
       "      <td>...</td>\n",
       "      <td>...</td>\n",
       "      <td>...</td>\n",
       "      <td>...</td>\n",
       "      <td>...</td>\n",
       "      <td>...</td>\n",
       "      <td>...</td>\n",
       "      <td>...</td>\n",
       "      <td>...</td>\n",
       "      <td>...</td>\n",
       "      <td>...</td>\n",
       "      <td>...</td>\n",
       "      <td>...</td>\n",
       "      <td>...</td>\n",
       "      <td>...</td>\n",
       "      <td>...</td>\n",
       "      <td>...</td>\n",
       "      <td>...</td>\n",
       "      <td>...</td>\n",
       "      <td>...</td>\n",
       "    </tr>\n",
       "    <tr>\n",
       "      <th>354</th>\n",
       "      <td>27/12/2019 00:00:00</td>\n",
       "      <td>103.7</td>\n",
       "      <td>110.4</td>\n",
       "      <td>211.4</td>\n",
       "      <td>63.8</td>\n",
       "      <td>229.9</td>\n",
       "      <td>33.4</td>\n",
       "      <td>29.3</td>\n",
       "      <td>44.2</td>\n",
       "      <td>3.8</td>\n",
       "      <td>...</td>\n",
       "      <td>79.8</td>\n",
       "      <td>112.0</td>\n",
       "      <td>1.7</td>\n",
       "      <td>2.0</td>\n",
       "      <td>20.1</td>\n",
       "      <td>2.6</td>\n",
       "      <td>5.8</td>\n",
       "      <td>2.0</td>\n",
       "      <td>2.1</td>\n",
       "      <td>3.4</td>\n",
       "    </tr>\n",
       "    <tr>\n",
       "      <th>355</th>\n",
       "      <td>28/12/2019 00:00:00</td>\n",
       "      <td>97.2</td>\n",
       "      <td>101.7</td>\n",
       "      <td>212.7</td>\n",
       "      <td>62.0</td>\n",
       "      <td>234.2</td>\n",
       "      <td>32.7</td>\n",
       "      <td>27.6</td>\n",
       "      <td>47.7</td>\n",
       "      <td>3.4</td>\n",
       "      <td>...</td>\n",
       "      <td>75.8</td>\n",
       "      <td>108.3</td>\n",
       "      <td>1.6</td>\n",
       "      <td>2.0</td>\n",
       "      <td>19.7</td>\n",
       "      <td>2.5</td>\n",
       "      <td>6.0</td>\n",
       "      <td>1.7</td>\n",
       "      <td>2.1</td>\n",
       "      <td>3.4</td>\n",
       "    </tr>\n",
       "    <tr>\n",
       "      <th>356</th>\n",
       "      <td>29/12/2019 00:00:00</td>\n",
       "      <td>237.2</td>\n",
       "      <td>214.1</td>\n",
       "      <td>232.7</td>\n",
       "      <td>128.5</td>\n",
       "      <td>421.3</td>\n",
       "      <td>42.0</td>\n",
       "      <td>29.9</td>\n",
       "      <td>40.0</td>\n",
       "      <td>6.4</td>\n",
       "      <td>...</td>\n",
       "      <td>95.7</td>\n",
       "      <td>166.9</td>\n",
       "      <td>1.0</td>\n",
       "      <td>2.0</td>\n",
       "      <td>34.2</td>\n",
       "      <td>2.4</td>\n",
       "      <td>5.3</td>\n",
       "      <td>1.7</td>\n",
       "      <td>2.1</td>\n",
       "      <td>4.9</td>\n",
       "    </tr>\n",
       "    <tr>\n",
       "      <th>357</th>\n",
       "      <td>30/12/2019 00:00:00</td>\n",
       "      <td>251.9</td>\n",
       "      <td>220.1</td>\n",
       "      <td>246.5</td>\n",
       "      <td>126.9</td>\n",
       "      <td>437.4</td>\n",
       "      <td>43.3</td>\n",
       "      <td>31.6</td>\n",
       "      <td>42.8</td>\n",
       "      <td>6.4</td>\n",
       "      <td>...</td>\n",
       "      <td>99.2</td>\n",
       "      <td>173.9</td>\n",
       "      <td>1.1</td>\n",
       "      <td>2.3</td>\n",
       "      <td>35.0</td>\n",
       "      <td>2.4</td>\n",
       "      <td>5.6</td>\n",
       "      <td>1.8</td>\n",
       "      <td>2.1</td>\n",
       "      <td>4.9</td>\n",
       "    </tr>\n",
       "    <tr>\n",
       "      <th>358</th>\n",
       "      <td>31/12/2019 00:00:00</td>\n",
       "      <td>255.0</td>\n",
       "      <td>223.2</td>\n",
       "      <td>253.5</td>\n",
       "      <td>134.9</td>\n",
       "      <td>424.0</td>\n",
       "      <td>44.3</td>\n",
       "      <td>31.6</td>\n",
       "      <td>42.9</td>\n",
       "      <td>6.7</td>\n",
       "      <td>...</td>\n",
       "      <td>98.5</td>\n",
       "      <td>174.3</td>\n",
       "      <td>1.0</td>\n",
       "      <td>2.2</td>\n",
       "      <td>34.7</td>\n",
       "      <td>2.5</td>\n",
       "      <td>5.7</td>\n",
       "      <td>1.7</td>\n",
       "      <td>2.2</td>\n",
       "      <td>5.0</td>\n",
       "    </tr>\n",
       "  </tbody>\n",
       "</table>\n",
       "<p>359 rows × 34 columns</p>\n",
       "</div>"
      ],
      "text/plain": [
       "              Unnamed: 0  Punjab  Haryana  Rajasthan  Delhi     UP  \\\n",
       "0    02/01/2019 00:00:00   119.9    130.3      234.1   85.8  313.9   \n",
       "1    03/01/2019 00:00:00   121.9    133.5      240.2   85.5  311.8   \n",
       "2    04/01/2019 00:00:00   118.8    128.2      239.8   83.5  320.7   \n",
       "3    05/01/2019 00:00:00   121.0    127.5      239.1   79.2  299.0   \n",
       "4    06/01/2019 00:00:00   121.4    132.6      240.4   76.6  286.8   \n",
       "..                   ...     ...      ...        ...    ...    ...   \n",
       "354  27/12/2019 00:00:00   103.7    110.4      211.4   63.8  229.9   \n",
       "355  28/12/2019 00:00:00    97.2    101.7      212.7   62.0  234.2   \n",
       "356  29/12/2019 00:00:00   237.2    214.1      232.7  128.5  421.3   \n",
       "357  30/12/2019 00:00:00   251.9    220.1      246.5  126.9  437.4   \n",
       "358  31/12/2019 00:00:00   255.0    223.2      253.5  134.9  424.0   \n",
       "\n",
       "     Uttarakhand    HP   J&K  Chandigarh  ...  Odisha  West Bengal  Sikkim  \\\n",
       "0           40.7  30.0  52.5         5.0  ...    70.2        108.2     2.0   \n",
       "1           39.3  30.1  54.1         4.9  ...    67.9        110.2     1.9   \n",
       "2           38.1  30.1  53.2         4.8  ...    66.3        106.8     1.7   \n",
       "3           39.2  30.2  51.5         4.3  ...    65.8        107.0     2.0   \n",
       "4           39.2  31.0  53.2         4.3  ...    62.9        106.4     2.0   \n",
       "..           ...   ...   ...         ...  ...     ...          ...     ...   \n",
       "354         33.4  29.3  44.2         3.8  ...    79.8        112.0     1.7   \n",
       "355         32.7  27.6  47.7         3.4  ...    75.8        108.3     1.6   \n",
       "356         42.0  29.9  40.0         6.4  ...    95.7        166.9     1.0   \n",
       "357         43.3  31.6  42.8         6.4  ...    99.2        173.9     1.1   \n",
       "358         44.3  31.6  42.9         6.7  ...    98.5        174.3     1.0   \n",
       "\n",
       "     Arunachal Pradesh  Assam  Manipur  Meghalaya  Mizoram  Nagaland  Tripura  \n",
       "0                  2.1   21.7      2.7        6.1      1.9       2.2      3.4  \n",
       "1                  2.2   23.4      2.4        6.5      1.8       2.2      3.6  \n",
       "2                  2.2   21.7      2.4        6.3      1.7       2.2      3.5  \n",
       "3                  2.2   22.5      2.7        5.7      1.8       2.3      3.5  \n",
       "4                  2.2   21.7      2.7        6.2      1.9       2.3      3.3  \n",
       "..                 ...    ...      ...        ...      ...       ...      ...  \n",
       "354                2.0   20.1      2.6        5.8      2.0       2.1      3.4  \n",
       "355                2.0   19.7      2.5        6.0      1.7       2.1      3.4  \n",
       "356                2.0   34.2      2.4        5.3      1.7       2.1      4.9  \n",
       "357                2.3   35.0      2.4        5.6      1.8       2.1      4.9  \n",
       "358                2.2   34.7      2.5        5.7      1.7       2.2      5.0  \n",
       "\n",
       "[359 rows x 34 columns]"
      ]
     },
     "execution_count": 3,
     "metadata": {},
     "output_type": "execute_result"
    }
   ],
   "source": [
    "data=pd.read_csv('dataset_tk.csv')\n",
    "data"
   ]
  },
  {
   "cell_type": "code",
   "execution_count": 4,
   "metadata": {},
   "outputs": [
    {
     "data": {
      "text/html": [
       "<div>\n",
       "<style scoped>\n",
       "    .dataframe tbody tr th:only-of-type {\n",
       "        vertical-align: middle;\n",
       "    }\n",
       "\n",
       "    .dataframe tbody tr th {\n",
       "        vertical-align: top;\n",
       "    }\n",
       "\n",
       "    .dataframe thead th {\n",
       "        text-align: right;\n",
       "    }\n",
       "</style>\n",
       "<table border=\"1\" class=\"dataframe\">\n",
       "  <thead>\n",
       "    <tr style=\"text-align: right;\">\n",
       "      <th></th>\n",
       "      <th>Punjab</th>\n",
       "      <th>Haryana</th>\n",
       "      <th>Rajasthan</th>\n",
       "      <th>Delhi</th>\n",
       "      <th>UP</th>\n",
       "      <th>Uttarakhand</th>\n",
       "      <th>HP</th>\n",
       "      <th>J&amp;K</th>\n",
       "      <th>Chandigarh</th>\n",
       "      <th>Chhattisgarh</th>\n",
       "      <th>...</th>\n",
       "      <th>Sikkim</th>\n",
       "      <th>Arunachal Pradesh</th>\n",
       "      <th>Assam</th>\n",
       "      <th>Manipur</th>\n",
       "      <th>Meghalaya</th>\n",
       "      <th>Mizoram</th>\n",
       "      <th>Nagaland</th>\n",
       "      <th>Tripura</th>\n",
       "      <th>Date</th>\n",
       "      <th>Time</th>\n",
       "    </tr>\n",
       "  </thead>\n",
       "  <tbody>\n",
       "    <tr>\n",
       "      <th>0</th>\n",
       "      <td>119.9</td>\n",
       "      <td>130.3</td>\n",
       "      <td>234.1</td>\n",
       "      <td>85.8</td>\n",
       "      <td>313.9</td>\n",
       "      <td>40.7</td>\n",
       "      <td>30.0</td>\n",
       "      <td>52.5</td>\n",
       "      <td>5.0</td>\n",
       "      <td>78.7</td>\n",
       "      <td>...</td>\n",
       "      <td>2.0</td>\n",
       "      <td>2.1</td>\n",
       "      <td>21.7</td>\n",
       "      <td>2.7</td>\n",
       "      <td>6.1</td>\n",
       "      <td>1.9</td>\n",
       "      <td>2.2</td>\n",
       "      <td>3.4</td>\n",
       "      <td>02/01/2019</td>\n",
       "      <td>00:00:00</td>\n",
       "    </tr>\n",
       "    <tr>\n",
       "      <th>1</th>\n",
       "      <td>121.9</td>\n",
       "      <td>133.5</td>\n",
       "      <td>240.2</td>\n",
       "      <td>85.5</td>\n",
       "      <td>311.8</td>\n",
       "      <td>39.3</td>\n",
       "      <td>30.1</td>\n",
       "      <td>54.1</td>\n",
       "      <td>4.9</td>\n",
       "      <td>78.8</td>\n",
       "      <td>...</td>\n",
       "      <td>1.9</td>\n",
       "      <td>2.2</td>\n",
       "      <td>23.4</td>\n",
       "      <td>2.4</td>\n",
       "      <td>6.5</td>\n",
       "      <td>1.8</td>\n",
       "      <td>2.2</td>\n",
       "      <td>3.6</td>\n",
       "      <td>03/01/2019</td>\n",
       "      <td>00:00:00</td>\n",
       "    </tr>\n",
       "    <tr>\n",
       "      <th>2</th>\n",
       "      <td>118.8</td>\n",
       "      <td>128.2</td>\n",
       "      <td>239.8</td>\n",
       "      <td>83.5</td>\n",
       "      <td>320.7</td>\n",
       "      <td>38.1</td>\n",
       "      <td>30.1</td>\n",
       "      <td>53.2</td>\n",
       "      <td>4.8</td>\n",
       "      <td>74.8</td>\n",
       "      <td>...</td>\n",
       "      <td>1.7</td>\n",
       "      <td>2.2</td>\n",
       "      <td>21.7</td>\n",
       "      <td>2.4</td>\n",
       "      <td>6.3</td>\n",
       "      <td>1.7</td>\n",
       "      <td>2.2</td>\n",
       "      <td>3.5</td>\n",
       "      <td>04/01/2019</td>\n",
       "      <td>00:00:00</td>\n",
       "    </tr>\n",
       "    <tr>\n",
       "      <th>3</th>\n",
       "      <td>121.0</td>\n",
       "      <td>127.5</td>\n",
       "      <td>239.1</td>\n",
       "      <td>79.2</td>\n",
       "      <td>299.0</td>\n",
       "      <td>39.2</td>\n",
       "      <td>30.2</td>\n",
       "      <td>51.5</td>\n",
       "      <td>4.3</td>\n",
       "      <td>69.0</td>\n",
       "      <td>...</td>\n",
       "      <td>2.0</td>\n",
       "      <td>2.2</td>\n",
       "      <td>22.5</td>\n",
       "      <td>2.7</td>\n",
       "      <td>5.7</td>\n",
       "      <td>1.8</td>\n",
       "      <td>2.3</td>\n",
       "      <td>3.5</td>\n",
       "      <td>05/01/2019</td>\n",
       "      <td>00:00:00</td>\n",
       "    </tr>\n",
       "    <tr>\n",
       "      <th>4</th>\n",
       "      <td>121.4</td>\n",
       "      <td>132.6</td>\n",
       "      <td>240.4</td>\n",
       "      <td>76.6</td>\n",
       "      <td>286.8</td>\n",
       "      <td>39.2</td>\n",
       "      <td>31.0</td>\n",
       "      <td>53.2</td>\n",
       "      <td>4.3</td>\n",
       "      <td>68.1</td>\n",
       "      <td>...</td>\n",
       "      <td>2.0</td>\n",
       "      <td>2.2</td>\n",
       "      <td>21.7</td>\n",
       "      <td>2.7</td>\n",
       "      <td>6.2</td>\n",
       "      <td>1.9</td>\n",
       "      <td>2.3</td>\n",
       "      <td>3.3</td>\n",
       "      <td>06/01/2019</td>\n",
       "      <td>00:00:00</td>\n",
       "    </tr>\n",
       "    <tr>\n",
       "      <th>...</th>\n",
       "      <td>...</td>\n",
       "      <td>...</td>\n",
       "      <td>...</td>\n",
       "      <td>...</td>\n",
       "      <td>...</td>\n",
       "      <td>...</td>\n",
       "      <td>...</td>\n",
       "      <td>...</td>\n",
       "      <td>...</td>\n",
       "      <td>...</td>\n",
       "      <td>...</td>\n",
       "      <td>...</td>\n",
       "      <td>...</td>\n",
       "      <td>...</td>\n",
       "      <td>...</td>\n",
       "      <td>...</td>\n",
       "      <td>...</td>\n",
       "      <td>...</td>\n",
       "      <td>...</td>\n",
       "      <td>...</td>\n",
       "      <td>...</td>\n",
       "    </tr>\n",
       "    <tr>\n",
       "      <th>354</th>\n",
       "      <td>103.7</td>\n",
       "      <td>110.4</td>\n",
       "      <td>211.4</td>\n",
       "      <td>63.8</td>\n",
       "      <td>229.9</td>\n",
       "      <td>33.4</td>\n",
       "      <td>29.3</td>\n",
       "      <td>44.2</td>\n",
       "      <td>3.8</td>\n",
       "      <td>75.8</td>\n",
       "      <td>...</td>\n",
       "      <td>1.7</td>\n",
       "      <td>2.0</td>\n",
       "      <td>20.1</td>\n",
       "      <td>2.6</td>\n",
       "      <td>5.8</td>\n",
       "      <td>2.0</td>\n",
       "      <td>2.1</td>\n",
       "      <td>3.4</td>\n",
       "      <td>27/12/2019</td>\n",
       "      <td>00:00:00</td>\n",
       "    </tr>\n",
       "    <tr>\n",
       "      <th>355</th>\n",
       "      <td>97.2</td>\n",
       "      <td>101.7</td>\n",
       "      <td>212.7</td>\n",
       "      <td>62.0</td>\n",
       "      <td>234.2</td>\n",
       "      <td>32.7</td>\n",
       "      <td>27.6</td>\n",
       "      <td>47.7</td>\n",
       "      <td>3.4</td>\n",
       "      <td>74.2</td>\n",
       "      <td>...</td>\n",
       "      <td>1.6</td>\n",
       "      <td>2.0</td>\n",
       "      <td>19.7</td>\n",
       "      <td>2.5</td>\n",
       "      <td>6.0</td>\n",
       "      <td>1.7</td>\n",
       "      <td>2.1</td>\n",
       "      <td>3.4</td>\n",
       "      <td>28/12/2019</td>\n",
       "      <td>00:00:00</td>\n",
       "    </tr>\n",
       "    <tr>\n",
       "      <th>356</th>\n",
       "      <td>237.2</td>\n",
       "      <td>214.1</td>\n",
       "      <td>232.7</td>\n",
       "      <td>128.5</td>\n",
       "      <td>421.3</td>\n",
       "      <td>42.0</td>\n",
       "      <td>29.9</td>\n",
       "      <td>40.0</td>\n",
       "      <td>6.4</td>\n",
       "      <td>78.9</td>\n",
       "      <td>...</td>\n",
       "      <td>1.0</td>\n",
       "      <td>2.0</td>\n",
       "      <td>34.2</td>\n",
       "      <td>2.4</td>\n",
       "      <td>5.3</td>\n",
       "      <td>1.7</td>\n",
       "      <td>2.1</td>\n",
       "      <td>4.9</td>\n",
       "      <td>29/12/2019</td>\n",
       "      <td>00:00:00</td>\n",
       "    </tr>\n",
       "    <tr>\n",
       "      <th>357</th>\n",
       "      <td>251.9</td>\n",
       "      <td>220.1</td>\n",
       "      <td>246.5</td>\n",
       "      <td>126.9</td>\n",
       "      <td>437.4</td>\n",
       "      <td>43.3</td>\n",
       "      <td>31.6</td>\n",
       "      <td>42.8</td>\n",
       "      <td>6.4</td>\n",
       "      <td>83.8</td>\n",
       "      <td>...</td>\n",
       "      <td>1.1</td>\n",
       "      <td>2.3</td>\n",
       "      <td>35.0</td>\n",
       "      <td>2.4</td>\n",
       "      <td>5.6</td>\n",
       "      <td>1.8</td>\n",
       "      <td>2.1</td>\n",
       "      <td>4.9</td>\n",
       "      <td>30/12/2019</td>\n",
       "      <td>00:00:00</td>\n",
       "    </tr>\n",
       "    <tr>\n",
       "      <th>358</th>\n",
       "      <td>255.0</td>\n",
       "      <td>223.2</td>\n",
       "      <td>253.5</td>\n",
       "      <td>134.9</td>\n",
       "      <td>424.0</td>\n",
       "      <td>44.3</td>\n",
       "      <td>31.6</td>\n",
       "      <td>42.9</td>\n",
       "      <td>6.7</td>\n",
       "      <td>86.5</td>\n",
       "      <td>...</td>\n",
       "      <td>1.0</td>\n",
       "      <td>2.2</td>\n",
       "      <td>34.7</td>\n",
       "      <td>2.5</td>\n",
       "      <td>5.7</td>\n",
       "      <td>1.7</td>\n",
       "      <td>2.2</td>\n",
       "      <td>5.0</td>\n",
       "      <td>31/12/2019</td>\n",
       "      <td>00:00:00</td>\n",
       "    </tr>\n",
       "  </tbody>\n",
       "</table>\n",
       "<p>359 rows × 35 columns</p>\n",
       "</div>"
      ],
      "text/plain": [
       "     Punjab  Haryana  Rajasthan  Delhi     UP  Uttarakhand    HP   J&K  \\\n",
       "0     119.9    130.3      234.1   85.8  313.9         40.7  30.0  52.5   \n",
       "1     121.9    133.5      240.2   85.5  311.8         39.3  30.1  54.1   \n",
       "2     118.8    128.2      239.8   83.5  320.7         38.1  30.1  53.2   \n",
       "3     121.0    127.5      239.1   79.2  299.0         39.2  30.2  51.5   \n",
       "4     121.4    132.6      240.4   76.6  286.8         39.2  31.0  53.2   \n",
       "..      ...      ...        ...    ...    ...          ...   ...   ...   \n",
       "354   103.7    110.4      211.4   63.8  229.9         33.4  29.3  44.2   \n",
       "355    97.2    101.7      212.7   62.0  234.2         32.7  27.6  47.7   \n",
       "356   237.2    214.1      232.7  128.5  421.3         42.0  29.9  40.0   \n",
       "357   251.9    220.1      246.5  126.9  437.4         43.3  31.6  42.8   \n",
       "358   255.0    223.2      253.5  134.9  424.0         44.3  31.6  42.9   \n",
       "\n",
       "     Chandigarh  Chhattisgarh  ...  Sikkim  Arunachal Pradesh  Assam  Manipur  \\\n",
       "0           5.0          78.7  ...     2.0                2.1   21.7      2.7   \n",
       "1           4.9          78.8  ...     1.9                2.2   23.4      2.4   \n",
       "2           4.8          74.8  ...     1.7                2.2   21.7      2.4   \n",
       "3           4.3          69.0  ...     2.0                2.2   22.5      2.7   \n",
       "4           4.3          68.1  ...     2.0                2.2   21.7      2.7   \n",
       "..          ...           ...  ...     ...                ...    ...      ...   \n",
       "354         3.8          75.8  ...     1.7                2.0   20.1      2.6   \n",
       "355         3.4          74.2  ...     1.6                2.0   19.7      2.5   \n",
       "356         6.4          78.9  ...     1.0                2.0   34.2      2.4   \n",
       "357         6.4          83.8  ...     1.1                2.3   35.0      2.4   \n",
       "358         6.7          86.5  ...     1.0                2.2   34.7      2.5   \n",
       "\n",
       "     Meghalaya  Mizoram  Nagaland  Tripura        Date      Time  \n",
       "0          6.1      1.9       2.2      3.4  02/01/2019  00:00:00  \n",
       "1          6.5      1.8       2.2      3.6  03/01/2019  00:00:00  \n",
       "2          6.3      1.7       2.2      3.5  04/01/2019  00:00:00  \n",
       "3          5.7      1.8       2.3      3.5  05/01/2019  00:00:00  \n",
       "4          6.2      1.9       2.3      3.3  06/01/2019  00:00:00  \n",
       "..         ...      ...       ...      ...         ...       ...  \n",
       "354        5.8      2.0       2.1      3.4  27/12/2019  00:00:00  \n",
       "355        6.0      1.7       2.1      3.4  28/12/2019  00:00:00  \n",
       "356        5.3      1.7       2.1      4.9  29/12/2019  00:00:00  \n",
       "357        5.6      1.8       2.1      4.9  30/12/2019  00:00:00  \n",
       "358        5.7      1.7       2.2      5.0  31/12/2019  00:00:00  \n",
       "\n",
       "[359 rows x 35 columns]"
      ]
     },
     "execution_count": 4,
     "metadata": {},
     "output_type": "execute_result"
    }
   ],
   "source": [
    "data[['Date','Time']] = data['Unnamed: 0'].str.split(expand=True)\n",
    "data.drop(columns=['Unnamed: 0'])"
   ]
  },
  {
   "cell_type": "markdown",
   "metadata": {},
   "source": [
    "We will use this data to forecast energy need of <b>Tamil Nadu</b>"
   ]
  },
  {
   "cell_type": "code",
   "execution_count": 5,
   "metadata": {},
   "outputs": [
    {
     "data": {
      "text/plain": [
       "<matplotlib.axes._subplots.AxesSubplot at 0x134d5de4608>"
      ]
     },
     "execution_count": 5,
     "metadata": {},
     "output_type": "execute_result"
    },
    {
     "data": {
      "image/png": "[encoded data removed]",
      "text/plain": [
       "<Figure size 432x288 with 1 Axes>"
      ]
     },
     "metadata": {
      "needs_background": "light"
     },
     "output_type": "display_data"
    }
   ],
   "source": [
    "data['Tamil Nadu'].plot.hist(bins=20,alpha=0.5)"
   ]
  },
  {
   "cell_type": "code",
   "execution_count": 6,
   "metadata": {},
   "outputs": [
    {
     "name": "stdout",
     "output_type": "stream",
     "text": [
      "count    359.000000\n",
      "mean     297.270752\n",
      "std       35.202116\n",
      "min      195.700000\n",
      "25%      273.250000\n",
      "50%      298.400000\n",
      "75%      325.900000\n",
      "max      365.300000\n",
      "Name: Tamil Nadu, dtype: float64\n",
      "Kurtosis: -0.6163897836251153\n",
      "Skewness: -0.24152303448216253\n",
      "Mean+3sd= 402.8770990563306\n",
      "Mean-3sd= 191.66440512194256\n"
     ]
    }
   ],
   "source": [
    "print(data['Tamil Nadu'].describe())\n",
    "print('Kurtosis:',data['Tamil Nadu'].kurtosis())\n",
    "print('Skewness:',data['Tamil Nadu'].skew())\n",
    "print(\"Mean+3sd=\",data['Tamil Nadu'].mean()+3*data['Tamil Nadu'].std())\n",
    "print(\"Mean-3sd=\",data['Tamil Nadu'].mean()-3*data['Tamil Nadu'].std())"
   ]
  },
  {
   "cell_type": "markdown",
   "metadata": {},
   "source": [
    "Since this data is the 2019 data we will use our model to check forecasting for electricity consumption after <b>15-Dec-2019</b> i.e. last 16 days. Data is already sorted in chronological order."
   ]
  },
  {
   "cell_type": "code",
   "execution_count": 7,
   "metadata": {},
   "outputs": [],
   "source": [
    "ind=data.index[data['Date']=='15/12/2019'][0]"
   ]
  },
  {
   "cell_type": "code",
   "execution_count": 9,
   "metadata": {},
   "outputs": [
    {
     "data": {
      "text/html": [
       "<div>\n",
       "<style scoped>\n",
       "    .dataframe tbody tr th:only-of-type {\n",
       "        vertical-align: middle;\n",
       "    }\n",
       "\n",
       "    .dataframe tbody tr th {\n",
       "        vertical-align: top;\n",
       "    }\n",
       "\n",
       "    .dataframe thead th {\n",
       "        text-align: right;\n",
       "    }\n",
       "</style>\n",
       "<table border=\"1\" class=\"dataframe\">\n",
       "  <thead>\n",
       "    <tr style=\"text-align: right;\">\n",
       "      <th></th>\n",
       "      <th>Date</th>\n",
       "      <th>Tamil Nadu</th>\n",
       "    </tr>\n",
       "  </thead>\n",
       "  <tbody>\n",
       "    <tr>\n",
       "      <th>0</th>\n",
       "      <td>02/01/2019</td>\n",
       "      <td>268.3</td>\n",
       "    </tr>\n",
       "    <tr>\n",
       "      <th>1</th>\n",
       "      <td>03/01/2019</td>\n",
       "      <td>285.2</td>\n",
       "    </tr>\n",
       "    <tr>\n",
       "      <th>2</th>\n",
       "      <td>04/01/2019</td>\n",
       "      <td>270.3</td>\n",
       "    </tr>\n",
       "    <tr>\n",
       "      <th>3</th>\n",
       "      <td>05/01/2019</td>\n",
       "      <td>286.8</td>\n",
       "    </tr>\n",
       "    <tr>\n",
       "      <th>4</th>\n",
       "      <td>06/01/2019</td>\n",
       "      <td>298.3</td>\n",
       "    </tr>\n",
       "    <tr>\n",
       "      <th>...</th>\n",
       "      <td>...</td>\n",
       "      <td>...</td>\n",
       "    </tr>\n",
       "    <tr>\n",
       "      <th>338</th>\n",
       "      <td>11/12/2019</td>\n",
       "      <td>296.1</td>\n",
       "    </tr>\n",
       "    <tr>\n",
       "      <th>339</th>\n",
       "      <td>12/12/2019</td>\n",
       "      <td>302.7</td>\n",
       "    </tr>\n",
       "    <tr>\n",
       "      <th>340</th>\n",
       "      <td>13/12/2019</td>\n",
       "      <td>303.5</td>\n",
       "    </tr>\n",
       "    <tr>\n",
       "      <th>341</th>\n",
       "      <td>14/12/2019</td>\n",
       "      <td>296.5</td>\n",
       "    </tr>\n",
       "    <tr>\n",
       "      <th>342</th>\n",
       "      <td>15/12/2019</td>\n",
       "      <td>304.3</td>\n",
       "    </tr>\n",
       "  </tbody>\n",
       "</table>\n",
       "<p>343 rows × 2 columns</p>\n",
       "</div>"
      ],
      "text/plain": [
       "           Date  Tamil Nadu\n",
       "0    02/01/2019       268.3\n",
       "1    03/01/2019       285.2\n",
       "2    04/01/2019       270.3\n",
       "3    05/01/2019       286.8\n",
       "4    06/01/2019       298.3\n",
       "..          ...         ...\n",
       "338  11/12/2019       296.1\n",
       "339  12/12/2019       302.7\n",
       "340  13/12/2019       303.5\n",
       "341  14/12/2019       296.5\n",
       "342  15/12/2019       304.3\n",
       "\n",
       "[343 rows x 2 columns]"
      ]
     },
     "execution_count": 9,
     "metadata": {},
     "output_type": "execute_result"
    }
   ],
   "source": [
    "data_train=data.loc[0:ind][['Date','Tamil Nadu']]\n",
    "data_train"
   ]
  },
  {
   "cell_type": "code",
   "execution_count": 11,
   "metadata": {},
   "outputs": [
    {
     "data": {
      "text/html": [
       "<div>\n",
       "<style scoped>\n",
       "    .dataframe tbody tr th:only-of-type {\n",
       "        vertical-align: middle;\n",
       "    }\n",
       "\n",
       "    .dataframe tbody tr th {\n",
       "        vertical-align: top;\n",
       "    }\n",
       "\n",
       "    .dataframe thead th {\n",
       "        text-align: right;\n",
       "    }\n",
       "</style>\n",
       "<table border=\"1\" class=\"dataframe\">\n",
       "  <thead>\n",
       "    <tr style=\"text-align: right;\">\n",
       "      <th></th>\n",
       "      <th>Date</th>\n",
       "      <th>Tamil Nadu</th>\n",
       "    </tr>\n",
       "  </thead>\n",
       "  <tbody>\n",
       "    <tr>\n",
       "      <th>343</th>\n",
       "      <td>16/12/2019</td>\n",
       "      <td>310.0</td>\n",
       "    </tr>\n",
       "    <tr>\n",
       "      <th>344</th>\n",
       "      <td>17/12/2019</td>\n",
       "      <td>311.9</td>\n",
       "    </tr>\n",
       "    <tr>\n",
       "      <th>345</th>\n",
       "      <td>18/12/2019</td>\n",
       "      <td>315.1</td>\n",
       "    </tr>\n",
       "    <tr>\n",
       "      <th>346</th>\n",
       "      <td>19/12/2019</td>\n",
       "      <td>324.0</td>\n",
       "    </tr>\n",
       "    <tr>\n",
       "      <th>347</th>\n",
       "      <td>20/12/2019</td>\n",
       "      <td>307.8</td>\n",
       "    </tr>\n",
       "    <tr>\n",
       "      <th>348</th>\n",
       "      <td>21/12/2019</td>\n",
       "      <td>296.6</td>\n",
       "    </tr>\n",
       "    <tr>\n",
       "      <th>349</th>\n",
       "      <td>22/12/2019</td>\n",
       "      <td>258.0</td>\n",
       "    </tr>\n",
       "    <tr>\n",
       "      <th>350</th>\n",
       "      <td>23/12/2019</td>\n",
       "      <td>274.8</td>\n",
       "    </tr>\n",
       "    <tr>\n",
       "      <th>351</th>\n",
       "      <td>24/12/2019</td>\n",
       "      <td>278.4</td>\n",
       "    </tr>\n",
       "    <tr>\n",
       "      <th>352</th>\n",
       "      <td>25/12/2019</td>\n",
       "      <td>287.5</td>\n",
       "    </tr>\n",
       "    <tr>\n",
       "      <th>353</th>\n",
       "      <td>26/12/2019</td>\n",
       "      <td>283.2</td>\n",
       "    </tr>\n",
       "    <tr>\n",
       "      <th>354</th>\n",
       "      <td>27/12/2019</td>\n",
       "      <td>256.1</td>\n",
       "    </tr>\n",
       "    <tr>\n",
       "      <th>355</th>\n",
       "      <td>28/12/2019</td>\n",
       "      <td>223.8</td>\n",
       "    </tr>\n",
       "    <tr>\n",
       "      <th>356</th>\n",
       "      <td>29/12/2019</td>\n",
       "      <td>318.2</td>\n",
       "    </tr>\n",
       "    <tr>\n",
       "      <th>357</th>\n",
       "      <td>30/12/2019</td>\n",
       "      <td>329.9</td>\n",
       "    </tr>\n",
       "    <tr>\n",
       "      <th>358</th>\n",
       "      <td>31/12/2019</td>\n",
       "      <td>313.2</td>\n",
       "    </tr>\n",
       "  </tbody>\n",
       "</table>\n",
       "</div>"
      ],
      "text/plain": [
       "           Date  Tamil Nadu\n",
       "343  16/12/2019       310.0\n",
       "344  17/12/2019       311.9\n",
       "345  18/12/2019       315.1\n",
       "346  19/12/2019       324.0\n",
       "347  20/12/2019       307.8\n",
       "348  21/12/2019       296.6\n",
       "349  22/12/2019       258.0\n",
       "350  23/12/2019       274.8\n",
       "351  24/12/2019       278.4\n",
       "352  25/12/2019       287.5\n",
       "353  26/12/2019       283.2\n",
       "354  27/12/2019       256.1\n",
       "355  28/12/2019       223.8\n",
       "356  29/12/2019       318.2\n",
       "357  30/12/2019       329.9\n",
       "358  31/12/2019       313.2"
      ]
     },
     "execution_count": 11,
     "metadata": {},
     "output_type": "execute_result"
    }
   ],
   "source": [
    "data_test=data.loc[ind+1:][['Date','Tamil Nadu']]\n",
    "data_test"
   ]
  },
  {
   "cell_type": "code",
   "execution_count": 12,
   "metadata": {},
   "outputs": [],
   "source": [
    "data_train=data_train['Tamil Nadu']\n",
    "data_test=data_test['Tamil Nadu']"
   ]
  },
  {
   "cell_type": "code",
   "execution_count": 13,
   "metadata": {},
   "outputs": [
    {
     "data": {
      "text/plain": [
       "[<matplotlib.lines.Line2D at 0x134d8031908>]"
      ]
     },
     "execution_count": 13,
     "metadata": {},
     "output_type": "execute_result"
    },
    {
     "data": {
      "image/png": "[encoded data removed]",
      "text/plain": [
       "<Figure size 432x288 with 1 Axes>"
      ]
     },
     "metadata": {
      "needs_background": "light"
     },
     "output_type": "display_data"
    }
   ],
   "source": [
    "plt.plot(data_train)"
   ]
  },
  {
   "cell_type": "markdown",
   "metadata": {},
   "source": [
    "**CHECK FOR STATIONARITY**"
   ]
  },
  {
   "cell_type": "markdown",
   "metadata": {},
   "source": [
    "<b>Augmented Dickey-Fuller test</b>"
   ]
  },
  {
   "cell_type": "code",
   "execution_count": 14,
   "metadata": {},
   "outputs": [
    {
     "name": "stdout",
     "output_type": "stream",
     "text": [
      "<bound method UnitRootTest.summary of <class 'arch.unitroot.unitroot.ADF'>\n",
      "\"\"\"\n",
      "   Augmented Dickey-Fuller Results   \n",
      "=====================================\n",
      "Test Statistic                 -5.901\n",
      "P-value                         0.000\n",
      "Lags                                0\n",
      "-------------------------------------\n",
      "\n",
      "Trend: Constant\n",
      "Critical Values: -3.45 (1%), -2.87 (5%), -2.57 (10%)\n",
      "Null Hypothesis: The process contains a unit root.\n",
      "Alternative Hypothesis: The process is weakly stationary.\n",
      "\"\"\">\n",
      "Null hypothesis is rejected : Time Series is Stationary\n"
     ]
    }
   ],
   "source": [
    "adf_test = ADF(data_train)\n",
    "print(adf_test.summary)\n",
    "if adf_test.stat < adf_test.critical_values[\"5%\"]:\n",
    "    print (\"Null hypothesis is rejected : Time Series is Stationary\")\n",
    "else:\n",
    "    print (\"Fail to reject null hypothesis : Time Series is Non-Stationary\")"
   ]
  },
  {
   "cell_type": "markdown",
   "metadata": {},
   "source": [
    "<b>Philips-Perron test</b>"
   ]
  },
  {
   "cell_type": "code",
   "execution_count": 15,
   "metadata": {},
   "outputs": [
    {
     "name": "stdout",
     "output_type": "stream",
     "text": [
      "<bound method UnitRootTest.summary of <class 'arch.unitroot.unitroot.PhillipsPerron'>\n",
      "\"\"\"\n",
      "     Phillips-Perron Test (Z-tau)    \n",
      "=====================================\n",
      "Test Statistic                 -5.729\n",
      "P-value                         0.000\n",
      "Lags                               17\n",
      "-------------------------------------\n",
      "\n",
      "Trend: Constant\n",
      "Critical Values: -3.45 (1%), -2.87 (5%), -2.57 (10%)\n",
      "Null Hypothesis: The process contains a unit root.\n",
      "Alternative Hypothesis: The process is weakly stationary.\n",
      "\"\"\">\n",
      "Null hypothesis is rejected : Time Series is Stationary\n"
     ]
    }
   ],
   "source": [
    "pp_test = PhillipsPerron(data_train)\n",
    "print(pp_test.summary)\n",
    "if pp_test.stat < pp_test.critical_values[\"5%\"]:\n",
    "    print (\"Null hypothesis is rejected : Time Series is Stationary\")\n",
    "else:\n",
    "    print (\"Fail to reject null hypothesis : Time Series is Non-Stationary\")"
   ]
  },
  {
   "cell_type": "markdown",
   "metadata": {},
   "source": [
    "<b>Kwiatkowski-Philips-Schmidt-Shin (KPSS) test</b>"
   ]
  },
  {
   "cell_type": "code",
   "execution_count": 16,
   "metadata": {},
   "outputs": [
    {
     "name": "stdout",
     "output_type": "stream",
     "text": [
      "<bound method UnitRootTest.summary of <class 'arch.unitroot.unitroot.KPSS'>\n",
      "\"\"\"\n",
      "    KPSS Stationarity Test Results   \n",
      "=====================================\n",
      "Test Statistic                  0.055\n",
      "P-value                         0.843\n",
      "Lags                               10\n",
      "-------------------------------------\n",
      "\n",
      "Trend: Constant\n",
      "Critical Values: 0.74 (1%), 0.46 (5%), 0.35 (10%)\n",
      "Null Hypothesis: The process is weakly stationary.\n",
      "Alternative Hypothesis: The process contains a unit root.\n",
      "\"\"\">\n",
      "Fail to reject null hypothesis : Time Series is Stationary\n"
     ]
    }
   ],
   "source": [
    "kpss_test = KPSS(data_train)\n",
    "print(kpss_test.summary)\n",
    "if kpss_test.stat < kpss_test.critical_values[\"5%\"]:\n",
    "    print (\"Fail to reject null hypothesis : Time Series is Stationary\")\n",
    "else:\n",
    "    print (\"Null hypothesis is rejected: Time Series is Non-Stationary\")"
   ]
  },
  {
   "cell_type": "markdown",
   "metadata": {},
   "source": [
    "Since all three tests confirm stationarity of our data, we go ahead with building an <b>ARMA</b> model"
   ]
  },
  {
   "cell_type": "markdown",
   "metadata": {},
   "source": [
    "**<b>ARMA</b> model(using <b>AIC</b>)**"
   ]
  },
  {
   "cell_type": "markdown",
   "metadata": {},
   "source": [
    "Due to lack of computation power, I will restrict my search for p and q between 1 and 6"
   ]
  },
  {
   "cell_type": "code",
   "execution_count": 18,
   "metadata": {},
   "outputs": [
    {
     "name": "stdout",
     "output_type": "stream",
     "text": [
      "The opitmum value of (p.q) using AIC is ( 6 , 4 )\n",
      "Minimum AIC value is  3036.079973206308\n"
     ]
    }
   ],
   "source": [
    "warnings.simplefilter('ignore')\n",
    "model = ARMA(data_train, order = (1,1))\n",
    "model_AIC = model.fit(disp=-1)\n",
    "min_AIC=model_AIC.aic\n",
    "aic_p=1\n",
    "aic_q=1\n",
    "for i in range(0,6):\n",
    "    for j in range(0,6):\n",
    "        try:\n",
    "            arma_model = ARMA(data_train,order=(i+1,j+1))\n",
    "            model_AIC = arma_model.fit(disp=-1)\n",
    "            if model_AIC.aic<min_AIC:\n",
    "                min_AIC=model_AIC.aic\n",
    "                aic_p=i+1\n",
    "                aic_q=j+1\n",
    "        except:\n",
    "            continue\n",
    "print(\"The opitmum value of (p.q) using AIC is (\",aic_p,',',aic_q,')')\n",
    "print(\"Minimum AIC value is \",min_AIC)"
   ]
  },
  {
   "cell_type": "code",
   "execution_count": 19,
   "metadata": {},
   "outputs": [
    {
     "name": "stdout",
     "output_type": "stream",
     "text": [
      "                              ARMA Model Results                              \n",
      "==============================================================================\n",
      "Dep. Variable:             Tamil Nadu   No. Observations:                  343\n",
      "Model:                     ARMA(6, 4)   Log Likelihood               -1506.040\n",
      "Method:                       css-mle   S.D. of innovations             19.218\n",
      "Date:                Sun, 04 Oct 2020   AIC                           3036.080\n",
      "Time:                        23:37:13   BIC                           3082.133\n",
      "Sample:                             0   HQIC                          3054.424\n",
      "                                                                              \n",
      "====================================================================================\n",
      "                       coef    std err          z      P>|z|      [0.025      0.975]\n",
      "------------------------------------------------------------------------------------\n",
      "const              297.7904      0.586    508.074      0.000     296.642     298.939\n",
      "ar.L1.Tamil Nadu     0.3677        nan        nan        nan         nan         nan\n",
      "ar.L2.Tamil Nadu     0.3269        nan        nan        nan         nan         nan\n",
      "ar.L3.Tamil Nadu     0.4774      0.000   2116.134      0.000       0.477       0.478\n",
      "ar.L4.Tamil Nadu     0.5637      0.002    357.233      0.000       0.561       0.567\n",
      "ar.L5.Tamil Nadu    -0.7952        nan        nan        nan         nan         nan\n",
      "ar.L6.Tamil Nadu    -0.0217      0.006     -3.701      0.000      -0.033      -0.010\n",
      "ma.L1.Tamil Nadu     0.4608      0.032     14.201      0.000       0.397       0.524\n",
      "ma.L2.Tamil Nadu     0.0001      0.123      0.001      0.999      -0.240       0.241\n",
      "ma.L3.Tamil Nadu    -0.4613      0.033    -13.982      0.000      -0.526      -0.397\n",
      "ma.L4.Tamil Nadu    -0.9997      0.122     -8.168      0.000      -1.240      -0.760\n",
      "                                    Roots                                    \n",
      "=============================================================================\n",
      "                  Real          Imaginary           Modulus         Frequency\n",
      "-----------------------------------------------------------------------------\n",
      "AR.1           -1.0341           -0.0000j            1.0341           -0.5000\n",
      "AR.2           -0.2299           -0.9732j            1.0000           -0.2869\n",
      "AR.3           -0.2299           +0.9732j            1.0000            0.2869\n",
      "AR.4            1.0872           -0.1092j            1.0927           -0.0159\n",
      "AR.5            1.0872           +0.1092j            1.0927            0.0159\n",
      "AR.6          -37.3856           -0.0000j           37.3856           -0.5000\n",
      "MA.1            1.0000           -0.0000j            1.0000           -0.0000\n",
      "MA.2           -0.2306           -0.9731j            1.0000           -0.2870\n",
      "MA.3           -0.2306           +0.9731j            1.0000            0.2870\n",
      "MA.4           -1.0003           -0.0000j            1.0003           -0.5000\n",
      "-----------------------------------------------------------------------------\n"
     ]
    }
   ],
   "source": [
    "model = ARMA(data_train, order=(aic_p,aic_q))  \n",
    "model_AIC = model.fit(disp=-1)  \n",
    "print(model_AIC.summary())"
   ]
  },
  {
   "cell_type": "markdown",
   "metadata": {},
   "source": [
    "**MODEL PLOT**"
   ]
  },
  {
   "cell_type": "code",
   "execution_count": 20,
   "metadata": {},
   "outputs": [
    {
     "data": {
      "text/plain": [
       "[<matplotlib.lines.Line2D at 0x134db252448>]"
      ]
     },
     "execution_count": 20,
     "metadata": {},
     "output_type": "execute_result"
    },
    {
     "data": {
      "image/png": "[encoded data removed]",
      "text/plain": [
       "<Figure size 432x288 with 1 Axes>"
      ]
     },
     "metadata": {
      "needs_background": "light"
     },
     "output_type": "display_data"
    }
   ],
   "source": [
    "plt.plot(data_train)\n",
    "plt.plot(model_AIC.fittedvalues, color='red')"
   ]
  },
  {
   "cell_type": "markdown",
   "metadata": {},
   "source": [
    "**FORECAST**"
   ]
  },
  {
   "cell_type": "code",
   "execution_count": 22,
   "metadata": {},
   "outputs": [
    {
     "name": "stdout",
     "output_type": "stream",
     "text": [
      "The root mean square error of the above model is  6.562945064010082\n"
     ]
    }
   ],
   "source": [
    "forecast_aic=model_AIC.forecast(steps=16)[0]\n",
    "RMSE=(sum((data_test-forecast_aic)**2))**0.5/16\n",
    "print(\"The root mean square error of the above model is \",RMSE)\n"
   ]
  },
  {
   "cell_type": "markdown",
   "metadata": {},
   "source": [
    "<b>Forecast Plot</b>"
   ]
  },
  {
   "cell_type": "code",
   "execution_count": 23,
   "metadata": {},
   "outputs": [
    {
     "data": {
      "text/plain": [
       "[<matplotlib.lines.Line2D at 0x134db90f608>]"
      ]
     },
     "execution_count": 23,
     "metadata": {},
     "output_type": "execute_result"
    },
    {
     "data": {
      "image/png": "[encoded data removed]",
      "text/plain": [
       "<Figure size 432x288 with 1 Axes>"
      ]
     },
     "metadata": {
      "needs_background": "light"
     },
     "output_type": "display_data"
    }
   ],
   "source": [
    "plt.plot(data_test.to_numpy())\n",
    "plt.plot(forecast_aic, color='red')"
   ]
  },
  {
   "cell_type": "markdown",
   "metadata": {},
   "source": [
    "**ARMA model (using BIC)**"
   ]
  },
  {
   "cell_type": "code",
   "execution_count": 24,
   "metadata": {},
   "outputs": [
    {
     "name": "stdout",
     "output_type": "stream",
     "text": [
      "The opitmum value of (p.q) using BIC is ( 1 , 1 )\n",
      "Minimum BIC value is  3068.942244944971\n"
     ]
    }
   ],
   "source": [
    "model = ARMA(data_train, order = (1,1))\n",
    "results_ARMA = model.fit(disp=-1)\n",
    "min_BIC=results_ARMA.bic\n",
    "bic_p=1\n",
    "bic_q=1\n",
    "for i in range(0,6):\n",
    "    for j in range(0,6):\n",
    "        try:\n",
    "            arma_model = ARMA(data_train,order=(i+1,j+1))\n",
    "            results_ARMA = arma_model.fit(disp=-1)\n",
    "            if results_ARMA.bic<min_BIC:\n",
    "                min_BIC=results_ARMA.bic\n",
    "                bic_p=i+1\n",
    "                bic_q=j+1\n",
    "        except:\n",
    "            continue\n",
    "print(\"The opitmum value of (p.q) using BIC is (\",bic_p,',',bic_q,')')\n",
    "print(\"Minimum BIC value is \",min_BIC)"
   ]
  },
  {
   "cell_type": "code",
   "execution_count": 25,
   "metadata": {},
   "outputs": [
    {
     "name": "stdout",
     "output_type": "stream",
     "text": [
      "                              ARMA Model Results                              \n",
      "==============================================================================\n",
      "Dep. Variable:             Tamil Nadu   No. Observations:                  343\n",
      "Model:                     ARMA(1, 1)   Log Likelihood               -1522.796\n",
      "Method:                       css-mle   S.D. of innovations             20.473\n",
      "Date:                Sun, 04 Oct 2020   AIC                           3053.591\n",
      "Time:                        23:42:01   BIC                           3068.942\n",
      "Sample:                             0   HQIC                          3059.706\n",
      "                                                                              \n",
      "====================================================================================\n",
      "                       coef    std err          z      P>|z|      [0.025      0.975]\n",
      "------------------------------------------------------------------------------------\n",
      "const              297.2066      5.698     52.159      0.000     286.038     308.375\n",
      "ar.L1.Tamil Nadu     0.7999      0.040     20.173      0.000       0.722       0.878\n",
      "ma.L1.Tamil Nadu     0.0434      0.067      0.644      0.519      -0.089       0.176\n",
      "                                    Roots                                    \n",
      "=============================================================================\n",
      "                  Real          Imaginary           Modulus         Frequency\n",
      "-----------------------------------------------------------------------------\n",
      "AR.1            1.2501           +0.0000j            1.2501            0.0000\n",
      "MA.1          -23.0254           +0.0000j           23.0254            0.5000\n",
      "-----------------------------------------------------------------------------\n"
     ]
    }
   ],
   "source": [
    "model = ARMA(data_train, order=(bic_p,bic_q))  \n",
    "model_BIC = model.fit(disp=-1)  \n",
    "print(model_BIC.summary())"
   ]
  },
  {
   "cell_type": "markdown",
   "metadata": {},
   "source": [
    "**MODEL PLOT**"
   ]
  },
  {
   "cell_type": "code",
   "execution_count": 26,
   "metadata": {},
   "outputs": [
    {
     "data": {
      "text/plain": [
       "[<matplotlib.lines.Line2D at 0x134db44dbc8>]"
      ]
     },
     "execution_count": 26,
     "metadata": {},
     "output_type": "execute_result"
    },
    {
     "data": {
      "image/png": "[encoded data removed]",
      "text/plain": [
       "<Figure size 432x288 with 1 Axes>"
      ]
     },
     "metadata": {
      "needs_background": "light"
     },
     "output_type": "display_data"
    }
   ],
   "source": [
    "plt.plot(data_train)\n",
    "plt.plot(model_BIC.fittedvalues, color='red')"
   ]
  },
  {
   "cell_type": "markdown",
   "metadata": {},
   "source": [
    "**FORECAST**"
   ]
  },
  {
   "cell_type": "code",
   "execution_count": 27,
   "metadata": {},
   "outputs": [
    {
     "name": "stdout",
     "output_type": "stream",
     "text": [
      "The root mean square error of the above model is  7.078389938673698\n"
     ]
    }
   ],
   "source": [
    "forecast_bic=model_BIC.forecast(steps=16)[0]\n",
    "RMSE=(sum((data_test-forecast_bic)**2))**0.5/16\n",
    "print(\"The root mean square error of the above model is \",RMSE)"
   ]
  },
  {
   "cell_type": "markdown",
   "metadata": {},
   "source": [
    "<b>Forecast Plot</b>"
   ]
  },
  {
   "cell_type": "code",
   "execution_count": 28,
   "metadata": {},
   "outputs": [
    {
     "data": {
      "text/plain": [
       "[<matplotlib.lines.Line2D at 0x134d806c208>]"
      ]
     },
     "execution_count": 28,
     "metadata": {},
     "output_type": "execute_result"
    },
    {
     "data": {
      "image/png": "[encoded data removed]",
      "text/plain": [
       "<Figure size 432x288 with 1 Axes>"
      ]
     },
     "metadata": {
      "needs_background": "light"
     },
     "output_type": "display_data"
    }
   ],
   "source": [
    "plt.plot(data_test.to_numpy())\n",
    "plt.plot(forecast_bic, color='red')"
   ]
  }
 ],
 "metadata": {
  "kernelspec": {
   "display_name": "Python 3",
   "language": "python",
   "name": "python3"
  },
  "language_info": {
   "codemirror_mode": {
    "name": "ipython",
    "version": 3
   },
   "file_extension": ".py",
   "mimetype": "text/x-python",
   "name": "python",
   "nbconvert_exporter": "python",
   "pygments_lexer": "ipython3",
   "version": "3.7.6"
  }
 },
 "nbformat": 4,
 "nbformat_minor": 4
}
