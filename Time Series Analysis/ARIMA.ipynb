{
 "cells": [
  {
   "cell_type": "markdown",
   "metadata": {},
   "source": [
    "**Forecasting using ARMA models**"
   ]
  },
  {
   "cell_type": "markdown",
   "metadata": {
    "id": "cvUQOxI-vUxm"
   },
   "source": [
    "### Libraries Imported"
   ]
  },
  {
   "cell_type": "code",
   "execution_count": 3,
   "metadata": {
    "ExecuteTime": {
     "end_time": "2020-10-03T21:58:10.351300Z",
     "start_time": "2020-10-03T21:58:09.408083Z"
    },
    "colab": {
     "base_uri": "https://localhost:8080/",
     "height": 70
    },
    "id": "FgyC2AEA8p04",
    "outputId": "b1d32fba-0829-4db2-91be-c4dc73f0ab2a"
   },
   "outputs": [
    {
     "name": "stderr",
     "output_type": "stream",
     "text": [
      "/usr/local/lib/python3.6/dist-packages/statsmodels/tools/_testing.py:19: FutureWarning: pandas.util.testing is deprecated. Use the functions in the public API at pandas.testing instead.\n",
      "  import pandas.util.testing as tm\n"
     ]
    }
   ],
   "source": [
    "import numpy as np\n",
    "import pandas as pd\n",
    "import seaborn as sns\n",
    "import matplotlib.pyplot as plt\n",
    "import scipy\n",
    "from statsmodels.tsa.arima_model import ARIMA\n",
    "from sklearn.metrics import mean_squared_error\n",
    "from itertools import product\n",
    "from tqdm import tqdm_notebook\n",
    "import warnings\n",
    "from warnings import filterwarnings"
   ]
  },
  {
   "cell_type": "markdown",
   "metadata": {
    "id": "oYLlmIVi9Hdz"
   },
   "source": [
    "### Uploading dataset\n"
   ]
  },
  {
   "cell_type": "code",
   "execution_count": 6,
   "metadata": {
    "ExecuteTime": {
     "end_time": "2020-10-03T21:58:12.433656Z",
     "start_time": "2020-10-03T21:58:12.423547Z"
    },
    "colab": {
     "base_uri": "https://localhost:8080/",
     "height": 168
    },
    "id": "KUXx-HNr9dQD",
    "outputId": "2b7aa18e-9c61-4d9e-a084-ad81bbe84a45"
   },
   "outputs": [
    {
     "name": "stdout",
     "output_type": "stream",
     "text": [
      "<class 'pandas.core.frame.DataFrame'>\n",
      "RangeIndex: 115 entries, 0 to 114\n",
      "Data columns (total 2 columns):\n",
      " #   Column                                                                                      Non-Null Count  Dtype \n",
      "---  ------                                                                                      --------------  ----- \n",
      " 0   Month                                                                                       115 non-null    object\n",
      " 1   Portland Oregon average monthly bus ridership (/100) January 1973 through June 1982, n=114  115 non-null    object\n",
      "dtypes: object(2)\n",
      "memory usage: 1.9+ KB\n"
     ]
    }
   ],
   "source": [
    "df=pd.read_csv('po_average_monthly.csv')\n",
    "df.info()"
   ]
  },
  {
   "cell_type": "code",
   "execution_count": 7,
   "metadata": {
    "ExecuteTime": {
     "end_time": "2020-10-03T21:58:12.695430Z",
     "start_time": "2020-10-03T21:58:12.683462Z"
    },
    "colab": {
     "base_uri": "https://localhost:8080/",
     "height": 166
    },
    "id": "_nV82IMM9u18",
    "outputId": "92812e38-c6f4-4850-9c46-7121b3036972"
   },
   "outputs": [
    {
     "data": {
      "text/html": [
       "<div>\n",
       "<style scoped>\n",
       "    .dataframe tbody tr th:only-of-type {\n",
       "        vertical-align: middle;\n",
       "    }\n",
       "\n",
       "    .dataframe tbody tr th {\n",
       "        vertical-align: top;\n",
       "    }\n",
       "\n",
       "    .dataframe thead th {\n",
       "        text-align: right;\n",
       "    }\n",
       "</style>\n",
       "<table border=\"1\" class=\"dataframe\">\n",
       "  <thead>\n",
       "    <tr style=\"text-align: right;\">\n",
       "      <th></th>\n",
       "      <th>Month</th>\n",
       "      <th>Portland Oregon average monthly bus ridership (/100) January 1973 through June 1982, n=114</th>\n",
       "    </tr>\n",
       "  </thead>\n",
       "  <tbody>\n",
       "    <tr>\n",
       "      <th>count</th>\n",
       "      <td>115</td>\n",
       "      <td>115</td>\n",
       "    </tr>\n",
       "    <tr>\n",
       "      <th>unique</th>\n",
       "      <td>115</td>\n",
       "      <td>112</td>\n",
       "    </tr>\n",
       "    <tr>\n",
       "      <th>top</th>\n",
       "      <td>1966-02</td>\n",
       "      <td>1152</td>\n",
       "    </tr>\n",
       "    <tr>\n",
       "      <th>freq</th>\n",
       "      <td>1</td>\n",
       "      <td>2</td>\n",
       "    </tr>\n",
       "  </tbody>\n",
       "</table>\n",
       "</div>"
      ],
      "text/plain": [
       "          Month Portland Oregon average monthly bus ridership (/100) January 1973 through June 1982, n=114\n",
       "count       115                                                115                                        \n",
       "unique      115                                                112                                        \n",
       "top     1966-02                                               1152                                        \n",
       "freq          1                                                  2                                        "
      ]
     },
     "execution_count": 7,
     "metadata": {
      "tags": []
     },
     "output_type": "execute_result"
    }
   ],
   "source": [
    "df.describe()"
   ]
  },
  {
   "cell_type": "code",
   "execution_count": 8,
   "metadata": {
    "ExecuteTime": {
     "end_time": "2020-10-03T21:58:12.906138Z",
     "start_time": "2020-10-03T21:58:12.900112Z"
    },
    "colab": {
     "base_uri": "https://localhost:8080/",
     "height": 195
    },
    "id": "6UpqF_jC9y1u",
    "outputId": "c189f877-fff8-449b-a7b1-dce9951ab3b5"
   },
   "outputs": [
    {
     "data": {
      "text/html": [
       "<div>\n",
       "<style scoped>\n",
       "    .dataframe tbody tr th:only-of-type {\n",
       "        vertical-align: middle;\n",
       "    }\n",
       "\n",
       "    .dataframe tbody tr th {\n",
       "        vertical-align: top;\n",
       "    }\n",
       "\n",
       "    .dataframe thead th {\n",
       "        text-align: right;\n",
       "    }\n",
       "</style>\n",
       "<table border=\"1\" class=\"dataframe\">\n",
       "  <thead>\n",
       "    <tr style=\"text-align: right;\">\n",
       "      <th></th>\n",
       "      <th>month</th>\n",
       "      <th>average_monthly_ridership</th>\n",
       "    </tr>\n",
       "  </thead>\n",
       "  <tbody>\n",
       "    <tr>\n",
       "      <th>0</th>\n",
       "      <td>1960-01</td>\n",
       "      <td>648</td>\n",
       "    </tr>\n",
       "    <tr>\n",
       "      <th>1</th>\n",
       "      <td>1960-02</td>\n",
       "      <td>646</td>\n",
       "    </tr>\n",
       "    <tr>\n",
       "      <th>2</th>\n",
       "      <td>1960-03</td>\n",
       "      <td>639</td>\n",
       "    </tr>\n",
       "    <tr>\n",
       "      <th>3</th>\n",
       "      <td>1960-04</td>\n",
       "      <td>654</td>\n",
       "    </tr>\n",
       "    <tr>\n",
       "      <th>4</th>\n",
       "      <td>1960-05</td>\n",
       "      <td>630</td>\n",
       "    </tr>\n",
       "  </tbody>\n",
       "</table>\n",
       "</div>"
      ],
      "text/plain": [
       "     month average_monthly_ridership\n",
       "0  1960-01                       648\n",
       "1  1960-02                       646\n",
       "2  1960-03                       639\n",
       "3  1960-04                       654\n",
       "4  1960-05                       630"
      ]
     },
     "execution_count": 8,
     "metadata": {
      "tags": []
     },
     "output_type": "execute_result"
    }
   ],
   "source": [
    "df.columns = [\"month\", \"average_monthly_ridership\"]\n",
    "\n",
    "df.head()"
   ]
  },
  {
   "cell_type": "code",
   "execution_count": 9,
   "metadata": {
    "ExecuteTime": {
     "end_time": "2020-10-03T21:58:13.160968Z",
     "start_time": "2020-10-03T21:58:13.156024Z"
    },
    "colab": {
     "base_uri": "https://localhost:8080/",
     "height": 252
    },
    "id": "gDAlqvicADMq",
    "outputId": "403ea5e0-f9df-4406-d83e-c9cc6a4a5f71"
   },
   "outputs": [
    {
     "data": {
      "text/plain": [
       "array(['648', '646', '639', '654', '630', '622', '617', '613', '661',\n",
       "       '695', '690', '707', '817', '839', '810', '789', '760', '724',\n",
       "       '704', '691', '745', '803', '780', '761', '857', '907', '873',\n",
       "       '910', '900', '880', '867', '854', '928', '1064', '1103', '1026',\n",
       "       '1102', '1080', '1034', '1083', '1078', '1020', '984', '952',\n",
       "       '1033', '1114', '1160', '1058', '1209', '1200', '1130', '1182',\n",
       "       '1152', '1116', '1098', '1044', '1142', '1222', '1234', '1155',\n",
       "       '1286', '1281', '1224', '1280', '1228', '1181', '1156', '1124',\n",
       "       '1205', '1260', '1188', '1212', '1269', '1246', '1299', '1284',\n",
       "       '1345', '1341', '1308', '1448', '1454', '1467', '1431', '1510',\n",
       "       '1558', '1536', '1523', '1492', '1437', '1365', '1310', '1441',\n",
       "       '1450', '1424', '1360', '1429', '1440', '1414', '1408', '1337',\n",
       "       '1258', '1214', '1326', '1417', '1329', '1461', '1425', '1419',\n",
       "       '1432', '1394', '1327', ' n=114'], dtype=object)"
      ]
     },
     "execution_count": 9,
     "metadata": {
      "tags": []
     },
     "output_type": "execute_result"
    }
   ],
   "source": [
    "df['average_monthly_ridership'].unique()"
   ]
  },
  {
   "cell_type": "markdown",
   "metadata": {
    "id": "bXpn49KxAKcL"
   },
   "source": [
    "We can see here that this series consist an anamolous data which is the last one."
   ]
  },
  {
   "cell_type": "code",
   "execution_count": 10,
   "metadata": {
    "ExecuteTime": {
     "end_time": "2020-10-03T21:58:14.170446Z",
     "start_time": "2020-10-03T21:58:14.166941Z"
    },
    "id": "as5fr2dWG3bv"
   },
   "outputs": [],
   "source": [
    "df = df.drop(df.index[df['average_monthly_ridership'] == ' n=114'])"
   ]
  },
  {
   "cell_type": "markdown",
   "metadata": {
    "id": "AsBdtOynG3bx"
   },
   "source": [
    "Changing data type of both the column\n",
    "\n",
    "* Assign int to monthly_ridership_data column\n",
    "* Assign datetime to month column"
   ]
  },
  {
   "cell_type": "code",
   "execution_count": 11,
   "metadata": {
    "ExecuteTime": {
     "end_time": "2020-10-03T21:58:15.092238Z",
     "start_time": "2020-10-03T21:58:15.087217Z"
    },
    "id": "3dN0o5vpG3bx"
   },
   "outputs": [],
   "source": [
    "df['average_monthly_ridership'] = df['average_monthly_ridership'].astype(np.int32)\n",
    "df['month'] = pd.to_datetime(df['month'], format = '%Y-%m')"
   ]
  },
  {
   "cell_type": "code",
   "execution_count": 12,
   "metadata": {
    "colab": {
     "base_uri": "https://localhost:8080/",
     "height": 195
    },
    "id": "fB3XGbhnqHWP",
    "outputId": "8e84d7a9-c50c-43e2-b326-4387a896117e"
   },
   "outputs": [
    {
     "data": {
      "text/html": [
       "<div>\n",
       "<style scoped>\n",
       "    .dataframe tbody tr th:only-of-type {\n",
       "        vertical-align: middle;\n",
       "    }\n",
       "\n",
       "    .dataframe tbody tr th {\n",
       "        vertical-align: top;\n",
       "    }\n",
       "\n",
       "    .dataframe thead th {\n",
       "        text-align: right;\n",
       "    }\n",
       "</style>\n",
       "<table border=\"1\" class=\"dataframe\">\n",
       "  <thead>\n",
       "    <tr style=\"text-align: right;\">\n",
       "      <th></th>\n",
       "      <th>month</th>\n",
       "      <th>average_monthly_ridership</th>\n",
       "    </tr>\n",
       "  </thead>\n",
       "  <tbody>\n",
       "    <tr>\n",
       "      <th>0</th>\n",
       "      <td>1960-01-01</td>\n",
       "      <td>648</td>\n",
       "    </tr>\n",
       "    <tr>\n",
       "      <th>1</th>\n",
       "      <td>1960-02-01</td>\n",
       "      <td>646</td>\n",
       "    </tr>\n",
       "    <tr>\n",
       "      <th>2</th>\n",
       "      <td>1960-03-01</td>\n",
       "      <td>639</td>\n",
       "    </tr>\n",
       "    <tr>\n",
       "      <th>3</th>\n",
       "      <td>1960-04-01</td>\n",
       "      <td>654</td>\n",
       "    </tr>\n",
       "    <tr>\n",
       "      <th>4</th>\n",
       "      <td>1960-05-01</td>\n",
       "      <td>630</td>\n",
       "    </tr>\n",
       "  </tbody>\n",
       "</table>\n",
       "</div>"
      ],
      "text/plain": [
       "       month  average_monthly_ridership\n",
       "0 1960-01-01                        648\n",
       "1 1960-02-01                        646\n",
       "2 1960-03-01                        639\n",
       "3 1960-04-01                        654\n",
       "4 1960-05-01                        630"
      ]
     },
     "execution_count": 12,
     "metadata": {
      "tags": []
     },
     "output_type": "execute_result"
    }
   ],
   "source": [
    "df.head()"
   ]
  },
  {
   "cell_type": "markdown",
   "metadata": {
    "id": "iBtYUJtLo1NM"
   },
   "source": [
    "### Stats and Plot"
   ]
  },
  {
   "cell_type": "code",
   "execution_count": 10,
   "metadata": {
    "ExecuteTime": {
     "end_time": "2020-10-03T21:58:16.513700Z",
     "start_time": "2020-10-03T21:58:16.333146Z"
    },
    "colab": {
     "base_uri": "https://localhost:8080/",
     "height": 282
    },
    "id": "RTaSXU-dGHIC",
    "outputId": "4f2e2cda-c55b-4a77-c304-e3eed591edb0"
   },
   "outputs": [
    {
     "data": {
      "image/png": "[encoded data removed]",
      "text/plain": [
       "<Figure size 432x288 with 1 Axes>"
      ]
     },
     "metadata": {
      "needs_background": "light",
      "tags": []
     },
     "output_type": "display_data"
    }
   ],
   "source": [
    "# Normal line plot so that we can see data variation\n",
    "# We can observe that average number of riders is increasing most of the time\n",
    "# We'll later see decomposed analysis of that curve\n",
    "df.plot.line(x = 'month', y = 'average_monthly_ridership')\n",
    "plt.show()"
   ]
  },
  {
   "cell_type": "markdown",
   "metadata": {
    "id": "RdSo6g7nphnv"
   },
   "source": [
    "\n",
    "\n",
    "\n",
    "**First of all We need to check we need to check the stationarity of the time series using 3 tests**"
   ]
  },
  {
   "cell_type": "code",
   "execution_count": 11,
   "metadata": {
    "id": "I3qmMfiNHsFp"
   },
   "outputs": [],
   "source": [
    "from arch.unitroot import KPSS\n",
    "from arch.unitroot import PhillipsPerron\n",
    "from arch.unitroot import ADF"
   ]
  },
  {
   "cell_type": "code",
   "execution_count": 12,
   "metadata": {
    "colab": {
     "base_uri": "https://localhost:8080/",
     "height": 571
    },
    "id": "KiwB6KMuHw5z",
    "outputId": "f954064d-567c-44d2-feb7-85a7937e025a"
   },
   "outputs": [
    {
     "name": "stdout",
     "output_type": "stream",
     "text": [
      "     Phillips-Perron Test (Z-tau)    \n",
      "=====================================\n",
      "Test Statistic                 -1.606\n",
      "P-value                         0.481\n",
      "Lags                               13\n",
      "-------------------------------------\n",
      "\n",
      "Trend: Constant\n",
      "Critical Values: -3.49 (1%), -2.89 (5%), -2.58 (10%)\n",
      "Null Hypothesis: The process contains a unit root.\n",
      "Alternative Hypothesis: The process is weakly stationary.\n",
      "   Augmented Dickey-Fuller Results   \n",
      "=====================================\n",
      "Test Statistic                 -1.537\n",
      "P-value                         0.515\n",
      "Lags                               12\n",
      "-------------------------------------\n",
      "\n",
      "Trend: Constant\n",
      "Critical Values: -3.50 (1%), -2.89 (5%), -2.58 (10%)\n",
      "Null Hypothesis: The process contains a unit root.\n",
      "Alternative Hypothesis: The process is weakly stationary.\n",
      "    KPSS Stationarity Test Results   \n",
      "=====================================\n",
      "Test Statistic                  1.604\n",
      "P-value                         0.000\n",
      "Lags                                6\n",
      "-------------------------------------\n",
      "\n",
      "Trend: Constant\n",
      "Critical Values: 0.74 (1%), 0.46 (5%), 0.35 (10%)\n",
      "Null Hypothesis: The process is weakly stationary.\n",
      "Alternative Hypothesis: The process contains a unit root.\n"
     ]
    }
   ],
   "source": [
    "pp = PhillipsPerron(df['average_monthly_ridership'])\n",
    "adf = ADF(df['average_monthly_ridership'])\n",
    "kpss = KPSS(df['average_monthly_ridership'])\n",
    "print(pp.summary().as_text())\n",
    "print(adf.summary().as_text())\n",
    "print(kpss.summary().as_text())\n"
   ]
  },
  {
   "cell_type": "markdown",
   "metadata": {
    "id": "d_o_VlKeIqw3"
   },
   "source": [
    "\n",
    "\n",
    "\n",
    "\n",
    "\n",
    "\n",
    "\n",
    "\n",
    "\n",
    "\n",
    "\n",
    "\n",
    "\n",
    "Here, all the three test collectively reject the hypothesis of time series data being stationary. so first we log tranform the data. Then we do differencing and perform these tests again. "
   ]
  },
  {
   "cell_type": "code",
   "execution_count": 13,
   "metadata": {
    "colab": {
     "base_uri": "https://localhost:8080/",
     "height": 296
    },
    "id": "6D0lKkylIA0r",
    "outputId": "125939d1-4743-4845-a0b0-fcd9a80c036e"
   },
   "outputs": [
    {
     "data": {
      "text/plain": [
       "<matplotlib.axes._subplots.AxesSubplot at 0x7fa58ccb1b38>"
      ]
     },
     "execution_count": 13,
     "metadata": {
      "tags": []
     },
     "output_type": "execute_result"
    },
    {
     "data": {
      "image/png": "[encoded data removed]",
      "text/plain": [
       "<Figure size 432x288 with 1 Axes>"
      ]
     },
     "metadata": {
      "needs_background": "light",
      "tags": []
     },
     "output_type": "display_data"
    }
   ],
   "source": [
    "log_amr= np.log(df[\"average_monthly_ridership\"])\n",
    "df[\"log_amr\"] = log_amr\n",
    "df.plot.line(x = 'month', y = 'log_amr')\n"
   ]
  },
  {
   "cell_type": "code",
   "execution_count": 14,
   "metadata": {
    "colab": {
     "base_uri": "https://localhost:8080/",
     "height": 296
    },
    "id": "Pl65wGqkIAr5",
    "outputId": "0b4d705d-8ac2-461c-a897-0212c386c05e"
   },
   "outputs": [
    {
     "data": {
      "text/plain": [
       "<matplotlib.axes._subplots.AxesSubplot at 0x7fa58cc39128>"
      ]
     },
     "execution_count": 14,
     "metadata": {
      "tags": []
     },
     "output_type": "execute_result"
    },
    {
     "data": {
      "image/png": "[encoded data removed]",
      "text/plain": [
       "<Figure size 432x288 with 1 Axes>"
      ]
     },
     "metadata": {
      "needs_background": "light",
      "tags": []
     },
     "output_type": "display_data"
    }
   ],
   "source": [
    "log_diff_amr = log_amr - log_amr.shift()\n",
    "df[\"log_diff_amr\"]=log_diff_amr\n",
    "df.plot.line(x = 'month', y = 'log_diff_amr')"
   ]
  },
  {
   "cell_type": "markdown",
   "metadata": {
    "id": "OtWWZ7xMq49U"
   },
   "source": [
    "Visually we can somehow inspect the data is appears stationary. Anyways we perform tests again"
   ]
  },
  {
   "cell_type": "code",
   "execution_count": 15,
   "metadata": {
    "colab": {
     "base_uri": "https://localhost:8080/",
     "height": 195
    },
    "id": "ach9DEfNc3QI",
    "outputId": "f692e229-0a41-4be0-b995-5547dc4ee67b"
   },
   "outputs": [
    {
     "data": {
      "text/html": [
       "<div>\n",
       "<style scoped>\n",
       "    .dataframe tbody tr th:only-of-type {\n",
       "        vertical-align: middle;\n",
       "    }\n",
       "\n",
       "    .dataframe tbody tr th {\n",
       "        vertical-align: top;\n",
       "    }\n",
       "\n",
       "    .dataframe thead th {\n",
       "        text-align: right;\n",
       "    }\n",
       "</style>\n",
       "<table border=\"1\" class=\"dataframe\">\n",
       "  <thead>\n",
       "    <tr style=\"text-align: right;\">\n",
       "      <th></th>\n",
       "      <th>month</th>\n",
       "      <th>average_monthly_ridership</th>\n",
       "      <th>log_amr</th>\n",
       "      <th>log_diff_amr</th>\n",
       "    </tr>\n",
       "  </thead>\n",
       "  <tbody>\n",
       "    <tr>\n",
       "      <th>0</th>\n",
       "      <td>1960-01-01</td>\n",
       "      <td>648</td>\n",
       "      <td>6.473891</td>\n",
       "      <td>NaN</td>\n",
       "    </tr>\n",
       "    <tr>\n",
       "      <th>1</th>\n",
       "      <td>1960-02-01</td>\n",
       "      <td>646</td>\n",
       "      <td>6.470800</td>\n",
       "      <td>-0.003091</td>\n",
       "    </tr>\n",
       "    <tr>\n",
       "      <th>2</th>\n",
       "      <td>1960-03-01</td>\n",
       "      <td>639</td>\n",
       "      <td>6.459904</td>\n",
       "      <td>-0.010895</td>\n",
       "    </tr>\n",
       "    <tr>\n",
       "      <th>3</th>\n",
       "      <td>1960-04-01</td>\n",
       "      <td>654</td>\n",
       "      <td>6.483107</td>\n",
       "      <td>0.023203</td>\n",
       "    </tr>\n",
       "    <tr>\n",
       "      <th>4</th>\n",
       "      <td>1960-05-01</td>\n",
       "      <td>630</td>\n",
       "      <td>6.445720</td>\n",
       "      <td>-0.037388</td>\n",
       "    </tr>\n",
       "  </tbody>\n",
       "</table>\n",
       "</div>"
      ],
      "text/plain": [
       "       month  average_monthly_ridership   log_amr  log_diff_amr\n",
       "0 1960-01-01                        648  6.473891           NaN\n",
       "1 1960-02-01                        646  6.470800     -0.003091\n",
       "2 1960-03-01                        639  6.459904     -0.010895\n",
       "3 1960-04-01                        654  6.483107      0.023203\n",
       "4 1960-05-01                        630  6.445720     -0.037388"
      ]
     },
     "execution_count": 15,
     "metadata": {
      "tags": []
     },
     "output_type": "execute_result"
    }
   ],
   "source": [
    "df.head()"
   ]
  },
  {
   "cell_type": "code",
   "execution_count": 19,
   "metadata": {
    "id": "tfja4aPOPeN3"
   },
   "outputs": [],
   "source": [
    "dflog_diff_amr.dropna(inplace=True)"
   ]
  },
  {
   "cell_type": "code",
   "execution_count": 20,
   "metadata": {
    "colab": {
     "base_uri": "https://localhost:8080/",
     "height": 571
    },
    "id": "AZE8Zrf9PJ0r",
    "outputId": "5f7a340d-4313-442a-a735-3373c06a22ed"
   },
   "outputs": [
    {
     "name": "stdout",
     "output_type": "stream",
     "text": [
      "     Phillips-Perron Test (Z-tau)    \n",
      "=====================================\n",
      "Test Statistic                -11.597\n",
      "P-value                         0.000\n",
      "Lags                               13\n",
      "-------------------------------------\n",
      "\n",
      "Trend: Constant\n",
      "Critical Values: -3.49 (1%), -2.89 (5%), -2.58 (10%)\n",
      "Null Hypothesis: The process contains a unit root.\n",
      "Alternative Hypothesis: The process is weakly stationary.\n",
      "   Augmented Dickey-Fuller Results   \n",
      "=====================================\n",
      "Test Statistic                 -2.048\n",
      "P-value                         0.266\n",
      "Lags                               11\n",
      "-------------------------------------\n",
      "\n",
      "Trend: Constant\n",
      "Critical Values: -3.50 (1%), -2.89 (5%), -2.58 (10%)\n",
      "Null Hypothesis: The process contains a unit root.\n",
      "Alternative Hypothesis: The process is weakly stationary.\n",
      "    KPSS Stationarity Test Results   \n",
      "=====================================\n",
      "Test Statistic                  0.253\n",
      "P-value                         0.184\n",
      "Lags                                8\n",
      "-------------------------------------\n",
      "\n",
      "Trend: Constant\n",
      "Critical Values: 0.74 (1%), 0.46 (5%), 0.35 (10%)\n",
      "Null Hypothesis: The process is weakly stationary.\n",
      "Alternative Hypothesis: The process contains a unit root.\n"
     ]
    }
   ],
   "source": [
    "pp = PhillipsPerron(log_diff_amr)\n",
    "adf = ADF(log_diff_amr)\n",
    "kpss = KPSS(log_diff_amr)\n",
    "print(pp.summary().as_text())\n",
    "print(adf.summary().as_text())\n",
    "print(kpss.summary().as_text())"
   ]
  },
  {
   "cell_type": "markdown",
   "metadata": {
    "id": "c7--DOgtQUN5"
   },
   "source": [
    "2 out of 3 tests above, i.e. PP test and KPSS test confirm that now that the data is now weakly stationary. Hence we'll proceed for the forecasting analysis"
   ]
  },
  {
   "cell_type": "code",
   "execution_count": 20,
   "metadata": {
    "id": "tkAkaM3wQOpe"
   },
   "outputs": [],
   "source": []
  },
  {
   "cell_type": "code",
   "execution_count": 20,
   "metadata": {
    "id": "TKBF2SN_QOeG"
   },
   "outputs": [],
   "source": []
  },
  {
   "cell_type": "code",
   "execution_count": 24,
   "metadata": {
    "ExecuteTime": {
     "end_time": "2020-10-03T22:04:49.595761Z",
     "start_time": "2020-10-03T22:04:49.591799Z"
    },
    "id": "R01RIS2EG3b5"
   },
   "outputs": [],
   "source": [
    "order_list=[]\n",
    "for p in range(0,7):\n",
    "    for q in range (0,7):\n",
    "        order_list.append((p,1,q))\n",
    "        \n",
    "\n",
    "        "
   ]
  },
  {
   "cell_type": "code",
   "execution_count": 25,
   "metadata": {
    "ExecuteTime": {
     "end_time": "2020-10-03T22:18:37.575992Z",
     "start_time": "2020-10-03T22:16:25.404005Z"
    },
    "colab": {
     "base_uri": "https://localhost:8080/",
     "height": 588
    },
    "id": "2W1XXC5xG3b7",
    "outputId": "81e9cbad-a071-4344-c4c4-e233d50e64dc"
   },
   "outputs": [
    {
     "name": "stderr",
     "output_type": "stream",
     "text": [
      "/usr/local/lib/python3.6/dist-packages/statsmodels/base/model.py:492: HessianInversionWarning: Inverting hessian failed, no bse or cov_params available\n",
      "  'available', HessianInversionWarning)\n",
      "/usr/local/lib/python3.6/dist-packages/statsmodels/base/model.py:492: HessianInversionWarning: Inverting hessian failed, no bse or cov_params available\n",
      "  'available', HessianInversionWarning)\n",
      "/usr/local/lib/python3.6/dist-packages/statsmodels/base/model.py:512: ConvergenceWarning: Maximum Likelihood optimization failed to converge. Check mle_retvals\n",
      "  \"Check mle_retvals\", ConvergenceWarning)\n",
      "/usr/local/lib/python3.6/dist-packages/statsmodels/base/model.py:492: HessianInversionWarning: Inverting hessian failed, no bse or cov_params available\n",
      "  'available', HessianInversionWarning)\n",
      "/usr/local/lib/python3.6/dist-packages/statsmodels/base/model.py:492: HessianInversionWarning: Inverting hessian failed, no bse or cov_params available\n",
      "  'available', HessianInversionWarning)\n",
      "/usr/local/lib/python3.6/dist-packages/statsmodels/base/model.py:492: HessianInversionWarning: Inverting hessian failed, no bse or cov_params available\n",
      "  'available', HessianInversionWarning)\n",
      "/usr/local/lib/python3.6/dist-packages/statsmodels/base/model.py:492: HessianInversionWarning: Inverting hessian failed, no bse or cov_params available\n",
      "  'available', HessianInversionWarning)\n",
      "/usr/local/lib/python3.6/dist-packages/statsmodels/base/model.py:492: HessianInversionWarning: Inverting hessian failed, no bse or cov_params available\n",
      "  'available', HessianInversionWarning)\n",
      "/usr/local/lib/python3.6/dist-packages/statsmodels/base/model.py:492: HessianInversionWarning: Inverting hessian failed, no bse or cov_params available\n",
      "  'available', HessianInversionWarning)\n",
      "/usr/local/lib/python3.6/dist-packages/statsmodels/tsa/tsatools.py:693: RuntimeWarning: invalid value encountered in double_scalars\n",
      "  tmp[kiter] = (macoefs[kiter]-b *macoefs[j-kiter-1])/(1-b**2)\n",
      "/usr/local/lib/python3.6/dist-packages/statsmodels/tsa/tsatools.py:695: RuntimeWarning: divide by zero encountered in log\n",
      "  invmacoefs = -np.log((1-macoefs)/(1+macoefs))\n",
      "/usr/local/lib/python3.6/dist-packages/statsmodels/base/model.py:492: HessianInversionWarning: Inverting hessian failed, no bse or cov_params available\n",
      "  'available', HessianInversionWarning)\n",
      "/usr/local/lib/python3.6/dist-packages/statsmodels/base/model.py:492: HessianInversionWarning: Inverting hessian failed, no bse or cov_params available\n",
      "  'available', HessianInversionWarning)\n",
      "/usr/local/lib/python3.6/dist-packages/statsmodels/base/model.py:512: ConvergenceWarning: Maximum Likelihood optimization failed to converge. Check mle_retvals\n",
      "  \"Check mle_retvals\", ConvergenceWarning)\n",
      "/usr/local/lib/python3.6/dist-packages/statsmodels/tsa/tsatools.py:651: RuntimeWarning: invalid value encountered in arctanh\n",
      "  invarcoefs = 2*np.arctanh(params)\n",
      "/usr/local/lib/python3.6/dist-packages/statsmodels/base/model.py:512: ConvergenceWarning: Maximum Likelihood optimization failed to converge. Check mle_retvals\n",
      "  \"Check mle_retvals\", ConvergenceWarning)\n",
      "/usr/local/lib/python3.6/dist-packages/statsmodels/base/model.py:492: HessianInversionWarning: Inverting hessian failed, no bse or cov_params available\n",
      "  'available', HessianInversionWarning)\n"
     ]
    }
   ],
   "source": [
    "AIC=[]\n",
    "for i in order_list:\n",
    "    try:\n",
    "        model=ARIMA(df[\"log_amr\"], order=i).fit(disp=False)\n",
    "    except:\n",
    "        continue\n",
    "    aic = model.aic\n",
    "    AIC.append((i,aic))"
   ]
  },
  {
   "cell_type": "code",
   "execution_count": 28,
   "metadata": {
    "ExecuteTime": {
     "end_time": "2020-10-03T22:21:13.816253Z",
     "start_time": "2020-10-03T22:21:13.788657Z"
    },
    "colab": {
     "base_uri": "https://localhost:8080/",
     "height": 1000
    },
    "id": "DuSmfA1pG3b_",
    "outputId": "22c1920b-1595-4244-c07e-30250d4b4aa3"
   },
   "outputs": [
    {
     "data": {
      "text/html": [
       "<div>\n",
       "<style scoped>\n",
       "    .dataframe tbody tr th:only-of-type {\n",
       "        vertical-align: middle;\n",
       "    }\n",
       "\n",
       "    .dataframe tbody tr th {\n",
       "        vertical-align: top;\n",
       "    }\n",
       "\n",
       "    .dataframe thead th {\n",
       "        text-align: right;\n",
       "    }\n",
       "</style>\n",
       "<table border=\"1\" class=\"dataframe\">\n",
       "  <thead>\n",
       "    <tr style=\"text-align: right;\">\n",
       "      <th></th>\n",
       "      <th>(p, d, q)</th>\n",
       "      <th>AIC</th>\n",
       "    </tr>\n",
       "  </thead>\n",
       "  <tbody>\n",
       "    <tr>\n",
       "      <th>0</th>\n",
       "      <td>(6, 1, 6)</td>\n",
       "      <td>-372.265959</td>\n",
       "    </tr>\n",
       "    <tr>\n",
       "      <th>1</th>\n",
       "      <td>(4, 1, 4)</td>\n",
       "      <td>-365.380364</td>\n",
       "    </tr>\n",
       "    <tr>\n",
       "      <th>2</th>\n",
       "      <td>(5, 1, 5)</td>\n",
       "      <td>-364.393583</td>\n",
       "    </tr>\n",
       "    <tr>\n",
       "      <th>3</th>\n",
       "      <td>(5, 1, 2)</td>\n",
       "      <td>-363.951807</td>\n",
       "    </tr>\n",
       "    <tr>\n",
       "      <th>4</th>\n",
       "      <td>(6, 1, 5)</td>\n",
       "      <td>-363.680912</td>\n",
       "    </tr>\n",
       "    <tr>\n",
       "      <th>5</th>\n",
       "      <td>(5, 1, 6)</td>\n",
       "      <td>-363.266332</td>\n",
       "    </tr>\n",
       "    <tr>\n",
       "      <th>6</th>\n",
       "      <td>(4, 1, 6)</td>\n",
       "      <td>-363.263249</td>\n",
       "    </tr>\n",
       "    <tr>\n",
       "      <th>7</th>\n",
       "      <td>(3, 1, 3)</td>\n",
       "      <td>-361.566871</td>\n",
       "    </tr>\n",
       "    <tr>\n",
       "      <th>8</th>\n",
       "      <td>(4, 1, 5)</td>\n",
       "      <td>-361.360615</td>\n",
       "    </tr>\n",
       "    <tr>\n",
       "      <th>9</th>\n",
       "      <td>(2, 1, 3)</td>\n",
       "      <td>-360.293807</td>\n",
       "    </tr>\n",
       "    <tr>\n",
       "      <th>10</th>\n",
       "      <td>(6, 1, 2)</td>\n",
       "      <td>-360.253121</td>\n",
       "    </tr>\n",
       "    <tr>\n",
       "      <th>11</th>\n",
       "      <td>(4, 1, 2)</td>\n",
       "      <td>-360.183248</td>\n",
       "    </tr>\n",
       "    <tr>\n",
       "      <th>12</th>\n",
       "      <td>(5, 1, 3)</td>\n",
       "      <td>-360.015599</td>\n",
       "    </tr>\n",
       "    <tr>\n",
       "      <th>13</th>\n",
       "      <td>(3, 1, 5)</td>\n",
       "      <td>-359.790753</td>\n",
       "    </tr>\n",
       "    <tr>\n",
       "      <th>14</th>\n",
       "      <td>(4, 1, 3)</td>\n",
       "      <td>-359.604426</td>\n",
       "    </tr>\n",
       "    <tr>\n",
       "      <th>15</th>\n",
       "      <td>(2, 1, 5)</td>\n",
       "      <td>-357.870087</td>\n",
       "    </tr>\n",
       "    <tr>\n",
       "      <th>16</th>\n",
       "      <td>(2, 1, 4)</td>\n",
       "      <td>-356.430195</td>\n",
       "    </tr>\n",
       "    <tr>\n",
       "      <th>17</th>\n",
       "      <td>(6, 1, 4)</td>\n",
       "      <td>-355.759235</td>\n",
       "    </tr>\n",
       "    <tr>\n",
       "      <th>18</th>\n",
       "      <td>(3, 1, 4)</td>\n",
       "      <td>-354.898521</td>\n",
       "    </tr>\n",
       "    <tr>\n",
       "      <th>19</th>\n",
       "      <td>(2, 1, 6)</td>\n",
       "      <td>-354.808275</td>\n",
       "    </tr>\n",
       "    <tr>\n",
       "      <th>20</th>\n",
       "      <td>(3, 1, 6)</td>\n",
       "      <td>-354.640820</td>\n",
       "    </tr>\n",
       "    <tr>\n",
       "      <th>21</th>\n",
       "      <td>(0, 1, 2)</td>\n",
       "      <td>-351.770335</td>\n",
       "    </tr>\n",
       "    <tr>\n",
       "      <th>22</th>\n",
       "      <td>(2, 1, 0)</td>\n",
       "      <td>-351.013763</td>\n",
       "    </tr>\n",
       "    <tr>\n",
       "      <th>23</th>\n",
       "      <td>(3, 1, 2)</td>\n",
       "      <td>-350.830100</td>\n",
       "    </tr>\n",
       "    <tr>\n",
       "      <th>24</th>\n",
       "      <td>(1, 1, 2)</td>\n",
       "      <td>-350.617532</td>\n",
       "    </tr>\n",
       "    <tr>\n",
       "      <th>25</th>\n",
       "      <td>(0, 1, 3)</td>\n",
       "      <td>-349.937590</td>\n",
       "    </tr>\n",
       "    <tr>\n",
       "      <th>26</th>\n",
       "      <td>(4, 1, 1)</td>\n",
       "      <td>-349.831806</td>\n",
       "    </tr>\n",
       "    <tr>\n",
       "      <th>27</th>\n",
       "      <td>(1, 1, 3)</td>\n",
       "      <td>-349.591494</td>\n",
       "    </tr>\n",
       "    <tr>\n",
       "      <th>28</th>\n",
       "      <td>(2, 1, 1)</td>\n",
       "      <td>-349.476701</td>\n",
       "    </tr>\n",
       "    <tr>\n",
       "      <th>29</th>\n",
       "      <td>(3, 1, 0)</td>\n",
       "      <td>-349.422721</td>\n",
       "    </tr>\n",
       "    <tr>\n",
       "      <th>30</th>\n",
       "      <td>(5, 1, 1)</td>\n",
       "      <td>-349.394803</td>\n",
       "    </tr>\n",
       "    <tr>\n",
       "      <th>31</th>\n",
       "      <td>(0, 1, 5)</td>\n",
       "      <td>-349.214516</td>\n",
       "    </tr>\n",
       "    <tr>\n",
       "      <th>32</th>\n",
       "      <td>(1, 1, 6)</td>\n",
       "      <td>-348.692690</td>\n",
       "    </tr>\n",
       "    <tr>\n",
       "      <th>33</th>\n",
       "      <td>(6, 1, 1)</td>\n",
       "      <td>-348.542624</td>\n",
       "    </tr>\n",
       "    <tr>\n",
       "      <th>34</th>\n",
       "      <td>(0, 1, 4)</td>\n",
       "      <td>-348.438378</td>\n",
       "    </tr>\n",
       "    <tr>\n",
       "      <th>35</th>\n",
       "      <td>(0, 1, 0)</td>\n",
       "      <td>-348.407577</td>\n",
       "    </tr>\n",
       "    <tr>\n",
       "      <th>36</th>\n",
       "      <td>(1, 1, 4)</td>\n",
       "      <td>-348.338774</td>\n",
       "    </tr>\n",
       "    <tr>\n",
       "      <th>37</th>\n",
       "      <td>(0, 1, 6)</td>\n",
       "      <td>-348.135017</td>\n",
       "    </tr>\n",
       "    <tr>\n",
       "      <th>38</th>\n",
       "      <td>(1, 1, 5)</td>\n",
       "      <td>-347.849024</td>\n",
       "    </tr>\n",
       "    <tr>\n",
       "      <th>39</th>\n",
       "      <td>(4, 1, 0)</td>\n",
       "      <td>-347.622255</td>\n",
       "    </tr>\n",
       "    <tr>\n",
       "      <th>40</th>\n",
       "      <td>(2, 1, 2)</td>\n",
       "      <td>-347.491685</td>\n",
       "    </tr>\n",
       "    <tr>\n",
       "      <th>41</th>\n",
       "      <td>(3, 1, 1)</td>\n",
       "      <td>-347.479171</td>\n",
       "    </tr>\n",
       "    <tr>\n",
       "      <th>42</th>\n",
       "      <td>(6, 1, 0)</td>\n",
       "      <td>-347.063994</td>\n",
       "    </tr>\n",
       "    <tr>\n",
       "      <th>43</th>\n",
       "      <td>(5, 1, 0)</td>\n",
       "      <td>-346.747910</td>\n",
       "    </tr>\n",
       "    <tr>\n",
       "      <th>44</th>\n",
       "      <td>(1, 1, 1)</td>\n",
       "      <td>-346.453955</td>\n",
       "    </tr>\n",
       "    <tr>\n",
       "      <th>45</th>\n",
       "      <td>(0, 1, 1)</td>\n",
       "      <td>-346.415985</td>\n",
       "    </tr>\n",
       "    <tr>\n",
       "      <th>46</th>\n",
       "      <td>(1, 1, 0)</td>\n",
       "      <td>-346.411981</td>\n",
       "    </tr>\n",
       "  </tbody>\n",
       "</table>\n",
       "</div>"
      ],
      "text/plain": [
       "    (p, d, q)         AIC\n",
       "0   (6, 1, 6) -372.265959\n",
       "1   (4, 1, 4) -365.380364\n",
       "2   (5, 1, 5) -364.393583\n",
       "3   (5, 1, 2) -363.951807\n",
       "4   (6, 1, 5) -363.680912\n",
       "5   (5, 1, 6) -363.266332\n",
       "6   (4, 1, 6) -363.263249\n",
       "7   (3, 1, 3) -361.566871\n",
       "8   (4, 1, 5) -361.360615\n",
       "9   (2, 1, 3) -360.293807\n",
       "10  (6, 1, 2) -360.253121\n",
       "11  (4, 1, 2) -360.183248\n",
       "12  (5, 1, 3) -360.015599\n",
       "13  (3, 1, 5) -359.790753\n",
       "14  (4, 1, 3) -359.604426\n",
       "15  (2, 1, 5) -357.870087\n",
       "16  (2, 1, 4) -356.430195\n",
       "17  (6, 1, 4) -355.759235\n",
       "18  (3, 1, 4) -354.898521\n",
       "19  (2, 1, 6) -354.808275\n",
       "20  (3, 1, 6) -354.640820\n",
       "21  (0, 1, 2) -351.770335\n",
       "22  (2, 1, 0) -351.013763\n",
       "23  (3, 1, 2) -350.830100\n",
       "24  (1, 1, 2) -350.617532\n",
       "25  (0, 1, 3) -349.937590\n",
       "26  (4, 1, 1) -349.831806\n",
       "27  (1, 1, 3) -349.591494\n",
       "28  (2, 1, 1) -349.476701\n",
       "29  (3, 1, 0) -349.422721\n",
       "30  (5, 1, 1) -349.394803\n",
       "31  (0, 1, 5) -349.214516\n",
       "32  (1, 1, 6) -348.692690\n",
       "33  (6, 1, 1) -348.542624\n",
       "34  (0, 1, 4) -348.438378\n",
       "35  (0, 1, 0) -348.407577\n",
       "36  (1, 1, 4) -348.338774\n",
       "37  (0, 1, 6) -348.135017\n",
       "38  (1, 1, 5) -347.849024\n",
       "39  (4, 1, 0) -347.622255\n",
       "40  (2, 1, 2) -347.491685\n",
       "41  (3, 1, 1) -347.479171\n",
       "42  (6, 1, 0) -347.063994\n",
       "43  (5, 1, 0) -346.747910\n",
       "44  (1, 1, 1) -346.453955\n",
       "45  (0, 1, 1) -346.415985\n",
       "46  (1, 1, 0) -346.411981"
      ]
     },
     "execution_count": 28,
     "metadata": {
      "tags": []
     },
     "output_type": "execute_result"
    }
   ],
   "source": [
    "AIC_df = pd.DataFrame(AIC)\n",
    "AIC_df.columns = ['(p, d, q)', 'AIC']\n",
    "AIC_df = AIC_df.sort_values(by='AIC', ascending=True).reset_index(drop=True)\n",
    "AIC_df    "
   ]
  },
  {
   "cell_type": "markdown",
   "metadata": {
    "id": "T8fA_1SDrcdX"
   },
   "source": [
    "Due to computational limitation, I checked values of (p,q) within the range(0,7) We then selected the model with the lowest AIC score."
   ]
  },
  {
   "cell_type": "code",
   "execution_count": 43,
   "metadata": {
    "ExecuteTime": {
     "end_time": "2020-10-03T22:23:17.624120Z",
     "start_time": "2020-10-03T22:23:13.142227Z"
    },
    "colab": {
     "base_uri": "https://localhost:8080/",
     "height": 331
    },
    "id": "2AfHsmNzG3cA",
    "outputId": "b6f1fd27-28cf-43b8-a9e4-f5306ecce8b9"
   },
   "outputs": [
    {
     "name": "stderr",
     "output_type": "stream",
     "text": [
      "/usr/local/lib/python3.6/dist-packages/statsmodels/base/model.py:492: HessianInversionWarning: Inverting hessian failed, no bse or cov_params available\n",
      "  'available', HessianInversionWarning)\n"
     ]
    },
    {
     "data": {
      "text/plain": [
       "Text(0.5, 1.0, 'RSS: nan')"
      ]
     },
     "execution_count": 43,
     "metadata": {
      "tags": []
     },
     "output_type": "execute_result"
    },
    {
     "data": {
      "image/png": "[encoded data removed]",
      "text/plain": [
       "<Figure size 432x288 with 1 Axes>"
      ]
     },
     "metadata": {
      "needs_background": "light",
      "tags": []
     },
     "output_type": "display_data"
    }
   ],
   "source": [
    "model = ARIMA(log_amr, order=(6, 1, 6))  \n",
    "results_ARIMA = model.fit(disp=-1)  \n",
    "plt.plot(log_diff_amr)\n",
    "plt.plot(results_ARIMA.fittedvalues, color='red')\n",
    "plt.title('RSS: %.4f'% sum((results_ARIMA.fittedvalues-log_diff_amr)**2))"
   ]
  },
  {
   "cell_type": "markdown",
   "metadata": {
    "id": "pMiPcPxBr3pK"
   },
   "source": [
    "The forecast plot looks convincing and hence we proceed to actual forecasting. Since I had less data, I chose to forecast and plot the train data instead to visibly see the forecast curve"
   ]
  },
  {
   "cell_type": "code",
   "execution_count": 44,
   "metadata": {
    "colab": {
     "base_uri": "https://localhost:8080/",
     "height": 218
    },
    "id": "pNspEQRCZjsp",
    "outputId": "52642059-788c-476d-a222-e592b4ce0939"
   },
   "outputs": [
    {
     "data": {
      "text/plain": [
       "1      0.007254\n",
       "2      0.006596\n",
       "3      0.008078\n",
       "4      0.011498\n",
       "5     -0.004403\n",
       "         ...   \n",
       "109    0.018090\n",
       "110   -0.034501\n",
       "111    0.011668\n",
       "112    0.022920\n",
       "113   -0.035152\n",
       "Length: 113, dtype: float64"
      ]
     },
     "execution_count": 44,
     "metadata": {
      "tags": []
     },
     "output_type": "execute_result"
    }
   ],
   "source": [
    "results_ARIMA.fittedvalues"
   ]
  },
  {
   "cell_type": "code",
   "execution_count": 47,
   "metadata": {
    "colab": {
     "base_uri": "https://localhost:8080/",
     "height": 118
    },
    "id": "zvMd9RVGZHu4",
    "outputId": "5a404abc-f2c9-49e3-9c8d-ef54f461ad26"
   },
   "outputs": [
    {
     "name": "stdout",
     "output_type": "stream",
     "text": [
      "1    0.007254\n",
      "2    0.006596\n",
      "3    0.008078\n",
      "4    0.011498\n",
      "5   -0.004403\n",
      "dtype: float64\n"
     ]
    }
   ],
   "source": [
    "predictions_ARIMA_diff = pd.Series(results_ARIMA.fittedvalues, copy=True)\n",
    "print(predictions_ARIMA_diff.head())"
   ]
  },
  {
   "cell_type": "markdown",
   "metadata": {
    "id": "1AdM5eAtaY3s"
   },
   "source": [
    "This is because we took a lag by 1 and first element doesn’t have anything before it to subtract from. The way to convert the differencing to log scale is to add these differences consecutively to the base number. An easy way to do it is to first determine the cumulative sum at index and then add it to the base number. The cumulative sum can be found as:"
   ]
  },
  {
   "cell_type": "code",
   "execution_count": 48,
   "metadata": {
    "colab": {
     "base_uri": "https://localhost:8080/",
     "height": 118
    },
    "id": "blJKbG_qZH2y",
    "outputId": "063f04e3-41eb-4717-d362-01b4f5ad7119"
   },
   "outputs": [
    {
     "data": {
      "text/plain": [
       "1    0.007254\n",
       "2    0.013850\n",
       "3    0.021928\n",
       "4    0.033426\n",
       "5    0.029023\n",
       "dtype: float64"
      ]
     },
     "execution_count": 48,
     "metadata": {
      "tags": []
     },
     "output_type": "execute_result"
    }
   ],
   "source": [
    "predictions_ARIMA_diff_cumsum = predictions_ARIMA_diff.cumsum()\n",
    "predictions_ARIMA_log = pd.Series(df.iloc[0][2], index=df.index)\n",
    "predictions_ARIMA_log = predictions_ARIMA_log.add(predictions_ARIMA_diff_cumsum,fill_value=0)\n",
    "predictions_ARIMA_log.head()\n",
    "#predictions_ARIMA_diff_cumsum.head()"
   ]
  },
  {
   "cell_type": "code",
   "execution_count": 52,
   "metadata": {
    "colab": {
     "base_uri": "https://localhost:8080/",
     "height": 298
    },
    "id": "wHjA0F45ZIHT",
    "outputId": "9563c8b9-1e01-4277-a690-4fe4dae1dc18"
   },
   "outputs": [
    {
     "data": {
      "text/plain": [
       "Text(0.5, 1.0, 'RMSE: 183.2952')"
      ]
     },
     "execution_count": 52,
     "metadata": {
      "tags": []
     },
     "output_type": "execute_result"
    },
    {
     "data": {
      "image/png": "[encoded data removed]",
      "text/plain": [
       "<Figure size 432x288 with 1 Axes>"
      ]
     },
     "metadata": {
      "needs_background": "light",
      "tags": []
     },
     "output_type": "display_data"
    }
   ],
   "source": [
    "predictions_ARIMA = np.exp(predictions_ARIMA_log)\n",
    "plt.plot(df[\"average_monthly_ridership\"])\n",
    "plt.plot(predictions_ARIMA)\n",
    "plt.title('RMSE: %.4f'% np.sqrt(sum((predictions_ARIMA-df[\"average_monthly_ridership\"])**2)/len(df)))"
   ]
  },
  {
   "cell_type": "code",
   "execution_count": 59,
   "metadata": {
    "colab": {
     "base_uri": "https://localhost:8080/",
     "height": 195
    },
    "id": "FUX8w-MIl49f",
    "outputId": "f6e12dd6-5600-48a5-deef-357298476d08"
   },
   "outputs": [
    {
     "data": {
      "text/html": [
       "<div>\n",
       "<style scoped>\n",
       "    .dataframe tbody tr th:only-of-type {\n",
       "        vertical-align: middle;\n",
       "    }\n",
       "\n",
       "    .dataframe tbody tr th {\n",
       "        vertical-align: top;\n",
       "    }\n",
       "\n",
       "    .dataframe thead th {\n",
       "        text-align: right;\n",
       "    }\n",
       "</style>\n",
       "<table border=\"1\" class=\"dataframe\">\n",
       "  <thead>\n",
       "    <tr style=\"text-align: right;\">\n",
       "      <th></th>\n",
       "      <th>month</th>\n",
       "      <th>average_monthly_ridership</th>\n",
       "      <th>log_amr</th>\n",
       "      <th>log_diff_amr</th>\n",
       "      <th>Sl.no</th>\n",
       "      <th>pred</th>\n",
       "      <th>pred_AIC</th>\n",
       "    </tr>\n",
       "  </thead>\n",
       "  <tbody>\n",
       "    <tr>\n",
       "      <th>0</th>\n",
       "      <td>1960-01-01</td>\n",
       "      <td>648</td>\n",
       "      <td>6.473891</td>\n",
       "      <td>NaN</td>\n",
       "      <td>0</td>\n",
       "      <td>648.000000</td>\n",
       "      <td>648.000000</td>\n",
       "    </tr>\n",
       "    <tr>\n",
       "      <th>1</th>\n",
       "      <td>1960-02-01</td>\n",
       "      <td>646</td>\n",
       "      <td>6.470800</td>\n",
       "      <td>-0.003091</td>\n",
       "      <td>1</td>\n",
       "      <td>652.717623</td>\n",
       "      <td>652.123479</td>\n",
       "    </tr>\n",
       "    <tr>\n",
       "      <th>2</th>\n",
       "      <td>1960-03-01</td>\n",
       "      <td>639</td>\n",
       "      <td>6.459904</td>\n",
       "      <td>-0.010895</td>\n",
       "      <td>2</td>\n",
       "      <td>657.037239</td>\n",
       "      <td>656.273197</td>\n",
       "    </tr>\n",
       "    <tr>\n",
       "      <th>3</th>\n",
       "      <td>1960-04-01</td>\n",
       "      <td>654</td>\n",
       "      <td>6.483107</td>\n",
       "      <td>0.023203</td>\n",
       "      <td>3</td>\n",
       "      <td>662.366478</td>\n",
       "      <td>660.449321</td>\n",
       "    </tr>\n",
       "    <tr>\n",
       "      <th>4</th>\n",
       "      <td>1960-05-01</td>\n",
       "      <td>630</td>\n",
       "      <td>6.445720</td>\n",
       "      <td>-0.037388</td>\n",
       "      <td>4</td>\n",
       "      <td>670.026104</td>\n",
       "      <td>664.652020</td>\n",
       "    </tr>\n",
       "  </tbody>\n",
       "</table>\n",
       "</div>"
      ],
      "text/plain": [
       "       month  average_monthly_ridership  ...        pred    pred_AIC\n",
       "0 1960-01-01                        648  ...  648.000000  648.000000\n",
       "1 1960-02-01                        646  ...  652.717623  652.123479\n",
       "2 1960-03-01                        639  ...  657.037239  656.273197\n",
       "3 1960-04-01                        654  ...  662.366478  660.449321\n",
       "4 1960-05-01                        630  ...  670.026104  664.652020\n",
       "\n",
       "[5 rows x 7 columns]"
      ]
     },
     "execution_count": 59,
     "metadata": {
      "tags": []
     },
     "output_type": "execute_result"
    }
   ],
   "source": [
    "df[\"pred_AIC\"]=predictions_ARIMA\n",
    "df.head()"
   ]
  },
  {
   "cell_type": "code",
   "execution_count": 60,
   "metadata": {
    "id": "HzZ_HLokosZ8"
   },
   "outputs": [],
   "source": [
    "df.drop([\"pred\"],axis=1,inplace=True)"
   ]
  },
  {
   "cell_type": "markdown",
   "metadata": {
    "id": "IptsH6UAoMvu"
   },
   "source": [
    "## **$BIC$**"
   ]
  },
  {
   "cell_type": "markdown",
   "metadata": {
    "id": "xG_UXo1KsrYd"
   },
   "source": [
    "Similarly we proceed with BIC to chose the best model and forecast."
   ]
  },
  {
   "cell_type": "code",
   "execution_count": 33,
   "metadata": {
    "ExecuteTime": {
     "end_time": "2020-10-03T22:04:22.449269Z",
     "start_time": "2020-10-03T22:04:22.445296Z"
    },
    "colab": {
     "base_uri": "https://localhost:8080/",
     "height": 588
    },
    "id": "DltsVBWYG3cD",
    "outputId": "57a87282-7ddb-46cb-f379-c97792ba79b4"
   },
   "outputs": [
    {
     "name": "stderr",
     "output_type": "stream",
     "text": [
      "/usr/local/lib/python3.6/dist-packages/statsmodels/base/model.py:492: HessianInversionWarning: Inverting hessian failed, no bse or cov_params available\n",
      "  'available', HessianInversionWarning)\n",
      "/usr/local/lib/python3.6/dist-packages/statsmodels/base/model.py:492: HessianInversionWarning: Inverting hessian failed, no bse or cov_params available\n",
      "  'available', HessianInversionWarning)\n",
      "/usr/local/lib/python3.6/dist-packages/statsmodels/base/model.py:512: ConvergenceWarning: Maximum Likelihood optimization failed to converge. Check mle_retvals\n",
      "  \"Check mle_retvals\", ConvergenceWarning)\n",
      "/usr/local/lib/python3.6/dist-packages/statsmodels/base/model.py:492: HessianInversionWarning: Inverting hessian failed, no bse or cov_params available\n",
      "  'available', HessianInversionWarning)\n",
      "/usr/local/lib/python3.6/dist-packages/statsmodels/base/model.py:492: HessianInversionWarning: Inverting hessian failed, no bse or cov_params available\n",
      "  'available', HessianInversionWarning)\n",
      "/usr/local/lib/python3.6/dist-packages/statsmodels/base/model.py:492: HessianInversionWarning: Inverting hessian failed, no bse or cov_params available\n",
      "  'available', HessianInversionWarning)\n",
      "/usr/local/lib/python3.6/dist-packages/statsmodels/base/model.py:492: HessianInversionWarning: Inverting hessian failed, no bse or cov_params available\n",
      "  'available', HessianInversionWarning)\n",
      "/usr/local/lib/python3.6/dist-packages/statsmodels/base/model.py:492: HessianInversionWarning: Inverting hessian failed, no bse or cov_params available\n",
      "  'available', HessianInversionWarning)\n",
      "/usr/local/lib/python3.6/dist-packages/statsmodels/base/model.py:492: HessianInversionWarning: Inverting hessian failed, no bse or cov_params available\n",
      "  'available', HessianInversionWarning)\n",
      "/usr/local/lib/python3.6/dist-packages/statsmodels/tsa/tsatools.py:693: RuntimeWarning: invalid value encountered in double_scalars\n",
      "  tmp[kiter] = (macoefs[kiter]-b *macoefs[j-kiter-1])/(1-b**2)\n",
      "/usr/local/lib/python3.6/dist-packages/statsmodels/tsa/tsatools.py:695: RuntimeWarning: divide by zero encountered in log\n",
      "  invmacoefs = -np.log((1-macoefs)/(1+macoefs))\n",
      "/usr/local/lib/python3.6/dist-packages/statsmodels/base/model.py:492: HessianInversionWarning: Inverting hessian failed, no bse or cov_params available\n",
      "  'available', HessianInversionWarning)\n",
      "/usr/local/lib/python3.6/dist-packages/statsmodels/base/model.py:492: HessianInversionWarning: Inverting hessian failed, no bse or cov_params available\n",
      "  'available', HessianInversionWarning)\n",
      "/usr/local/lib/python3.6/dist-packages/statsmodels/base/model.py:512: ConvergenceWarning: Maximum Likelihood optimization failed to converge. Check mle_retvals\n",
      "  \"Check mle_retvals\", ConvergenceWarning)\n",
      "/usr/local/lib/python3.6/dist-packages/statsmodels/tsa/tsatools.py:651: RuntimeWarning: invalid value encountered in arctanh\n",
      "  invarcoefs = 2*np.arctanh(params)\n",
      "/usr/local/lib/python3.6/dist-packages/statsmodels/base/model.py:512: ConvergenceWarning: Maximum Likelihood optimization failed to converge. Check mle_retvals\n",
      "  \"Check mle_retvals\", ConvergenceWarning)\n",
      "/usr/local/lib/python3.6/dist-packages/statsmodels/base/model.py:492: HessianInversionWarning: Inverting hessian failed, no bse or cov_params available\n",
      "  'available', HessianInversionWarning)\n"
     ]
    }
   ],
   "source": [
    "BIC=[]\n",
    "for i in order_list:\n",
    "    try:\n",
    "        model=ARIMA(df[\"log_amr\"], order=i).fit(disp=False)\n",
    "    except:\n",
    "        continue\n",
    "    bic = model.bic\n",
    "    BIC.append((i,bic))"
   ]
  },
  {
   "cell_type": "code",
   "execution_count": 36,
   "metadata": {
    "colab": {
     "base_uri": "https://localhost:8080/",
     "height": 1000
    },
    "id": "ZVfbKj59G3cE",
    "outputId": "cc2ed290-bd1e-4b26-fa5a-fa55b71f0bc2"
   },
   "outputs": [
    {
     "data": {
      "text/html": [
       "<div>\n",
       "<style scoped>\n",
       "    .dataframe tbody tr th:only-of-type {\n",
       "        vertical-align: middle;\n",
       "    }\n",
       "\n",
       "    .dataframe tbody tr th {\n",
       "        vertical-align: top;\n",
       "    }\n",
       "\n",
       "    .dataframe thead th {\n",
       "        text-align: right;\n",
       "    }\n",
       "</style>\n",
       "<table border=\"1\" class=\"dataframe\">\n",
       "  <thead>\n",
       "    <tr style=\"text-align: right;\">\n",
       "      <th></th>\n",
       "      <th>(p, d, q)</th>\n",
       "      <th>BIC</th>\n",
       "    </tr>\n",
       "  </thead>\n",
       "  <tbody>\n",
       "    <tr>\n",
       "      <th>0</th>\n",
       "      <td>(0, 1, 0)</td>\n",
       "      <td>-342.952802</td>\n",
       "    </tr>\n",
       "    <tr>\n",
       "      <th>1</th>\n",
       "      <td>(2, 1, 3)</td>\n",
       "      <td>-341.202092</td>\n",
       "    </tr>\n",
       "    <tr>\n",
       "      <th>2</th>\n",
       "      <td>(0, 1, 2)</td>\n",
       "      <td>-340.860783</td>\n",
       "    </tr>\n",
       "    <tr>\n",
       "      <th>3</th>\n",
       "      <td>(2, 1, 0)</td>\n",
       "      <td>-340.104211</td>\n",
       "    </tr>\n",
       "    <tr>\n",
       "      <th>4</th>\n",
       "      <td>(3, 1, 3)</td>\n",
       "      <td>-339.747769</td>\n",
       "    </tr>\n",
       "    <tr>\n",
       "      <th>5</th>\n",
       "      <td>(5, 1, 2)</td>\n",
       "      <td>-339.405316</td>\n",
       "    </tr>\n",
       "    <tr>\n",
       "      <th>6</th>\n",
       "      <td>(4, 1, 2)</td>\n",
       "      <td>-338.364145</td>\n",
       "    </tr>\n",
       "    <tr>\n",
       "      <th>7</th>\n",
       "      <td>(0, 1, 1)</td>\n",
       "      <td>-338.233822</td>\n",
       "    </tr>\n",
       "    <tr>\n",
       "      <th>8</th>\n",
       "      <td>(1, 1, 0)</td>\n",
       "      <td>-338.229817</td>\n",
       "    </tr>\n",
       "    <tr>\n",
       "      <th>9</th>\n",
       "      <td>(4, 1, 4)</td>\n",
       "      <td>-338.106485</td>\n",
       "    </tr>\n",
       "    <tr>\n",
       "      <th>10</th>\n",
       "      <td>(1, 1, 2)</td>\n",
       "      <td>-336.980593</td>\n",
       "    </tr>\n",
       "    <tr>\n",
       "      <th>11</th>\n",
       "      <td>(0, 1, 3)</td>\n",
       "      <td>-336.300651</td>\n",
       "    </tr>\n",
       "    <tr>\n",
       "      <th>12</th>\n",
       "      <td>(2, 1, 1)</td>\n",
       "      <td>-335.839762</td>\n",
       "    </tr>\n",
       "    <tr>\n",
       "      <th>13</th>\n",
       "      <td>(3, 1, 0)</td>\n",
       "      <td>-335.785782</td>\n",
       "    </tr>\n",
       "    <tr>\n",
       "      <th>14</th>\n",
       "      <td>(1, 1, 1)</td>\n",
       "      <td>-335.544404</td>\n",
       "    </tr>\n",
       "    <tr>\n",
       "      <th>15</th>\n",
       "      <td>(4, 1, 3)</td>\n",
       "      <td>-335.057936</td>\n",
       "    </tr>\n",
       "    <tr>\n",
       "      <th>16</th>\n",
       "      <td>(2, 1, 4)</td>\n",
       "      <td>-334.611093</td>\n",
       "    </tr>\n",
       "    <tr>\n",
       "      <th>17</th>\n",
       "      <td>(6, 1, 6)</td>\n",
       "      <td>-334.082530</td>\n",
       "    </tr>\n",
       "    <tr>\n",
       "      <th>18</th>\n",
       "      <td>(2, 1, 5)</td>\n",
       "      <td>-333.323597</td>\n",
       "    </tr>\n",
       "    <tr>\n",
       "      <th>19</th>\n",
       "      <td>(1, 1, 3)</td>\n",
       "      <td>-333.227167</td>\n",
       "    </tr>\n",
       "    <tr>\n",
       "      <th>20</th>\n",
       "      <td>(6, 1, 2)</td>\n",
       "      <td>-332.979243</td>\n",
       "    </tr>\n",
       "    <tr>\n",
       "      <th>21</th>\n",
       "      <td>(5, 1, 3)</td>\n",
       "      <td>-332.741721</td>\n",
       "    </tr>\n",
       "    <tr>\n",
       "      <th>22</th>\n",
       "      <td>(3, 1, 5)</td>\n",
       "      <td>-332.516875</td>\n",
       "    </tr>\n",
       "    <tr>\n",
       "      <th>23</th>\n",
       "      <td>(0, 1, 4)</td>\n",
       "      <td>-332.074051</td>\n",
       "    </tr>\n",
       "    <tr>\n",
       "      <th>24</th>\n",
       "      <td>(3, 1, 2)</td>\n",
       "      <td>-331.738385</td>\n",
       "    </tr>\n",
       "    <tr>\n",
       "      <th>25</th>\n",
       "      <td>(5, 1, 5)</td>\n",
       "      <td>-331.664929</td>\n",
       "    </tr>\n",
       "    <tr>\n",
       "      <th>26</th>\n",
       "      <td>(4, 1, 5)</td>\n",
       "      <td>-331.359349</td>\n",
       "    </tr>\n",
       "    <tr>\n",
       "      <th>27</th>\n",
       "      <td>(4, 1, 0)</td>\n",
       "      <td>-331.257928</td>\n",
       "    </tr>\n",
       "    <tr>\n",
       "      <th>28</th>\n",
       "      <td>(2, 1, 2)</td>\n",
       "      <td>-331.127358</td>\n",
       "    </tr>\n",
       "    <tr>\n",
       "      <th>29</th>\n",
       "      <td>(3, 1, 1)</td>\n",
       "      <td>-331.114844</td>\n",
       "    </tr>\n",
       "    <tr>\n",
       "      <th>30</th>\n",
       "      <td>(4, 1, 1)</td>\n",
       "      <td>-330.740092</td>\n",
       "    </tr>\n",
       "    <tr>\n",
       "      <th>31</th>\n",
       "      <td>(4, 1, 6)</td>\n",
       "      <td>-330.534595</td>\n",
       "    </tr>\n",
       "    <tr>\n",
       "      <th>32</th>\n",
       "      <td>(3, 1, 4)</td>\n",
       "      <td>-330.352030</td>\n",
       "    </tr>\n",
       "    <tr>\n",
       "      <th>33</th>\n",
       "      <td>(0, 1, 5)</td>\n",
       "      <td>-330.122801</td>\n",
       "    </tr>\n",
       "    <tr>\n",
       "      <th>34</th>\n",
       "      <td>(1, 1, 4)</td>\n",
       "      <td>-329.247059</td>\n",
       "    </tr>\n",
       "    <tr>\n",
       "      <th>35</th>\n",
       "      <td>(6, 1, 5)</td>\n",
       "      <td>-328.224871</td>\n",
       "    </tr>\n",
       "    <tr>\n",
       "      <th>36</th>\n",
       "      <td>(5, 1, 6)</td>\n",
       "      <td>-327.810290</td>\n",
       "    </tr>\n",
       "    <tr>\n",
       "      <th>37</th>\n",
       "      <td>(5, 1, 0)</td>\n",
       "      <td>-327.656196</td>\n",
       "    </tr>\n",
       "    <tr>\n",
       "      <th>38</th>\n",
       "      <td>(5, 1, 1)</td>\n",
       "      <td>-327.575700</td>\n",
       "    </tr>\n",
       "    <tr>\n",
       "      <th>39</th>\n",
       "      <td>(2, 1, 6)</td>\n",
       "      <td>-327.534397</td>\n",
       "    </tr>\n",
       "    <tr>\n",
       "      <th>40</th>\n",
       "      <td>(0, 1, 6)</td>\n",
       "      <td>-326.315914</td>\n",
       "    </tr>\n",
       "    <tr>\n",
       "      <th>41</th>\n",
       "      <td>(1, 1, 5)</td>\n",
       "      <td>-326.029922</td>\n",
       "    </tr>\n",
       "    <tr>\n",
       "      <th>42</th>\n",
       "      <td>(6, 1, 0)</td>\n",
       "      <td>-325.244891</td>\n",
       "    </tr>\n",
       "    <tr>\n",
       "      <th>43</th>\n",
       "      <td>(3, 1, 6)</td>\n",
       "      <td>-324.639554</td>\n",
       "    </tr>\n",
       "    <tr>\n",
       "      <th>44</th>\n",
       "      <td>(1, 1, 6)</td>\n",
       "      <td>-324.146200</td>\n",
       "    </tr>\n",
       "    <tr>\n",
       "      <th>45</th>\n",
       "      <td>(6, 1, 1)</td>\n",
       "      <td>-323.996134</td>\n",
       "    </tr>\n",
       "    <tr>\n",
       "      <th>46</th>\n",
       "      <td>(6, 1, 4)</td>\n",
       "      <td>-323.030581</td>\n",
       "    </tr>\n",
       "  </tbody>\n",
       "</table>\n",
       "</div>"
      ],
      "text/plain": [
       "    (p, d, q)         BIC\n",
       "0   (0, 1, 0) -342.952802\n",
       "1   (2, 1, 3) -341.202092\n",
       "2   (0, 1, 2) -340.860783\n",
       "3   (2, 1, 0) -340.104211\n",
       "4   (3, 1, 3) -339.747769\n",
       "5   (5, 1, 2) -339.405316\n",
       "6   (4, 1, 2) -338.364145\n",
       "7   (0, 1, 1) -338.233822\n",
       "8   (1, 1, 0) -338.229817\n",
       "9   (4, 1, 4) -338.106485\n",
       "10  (1, 1, 2) -336.980593\n",
       "11  (0, 1, 3) -336.300651\n",
       "12  (2, 1, 1) -335.839762\n",
       "13  (3, 1, 0) -335.785782\n",
       "14  (1, 1, 1) -335.544404\n",
       "15  (4, 1, 3) -335.057936\n",
       "16  (2, 1, 4) -334.611093\n",
       "17  (6, 1, 6) -334.082530\n",
       "18  (2, 1, 5) -333.323597\n",
       "19  (1, 1, 3) -333.227167\n",
       "20  (6, 1, 2) -332.979243\n",
       "21  (5, 1, 3) -332.741721\n",
       "22  (3, 1, 5) -332.516875\n",
       "23  (0, 1, 4) -332.074051\n",
       "24  (3, 1, 2) -331.738385\n",
       "25  (5, 1, 5) -331.664929\n",
       "26  (4, 1, 5) -331.359349\n",
       "27  (4, 1, 0) -331.257928\n",
       "28  (2, 1, 2) -331.127358\n",
       "29  (3, 1, 1) -331.114844\n",
       "30  (4, 1, 1) -330.740092\n",
       "31  (4, 1, 6) -330.534595\n",
       "32  (3, 1, 4) -330.352030\n",
       "33  (0, 1, 5) -330.122801\n",
       "34  (1, 1, 4) -329.247059\n",
       "35  (6, 1, 5) -328.224871\n",
       "36  (5, 1, 6) -327.810290\n",
       "37  (5, 1, 0) -327.656196\n",
       "38  (5, 1, 1) -327.575700\n",
       "39  (2, 1, 6) -327.534397\n",
       "40  (0, 1, 6) -326.315914\n",
       "41  (1, 1, 5) -326.029922\n",
       "42  (6, 1, 0) -325.244891\n",
       "43  (3, 1, 6) -324.639554\n",
       "44  (1, 1, 6) -324.146200\n",
       "45  (6, 1, 1) -323.996134\n",
       "46  (6, 1, 4) -323.030581"
      ]
     },
     "execution_count": 36,
     "metadata": {
      "tags": []
     },
     "output_type": "execute_result"
    }
   ],
   "source": [
    "BIC_df = pd.DataFrame(BIC)\n",
    "BIC_df.columns = ['(p, d, q)', 'BIC']\n",
    "BIC_df = BIC_df.sort_values(by='BIC', ascending=True).reset_index(drop=True)\n",
    "BIC_df "
   ]
  },
  {
   "cell_type": "code",
   "execution_count": 55,
   "metadata": {
    "colab": {
     "base_uri": "https://localhost:8080/",
     "height": 298
    },
    "id": "n5PyrcnnFjTY",
    "outputId": "487d3fce-48a6-4f17-e34e-c60f6268df54"
   },
   "outputs": [
    {
     "data": {
      "text/plain": [
       "Text(0.5, 1.0, 'RSS: nan')"
      ]
     },
     "execution_count": 55,
     "metadata": {
      "tags": []
     },
     "output_type": "execute_result"
    },
    {
     "data": {
      "image/png": "[encoded data removed]",
      "text/plain": [
       "<Figure size 432x288 with 1 Axes>"
      ]
     },
     "metadata": {
      "needs_background": "light",
      "tags": []
     },
     "output_type": "display_data"
    }
   ],
   "source": [
    "model = ARIMA(log_amr, order=(0, 1, 0))  \n",
    "results_ARIMA = model.fit(disp=-1)  \n",
    "plt.plot(log_diff_amr)\n",
    "plt.plot(results_ARIMA.fittedvalues, color='red')\n",
    "plt.title('RSS: %.4f'% sum((results_ARIMA.fittedvalues-log_diff_amr)**2))"
   ]
  },
  {
   "cell_type": "code",
   "execution_count": 63,
   "metadata": {
    "colab": {
     "base_uri": "https://localhost:8080/",
     "height": 118
    },
    "id": "m8ip99F1oKQ3",
    "outputId": "28a8cc61-cbb9-4629-b43e-89446ee098f1"
   },
   "outputs": [
    {
     "name": "stdout",
     "output_type": "stream",
     "text": [
      "1    0.006343\n",
      "2    0.006343\n",
      "3    0.006343\n",
      "4    0.006343\n",
      "5    0.006343\n",
      "dtype: float64\n"
     ]
    }
   ],
   "source": [
    "predictions_ARIMA_diff = pd.Series(results_ARIMA.fittedvalues, copy=True)\n",
    "print(predictions_ARIMA_diff.head())"
   ]
  },
  {
   "cell_type": "code",
   "execution_count": 64,
   "metadata": {
    "colab": {
     "base_uri": "https://localhost:8080/",
     "height": 118
    },
    "id": "oe1Ecsi0oKan",
    "outputId": "e27fce29-c29b-4f4e-89b1-65db962180a0"
   },
   "outputs": [
    {
     "data": {
      "text/plain": [
       "0    6.473891\n",
       "1    6.480234\n",
       "2    6.486577\n",
       "3    6.492920\n",
       "4    6.499264\n",
       "dtype: float64"
      ]
     },
     "execution_count": 64,
     "metadata": {
      "tags": []
     },
     "output_type": "execute_result"
    }
   ],
   "source": [
    "predictions_ARIMA_diff_cumsum = predictions_ARIMA_diff.cumsum()\n",
    "predictions_ARIMA_log = pd.Series(df.iloc[0][2], index=df.index)\n",
    "predictions_ARIMA_log = predictions_ARIMA_log.add(predictions_ARIMA_diff_cumsum,fill_value=0)\n",
    "predictions_ARIMA_log.head()\n",
    "#predictions_ARIMA_diff_cumsum.head()"
   ]
  },
  {
   "cell_type": "code",
   "execution_count": 65,
   "metadata": {
    "colab": {
     "base_uri": "https://localhost:8080/",
     "height": 298
    },
    "id": "hPSfjHyMoKjT",
    "outputId": "8e7a617a-b98f-4753-d827-ca088e02ebfc"
   },
   "outputs": [
    {
     "data": {
      "text/plain": [
       "Text(0.5, 1.0, 'RMSE: 211.2040')"
      ]
     },
     "execution_count": 65,
     "metadata": {
      "tags": []
     },
     "output_type": "execute_result"
    },
    {
     "data": {
      "image/png": "[encoded data removed]",
      "text/plain": [
       "<Figure size 432x288 with 1 Axes>"
      ]
     },
     "metadata": {
      "needs_background": "light",
      "tags": []
     },
     "output_type": "display_data"
    }
   ],
   "source": [
    "predictions_ARIMA = np.exp(predictions_ARIMA_log)\n",
    "plt.plot(df[\"average_monthly_ridership\"])\n",
    "plt.plot(predictions_ARIMA)\n",
    "plt.title('RMSE: %.4f'% np.sqrt(sum((predictions_ARIMA-df[\"average_monthly_ridership\"])**2)/len(df)))"
   ]
  }
 ],
 "metadata": {
  "colab": {
   "collapsed_sections": [
    "2YI1J6c0fNvx",
    "CquqAzCpDPW4",
    "-S7ki_aSVvZX",
    "mB7AqiqteFlH",
    "Zt90zfKSNRY1"
   ],
   "name": "TSA_assgnment2.ipynb",
   "provenance": []
  },
  "kernelspec": {
   "display_name": "Python 3",
   "language": "python",
   "name": "python3"
  },
  "language_info": {
   "codemirror_mode": {
    "name": "ipython",
    "version": 3
   },
   "file_extension": ".py",
   "mimetype": "text/x-python",
   "name": "python",
   "nbconvert_exporter": "python",
   "pygments_lexer": "ipython3",
   "version": "3.7.6"
  },
  "toc": {
   "base_numbering": 1,
   "nav_menu": {},
   "number_sections": true,
   "sideBar": true,
   "skip_h1_title": false,
   "title_cell": "Table of Contents",
   "title_sidebar": "Contents",
   "toc_cell": false,
   "toc_position": {},
   "toc_section_display": true,
   "toc_window_display": false
  }
 },
 "nbformat": 4,
 "nbformat_minor": 1
}
