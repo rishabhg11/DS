{
 "cells": [
  {
   "cell_type": "markdown",
   "metadata": {},
   "source": [
    "# TIME SERIES ANALYSIS"
   ]
  },
  {
   "cell_type": "markdown",
   "metadata": {},
   "source": [
    "**Forecasting using ARCH/GARCH Modelling**"
   ]
  },
  {
   "cell_type": "code",
   "execution_count": 58,
   "metadata": {},
   "outputs": [],
   "source": [
    "import pandas as pd\n",
    "import numpy as np\n",
    "import warnings\n",
    "import math\n",
    "import matplotlib.pyplot as plt\n",
    "from arch import arch_model\n",
    "from arch.unitroot import PhillipsPerron,KPSS,ADF\n",
    "from statsmodels.tsa.arima_model import ARMA\n",
    "from statsmodels.graphics.tsaplots import plot_acf,plot_pacf\n",
    "from statsmodels.stats.diagnostic import acorr_ljungbox"
   ]
  },
  {
   "cell_type": "markdown",
   "metadata": {},
   "source": [
    "**DATASET**\n",
    "<br>\n",
    "The dataset used the **Walmart stock price** data of the last five years from 27-10-2015 to 26-10-2020"
   ]
  },
  {
   "cell_type": "code",
   "execution_count": 3,
   "metadata": {},
   "outputs": [
    {
     "data": {
      "text/html": [
       "<div>\n",
       "<style scoped>\n",
       "    .dataframe tbody tr th:only-of-type {\n",
       "        vertical-align: middle;\n",
       "    }\n",
       "\n",
       "    .dataframe tbody tr th {\n",
       "        vertical-align: top;\n",
       "    }\n",
       "\n",
       "    .dataframe thead th {\n",
       "        text-align: right;\n",
       "    }\n",
       "</style>\n",
       "<table border=\"1\" class=\"dataframe\">\n",
       "  <thead>\n",
       "    <tr style=\"text-align: right;\">\n",
       "      <th></th>\n",
       "      <th>Date</th>\n",
       "      <th>Open</th>\n",
       "      <th>High</th>\n",
       "      <th>Low</th>\n",
       "      <th>Close</th>\n",
       "      <th>Adj Close</th>\n",
       "      <th>Volume</th>\n",
       "    </tr>\n",
       "  </thead>\n",
       "  <tbody>\n",
       "    <tr>\n",
       "      <th>0</th>\n",
       "      <td>2015-10-27</td>\n",
       "      <td>58.009998</td>\n",
       "      <td>58.040001</td>\n",
       "      <td>57.380001</td>\n",
       "      <td>57.480000</td>\n",
       "      <td>50.770065</td>\n",
       "      <td>10511400</td>\n",
       "    </tr>\n",
       "    <tr>\n",
       "      <th>1</th>\n",
       "      <td>2015-10-28</td>\n",
       "      <td>57.660000</td>\n",
       "      <td>57.720001</td>\n",
       "      <td>57.160000</td>\n",
       "      <td>57.639999</td>\n",
       "      <td>50.911388</td>\n",
       "      <td>11834700</td>\n",
       "    </tr>\n",
       "    <tr>\n",
       "      <th>2</th>\n",
       "      <td>2015-10-29</td>\n",
       "      <td>57.720001</td>\n",
       "      <td>58.119999</td>\n",
       "      <td>57.480000</td>\n",
       "      <td>57.959999</td>\n",
       "      <td>51.194035</td>\n",
       "      <td>12855500</td>\n",
       "    </tr>\n",
       "    <tr>\n",
       "      <th>3</th>\n",
       "      <td>2015-10-30</td>\n",
       "      <td>57.730000</td>\n",
       "      <td>58.119999</td>\n",
       "      <td>57.240002</td>\n",
       "      <td>57.240002</td>\n",
       "      <td>50.558086</td>\n",
       "      <td>15805500</td>\n",
       "    </tr>\n",
       "    <tr>\n",
       "      <th>4</th>\n",
       "      <td>2015-11-02</td>\n",
       "      <td>57.290001</td>\n",
       "      <td>57.610001</td>\n",
       "      <td>56.770000</td>\n",
       "      <td>57.610001</td>\n",
       "      <td>50.884892</td>\n",
       "      <td>10719200</td>\n",
       "    </tr>\n",
       "    <tr>\n",
       "      <th>...</th>\n",
       "      <td>...</td>\n",
       "      <td>...</td>\n",
       "      <td>...</td>\n",
       "      <td>...</td>\n",
       "      <td>...</td>\n",
       "      <td>...</td>\n",
       "      <td>...</td>\n",
       "    </tr>\n",
       "    <tr>\n",
       "      <th>1254</th>\n",
       "      <td>2020-10-20</td>\n",
       "      <td>144.110001</td>\n",
       "      <td>145.529999</td>\n",
       "      <td>143.619995</td>\n",
       "      <td>143.899994</td>\n",
       "      <td>143.899994</td>\n",
       "      <td>4841000</td>\n",
       "    </tr>\n",
       "    <tr>\n",
       "      <th>1255</th>\n",
       "      <td>2020-10-21</td>\n",
       "      <td>143.839996</td>\n",
       "      <td>145.729996</td>\n",
       "      <td>143.839996</td>\n",
       "      <td>144.399994</td>\n",
       "      <td>144.399994</td>\n",
       "      <td>4371400</td>\n",
       "    </tr>\n",
       "    <tr>\n",
       "      <th>1256</th>\n",
       "      <td>2020-10-22</td>\n",
       "      <td>144.190002</td>\n",
       "      <td>144.559998</td>\n",
       "      <td>142.690002</td>\n",
       "      <td>143.550003</td>\n",
       "      <td>143.550003</td>\n",
       "      <td>4448000</td>\n",
       "    </tr>\n",
       "    <tr>\n",
       "      <th>1257</th>\n",
       "      <td>2020-10-23</td>\n",
       "      <td>143.970001</td>\n",
       "      <td>144.139999</td>\n",
       "      <td>142.850006</td>\n",
       "      <td>143.850006</td>\n",
       "      <td>143.850006</td>\n",
       "      <td>3513500</td>\n",
       "    </tr>\n",
       "    <tr>\n",
       "      <th>1258</th>\n",
       "      <td>2020-10-26</td>\n",
       "      <td>142.839996</td>\n",
       "      <td>143.119995</td>\n",
       "      <td>140.940002</td>\n",
       "      <td>142.160004</td>\n",
       "      <td>142.160004</td>\n",
       "      <td>5366800</td>\n",
       "    </tr>\n",
       "  </tbody>\n",
       "</table>\n",
       "<p>1259 rows × 7 columns</p>\n",
       "</div>"
      ],
      "text/plain": [
       "            Date        Open        High         Low       Close   Adj Close  \\\n",
       "0     2015-10-27   58.009998   58.040001   57.380001   57.480000   50.770065   \n",
       "1     2015-10-28   57.660000   57.720001   57.160000   57.639999   50.911388   \n",
       "2     2015-10-29   57.720001   58.119999   57.480000   57.959999   51.194035   \n",
       "3     2015-10-30   57.730000   58.119999   57.240002   57.240002   50.558086   \n",
       "4     2015-11-02   57.290001   57.610001   56.770000   57.610001   50.884892   \n",
       "...          ...         ...         ...         ...         ...         ...   \n",
       "1254  2020-10-20  144.110001  145.529999  143.619995  143.899994  143.899994   \n",
       "1255  2020-10-21  143.839996  145.729996  143.839996  144.399994  144.399994   \n",
       "1256  2020-10-22  144.190002  144.559998  142.690002  143.550003  143.550003   \n",
       "1257  2020-10-23  143.970001  144.139999  142.850006  143.850006  143.850006   \n",
       "1258  2020-10-26  142.839996  143.119995  140.940002  142.160004  142.160004   \n",
       "\n",
       "        Volume  \n",
       "0     10511400  \n",
       "1     11834700  \n",
       "2     12855500  \n",
       "3     15805500  \n",
       "4     10719200  \n",
       "...        ...  \n",
       "1254   4841000  \n",
       "1255   4371400  \n",
       "1256   4448000  \n",
       "1257   3513500  \n",
       "1258   5366800  \n",
       "\n",
       "[1259 rows x 7 columns]"
      ]
     },
     "execution_count": 3,
     "metadata": {},
     "output_type": "execute_result"
    }
   ],
   "source": [
    "data=pd.read_csv('WMT.csv')\n",
    "data"
   ]
  },
  {
   "cell_type": "markdown",
   "metadata": {},
   "source": [
    "Our data is already sorted chronologically."
   ]
  },
  {
   "cell_type": "markdown",
   "metadata": {},
   "source": [
    "We will consider the **Close** prices for the our time series analysis"
   ]
  },
  {
   "cell_type": "code",
   "execution_count": 156,
   "metadata": {},
   "outputs": [
    {
     "data": {
      "text/plain": [
       "count    1259.000000\n",
       "mean       92.627157\n",
       "std        21.759502\n",
       "min        56.419998\n",
       "25%        72.155002\n",
       "50%        89.980003\n",
       "75%       111.419998\n",
       "max       147.679993\n",
       "Name: Close, dtype: float64"
      ]
     },
     "execution_count": 156,
     "metadata": {},
     "output_type": "execute_result"
    }
   ],
   "source": [
    "data['Close'].describe()"
   ]
  },
  {
   "cell_type": "code",
   "execution_count": 159,
   "metadata": {},
   "outputs": [
    {
     "data": {
      "text/plain": [
       "<matplotlib.axes._subplots.AxesSubplot at 0x1394aa48a48>"
      ]
     },
     "execution_count": 159,
     "metadata": {},
     "output_type": "execute_result"
    },
    {
     "data": {
      "image/png": "[encoded data removed]",
      "text/plain": [
       "<Figure size 432x288 with 1 Axes>"
      ]
     },
     "metadata": {
      "needs_background": "light"
     },
     "output_type": "display_data"
    }
   ],
   "source": [
    "data['Close'].plot.hist(bins=20,alpha=0.5)"
   ]
  },
  {
   "cell_type": "markdown",
   "metadata": {},
   "source": [
    "Plot for **Close** price"
   ]
  },
  {
   "cell_type": "code",
   "execution_count": 165,
   "metadata": {},
   "outputs": [
    {
     "data": {
      "text/plain": [
       "[<matplotlib.lines.Line2D at 0x13947228b48>]"
      ]
     },
     "execution_count": 165,
     "metadata": {},
     "output_type": "execute_result"
    },
    {
     "data": {
      "image/png": "[encoded data removed]",
      "text/plain": [
       "<Figure size 432x288 with 1 Axes>"
      ]
     },
     "metadata": {
      "needs_background": "light"
     },
     "output_type": "display_data"
    }
   ],
   "source": [
    "plt.plot(data['Close'])"
   ]
  },
  {
   "cell_type": "markdown",
   "metadata": {},
   "source": [
    "**CHECK FOR STATIONARITY**"
   ]
  },
  {
   "cell_type": "markdown",
   "metadata": {},
   "source": [
    "Now let us check if our data is stationary.\n",
    "<br>\n",
    "<b>Augmented Dickey-Fuller test</b>\n"
   ]
  },
  {
   "cell_type": "code",
   "execution_count": 4,
   "metadata": {},
   "outputs": [
    {
     "name": "stdout",
     "output_type": "stream",
     "text": [
      "<bound method UnitRootTest.summary of <class 'arch.unitroot.unitroot.ADF'>\n",
      "\"\"\"\n",
      "   Augmented Dickey-Fuller Results   \n",
      "=====================================\n",
      "Test Statistic                  0.186\n",
      "P-value                         0.971\n",
      "Lags                               22\n",
      "-------------------------------------\n",
      "\n",
      "Trend: Constant\n",
      "Critical Values: -3.44 (1%), -2.86 (5%), -2.57 (10%)\n",
      "Null Hypothesis: The process contains a unit root.\n",
      "Alternative Hypothesis: The process is weakly stationary.\n",
      "\"\"\">\n",
      "Failed to reject null hypothesis : Time Series is Non-Stationary\n"
     ]
    }
   ],
   "source": [
    "adf_test = ADF(data['Close'])\n",
    "print(adf_test.summary)\n",
    "if adf_test.stat < adf_test.critical_values[\"5%\"]:\n",
    "    print (\"Null hypothesis is rejected : Time Series is Stationary\")\n",
    "else:\n",
    "    print (\"Failed to reject null hypothesis : Time Series is Non-Stationary\")"
   ]
  },
  {
   "cell_type": "markdown",
   "metadata": {},
   "source": [
    "Since our data is **non stationary**, we proceed to do the stationary test on **log return**."
   ]
  },
  {
   "cell_type": "code",
   "execution_count": 5,
   "metadata": {},
   "outputs": [
    {
     "data": {
      "text/html": [
       "<div>\n",
       "<style scoped>\n",
       "    .dataframe tbody tr th:only-of-type {\n",
       "        vertical-align: middle;\n",
       "    }\n",
       "\n",
       "    .dataframe tbody tr th {\n",
       "        vertical-align: top;\n",
       "    }\n",
       "\n",
       "    .dataframe thead th {\n",
       "        text-align: right;\n",
       "    }\n",
       "</style>\n",
       "<table border=\"1\" class=\"dataframe\">\n",
       "  <thead>\n",
       "    <tr style=\"text-align: right;\">\n",
       "      <th></th>\n",
       "      <th>Date</th>\n",
       "      <th>Open</th>\n",
       "      <th>High</th>\n",
       "      <th>Low</th>\n",
       "      <th>Close</th>\n",
       "      <th>Adj Close</th>\n",
       "      <th>Volume</th>\n",
       "      <th>log_ret</th>\n",
       "    </tr>\n",
       "  </thead>\n",
       "  <tbody>\n",
       "    <tr>\n",
       "      <th>0</th>\n",
       "      <td>2015-10-27</td>\n",
       "      <td>58.009998</td>\n",
       "      <td>58.040001</td>\n",
       "      <td>57.380001</td>\n",
       "      <td>57.480000</td>\n",
       "      <td>50.770065</td>\n",
       "      <td>10511400</td>\n",
       "      <td>NaN</td>\n",
       "    </tr>\n",
       "    <tr>\n",
       "      <th>1</th>\n",
       "      <td>2015-10-28</td>\n",
       "      <td>57.660000</td>\n",
       "      <td>57.720001</td>\n",
       "      <td>57.160000</td>\n",
       "      <td>57.639999</td>\n",
       "      <td>50.911388</td>\n",
       "      <td>11834700</td>\n",
       "      <td>0.002780</td>\n",
       "    </tr>\n",
       "    <tr>\n",
       "      <th>2</th>\n",
       "      <td>2015-10-29</td>\n",
       "      <td>57.720001</td>\n",
       "      <td>58.119999</td>\n",
       "      <td>57.480000</td>\n",
       "      <td>57.959999</td>\n",
       "      <td>51.194035</td>\n",
       "      <td>12855500</td>\n",
       "      <td>0.005536</td>\n",
       "    </tr>\n",
       "    <tr>\n",
       "      <th>3</th>\n",
       "      <td>2015-10-30</td>\n",
       "      <td>57.730000</td>\n",
       "      <td>58.119999</td>\n",
       "      <td>57.240002</td>\n",
       "      <td>57.240002</td>\n",
       "      <td>50.558086</td>\n",
       "      <td>15805500</td>\n",
       "      <td>-0.012500</td>\n",
       "    </tr>\n",
       "    <tr>\n",
       "      <th>4</th>\n",
       "      <td>2015-11-02</td>\n",
       "      <td>57.290001</td>\n",
       "      <td>57.610001</td>\n",
       "      <td>56.770000</td>\n",
       "      <td>57.610001</td>\n",
       "      <td>50.884892</td>\n",
       "      <td>10719200</td>\n",
       "      <td>0.006443</td>\n",
       "    </tr>\n",
       "    <tr>\n",
       "      <th>...</th>\n",
       "      <td>...</td>\n",
       "      <td>...</td>\n",
       "      <td>...</td>\n",
       "      <td>...</td>\n",
       "      <td>...</td>\n",
       "      <td>...</td>\n",
       "      <td>...</td>\n",
       "      <td>...</td>\n",
       "    </tr>\n",
       "    <tr>\n",
       "      <th>1254</th>\n",
       "      <td>2020-10-20</td>\n",
       "      <td>144.110001</td>\n",
       "      <td>145.529999</td>\n",
       "      <td>143.619995</td>\n",
       "      <td>143.899994</td>\n",
       "      <td>143.899994</td>\n",
       "      <td>4841000</td>\n",
       "      <td>0.006624</td>\n",
       "    </tr>\n",
       "    <tr>\n",
       "      <th>1255</th>\n",
       "      <td>2020-10-21</td>\n",
       "      <td>143.839996</td>\n",
       "      <td>145.729996</td>\n",
       "      <td>143.839996</td>\n",
       "      <td>144.399994</td>\n",
       "      <td>144.399994</td>\n",
       "      <td>4371400</td>\n",
       "      <td>0.003469</td>\n",
       "    </tr>\n",
       "    <tr>\n",
       "      <th>1256</th>\n",
       "      <td>2020-10-22</td>\n",
       "      <td>144.190002</td>\n",
       "      <td>144.559998</td>\n",
       "      <td>142.690002</td>\n",
       "      <td>143.550003</td>\n",
       "      <td>143.550003</td>\n",
       "      <td>4448000</td>\n",
       "      <td>-0.005904</td>\n",
       "    </tr>\n",
       "    <tr>\n",
       "      <th>1257</th>\n",
       "      <td>2020-10-23</td>\n",
       "      <td>143.970001</td>\n",
       "      <td>144.139999</td>\n",
       "      <td>142.850006</td>\n",
       "      <td>143.850006</td>\n",
       "      <td>143.850006</td>\n",
       "      <td>3513500</td>\n",
       "      <td>0.002088</td>\n",
       "    </tr>\n",
       "    <tr>\n",
       "      <th>1258</th>\n",
       "      <td>2020-10-26</td>\n",
       "      <td>142.839996</td>\n",
       "      <td>143.119995</td>\n",
       "      <td>140.940002</td>\n",
       "      <td>142.160004</td>\n",
       "      <td>142.160004</td>\n",
       "      <td>5366800</td>\n",
       "      <td>-0.011818</td>\n",
       "    </tr>\n",
       "  </tbody>\n",
       "</table>\n",
       "<p>1259 rows × 8 columns</p>\n",
       "</div>"
      ],
      "text/plain": [
       "            Date        Open        High         Low       Close   Adj Close  \\\n",
       "0     2015-10-27   58.009998   58.040001   57.380001   57.480000   50.770065   \n",
       "1     2015-10-28   57.660000   57.720001   57.160000   57.639999   50.911388   \n",
       "2     2015-10-29   57.720001   58.119999   57.480000   57.959999   51.194035   \n",
       "3     2015-10-30   57.730000   58.119999   57.240002   57.240002   50.558086   \n",
       "4     2015-11-02   57.290001   57.610001   56.770000   57.610001   50.884892   \n",
       "...          ...         ...         ...         ...         ...         ...   \n",
       "1254  2020-10-20  144.110001  145.529999  143.619995  143.899994  143.899994   \n",
       "1255  2020-10-21  143.839996  145.729996  143.839996  144.399994  144.399994   \n",
       "1256  2020-10-22  144.190002  144.559998  142.690002  143.550003  143.550003   \n",
       "1257  2020-10-23  143.970001  144.139999  142.850006  143.850006  143.850006   \n",
       "1258  2020-10-26  142.839996  143.119995  140.940002  142.160004  142.160004   \n",
       "\n",
       "        Volume   log_ret  \n",
       "0     10511400       NaN  \n",
       "1     11834700  0.002780  \n",
       "2     12855500  0.005536  \n",
       "3     15805500 -0.012500  \n",
       "4     10719200  0.006443  \n",
       "...        ...       ...  \n",
       "1254   4841000  0.006624  \n",
       "1255   4371400  0.003469  \n",
       "1256   4448000 -0.005904  \n",
       "1257   3513500  0.002088  \n",
       "1258   5366800 -0.011818  \n",
       "\n",
       "[1259 rows x 8 columns]"
      ]
     },
     "execution_count": 5,
     "metadata": {},
     "output_type": "execute_result"
    }
   ],
   "source": [
    "data['log_ret'] = np.log(data.Close) - np.log(data.Close.shift(1))\n",
    "data"
   ]
  },
  {
   "cell_type": "code",
   "execution_count": 157,
   "metadata": {},
   "outputs": [
    {
     "data": {
      "text/plain": [
       "count    1258.000000\n",
       "mean        0.000720\n",
       "std         0.013993\n",
       "min        -0.107399\n",
       "25%        -0.005332\n",
       "50%         0.000728\n",
       "75%         0.006582\n",
       "max         0.110723\n",
       "Name: log_ret, dtype: float64"
      ]
     },
     "execution_count": 157,
     "metadata": {},
     "output_type": "execute_result"
    }
   ],
   "source": [
    "data.loc[1:]['log_ret'].describe()"
   ]
  },
  {
   "cell_type": "code",
   "execution_count": 168,
   "metadata": {},
   "outputs": [
    {
     "data": {
      "text/plain": [
       "<matplotlib.axes._subplots.AxesSubplot at 0x13947343d08>"
      ]
     },
     "execution_count": 168,
     "metadata": {},
     "output_type": "execute_result"
    },
    {
     "data": {
      "image/png": "[encoded data removed]",
      "text/plain": [
       "<Figure size 432x288 with 1 Axes>"
      ]
     },
     "metadata": {
      "needs_background": "light"
     },
     "output_type": "display_data"
    }
   ],
   "source": [
    "data.loc[1:]['log_ret'].plot.hist(bins=20,alpha=0.5)"
   ]
  },
  {
   "cell_type": "markdown",
   "metadata": {},
   "source": [
    "Plot of **Log Return**"
   ]
  },
  {
   "cell_type": "code",
   "execution_count": 162,
   "metadata": {},
   "outputs": [
    {
     "data": {
      "text/plain": [
       "[<matplotlib.lines.Line2D at 0x1394ab72e48>]"
      ]
     },
     "execution_count": 162,
     "metadata": {},
     "output_type": "execute_result"
    },
    {
     "data": {
      "image/png": "[encoded data removed]",
      "text/plain": [
       "<Figure size 432x288 with 1 Axes>"
      ]
     },
     "metadata": {
      "needs_background": "light"
     },
     "output_type": "display_data"
    }
   ],
   "source": [
    "plt.plot(data.loc[1:]['log_ret'])"
   ]
  },
  {
   "cell_type": "markdown",
   "metadata": {},
   "source": [
    "**CHECK FOR STATIONARITY**"
   ]
  },
  {
   "cell_type": "markdown",
   "metadata": {},
   "source": [
    "<b>Augmented Dickey-Fuller test</b>"
   ]
  },
  {
   "cell_type": "code",
   "execution_count": 6,
   "metadata": {},
   "outputs": [
    {
     "name": "stdout",
     "output_type": "stream",
     "text": [
      "<bound method UnitRootTest.summary of <class 'arch.unitroot.unitroot.ADF'>\n",
      "\"\"\"\n",
      "   Augmented Dickey-Fuller Results   \n",
      "=====================================\n",
      "Test Statistic                -12.632\n",
      "P-value                         0.000\n",
      "Lags                                8\n",
      "-------------------------------------\n",
      "\n",
      "Trend: Constant\n",
      "Critical Values: -3.44 (1%), -2.86 (5%), -2.57 (10%)\n",
      "Null Hypothesis: The process contains a unit root.\n",
      "Alternative Hypothesis: The process is weakly stationary.\n",
      "\"\"\">\n",
      "Null hypothesis is rejected : Time Series is Stationary\n"
     ]
    }
   ],
   "source": [
    "adf_test = ADF(data.loc[1:]['log_ret'])\n",
    "print(adf_test.summary)\n",
    "if adf_test.stat < adf_test.critical_values[\"5%\"]:\n",
    "    print (\"Null hypothesis is rejected : Time Series is Stationary\")\n",
    "else:\n",
    "    print (\"Failed to reject null hypothesis : Time Series is Non-Stationary\")"
   ]
  },
  {
   "cell_type": "markdown",
   "metadata": {},
   "source": [
    "<b>Philips-Perron test</b>"
   ]
  },
  {
   "cell_type": "code",
   "execution_count": 7,
   "metadata": {},
   "outputs": [
    {
     "name": "stdout",
     "output_type": "stream",
     "text": [
      "<bound method UnitRootTest.summary of <class 'arch.unitroot.unitroot.PhillipsPerron'>\n",
      "\"\"\"\n",
      "     Phillips-Perron Test (Z-tau)    \n",
      "=====================================\n",
      "Test Statistic                -41.818\n",
      "P-value                         0.000\n",
      "Lags                               23\n",
      "-------------------------------------\n",
      "\n",
      "Trend: Constant\n",
      "Critical Values: -3.44 (1%), -2.86 (5%), -2.57 (10%)\n",
      "Null Hypothesis: The process contains a unit root.\n",
      "Alternative Hypothesis: The process is weakly stationary.\n",
      "\"\"\">\n",
      "Null hypothesis is rejected : Time Series is Stationary\n"
     ]
    }
   ],
   "source": [
    "pp_test = PhillipsPerron(data.loc[1:]['log_ret'])\n",
    "print(pp_test.summary)\n",
    "if pp_test.stat < pp_test.critical_values[\"5%\"]:\n",
    "    print (\"Null hypothesis is rejected : Time Series is Stationary\")\n",
    "else:\n",
    "    print (\"Fail to reject null hypothesis : Time Series is Non-Stationary\")"
   ]
  },
  {
   "cell_type": "markdown",
   "metadata": {},
   "source": [
    "<b>Kwiatkowski-Philips-Schmidt-Shin (KPSS) test</b>"
   ]
  },
  {
   "cell_type": "code",
   "execution_count": 8,
   "metadata": {},
   "outputs": [
    {
     "name": "stdout",
     "output_type": "stream",
     "text": [
      "<bound method UnitRootTest.summary of <class 'arch.unitroot.unitroot.KPSS'>\n",
      "\"\"\"\n",
      "    KPSS Stationarity Test Results   \n",
      "=====================================\n",
      "Test Statistic                  0.031\n",
      "P-value                         0.972\n",
      "Lags                               16\n",
      "-------------------------------------\n",
      "\n",
      "Trend: Constant\n",
      "Critical Values: 0.74 (1%), 0.46 (5%), 0.35 (10%)\n",
      "Null Hypothesis: The process is weakly stationary.\n",
      "Alternative Hypothesis: The process contains a unit root.\n",
      "\"\"\">\n",
      "Fail to reject null hypothesis : Time Series is Stationary\n"
     ]
    }
   ],
   "source": [
    "kpss_test = KPSS(data.loc[1:]['log_ret'])\n",
    "print(kpss_test.summary)\n",
    "if kpss_test.stat < kpss_test.critical_values[\"5%\"]:\n",
    "    print (\"Fail to reject null hypothesis : Time Series is Stationary\")\n",
    "else:\n",
    "    print (\"Null hypothesis is rejected: Time Series is Non-Stationary\")"
   ]
  },
  {
   "cell_type": "markdown",
   "metadata": {},
   "source": [
    "Since all three test tells us that the time series is **stationary**. \n",
    "<br>We proceed with our analysis on **log return** of **close** prices"
   ]
  },
  {
   "cell_type": "code",
   "execution_count": 114,
   "metadata": {},
   "outputs": [],
   "source": [
    "forecast_time=10\n",
    "train_data=data['log_ret'][1:-10]\n",
    "T=len(train_data)\n",
    "test_data=data['log_ret'][-10:]"
   ]
  },
  {
   "cell_type": "markdown",
   "metadata": {},
   "source": [
    "We have divided our dataset into train and test. The train_data will be used for building the model. The test_data will be used to measure the performance our forecast. I have done forecasting for final **10 days**."
   ]
  },
  {
   "cell_type": "markdown",
   "metadata": {},
   "source": [
    "**Autocorrelation** and **Partial Autocorrelation**"
   ]
  },
  {
   "cell_type": "code",
   "execution_count": 62,
   "metadata": {},
   "outputs": [
    {
     "data": {
      "image/png": "[encoded data removed]",
      "text/plain": [
       "<Figure size 432x288 with 1 Axes>"
      ]
     },
     "metadata": {
      "needs_background": "light"
     },
     "output_type": "display_data"
    },
    {
     "data": {
      "image/png": "[encoded data removed]",
      "text/plain": [
       "<Figure size 432x288 with 1 Axes>"
      ]
     },
     "metadata": {
      "needs_background": "light"
     },
     "output_type": "display_data"
    }
   ],
   "source": [
    "acf = plot_acf(train_data, lags=math.log(T))\n",
    "pacf = plot_pacf(train_data, lags=math.log(T))"
   ]
  },
  {
   "cell_type": "markdown",
   "metadata": {},
   "source": [
    "**FITTING THE ARMA MODEL**"
   ]
  },
  {
   "cell_type": "code",
   "execution_count": 171,
   "metadata": {},
   "outputs": [
    {
     "name": "stdout",
     "output_type": "stream",
     "text": [
      "The opitmum value of (p.q) is ( 7 , 3 )\n",
      "Minimum AIC value is  -7145.998603755827\n"
     ]
    }
   ],
   "source": [
    "warnings.simplefilter('ignore')\n",
    "model = ARMA(train_data, order = (1,1))\n",
    "result = model.fit(disp=-1)\n",
    "min_AIC=result.aic\n",
    "aic_p=1\n",
    "aic_q=1\n",
    "for i in range(1,8):\n",
    "    for j in range(1,8):\n",
    "        try:\n",
    "            arma_model = ARMA(train_data,order=(i,j))\n",
    "            result = arma_model.fit(disp=-1)\n",
    "            if result.aic<min_AIC:\n",
    "                min_AIC=result.aic\n",
    "                aic_p=i\n",
    "                aic_q=j\n",
    "        except:\n",
    "            continue\n",
    "print(\"The opitmum value of (p.q) is (\",aic_p,',',aic_q,')')\n",
    "print(\"Minimum AIC value is \",min_AIC)"
   ]
  },
  {
   "cell_type": "code",
   "execution_count": 172,
   "metadata": {},
   "outputs": [
    {
     "name": "stdout",
     "output_type": "stream",
     "text": [
      "                              ARMA Model Results                              \n",
      "==============================================================================\n",
      "Dep. Variable:                log_ret   No. Observations:                 1248\n",
      "Model:                     ARMA(7, 3)   Log Likelihood                3584.999\n",
      "Method:                       css-mle   S.D. of innovations              0.014\n",
      "Date:                Thu, 05 Nov 2020   AIC                          -7145.999\n",
      "Time:                        19:33:19   BIC                          -7084.447\n",
      "Sample:                             0   HQIC                         -7122.857\n",
      "                                                                              \n",
      "=================================================================================\n",
      "                    coef    std err          z      P>|z|      [0.025      0.975]\n",
      "---------------------------------------------------------------------------------\n",
      "const             0.0006   4.88e-05     13.216      0.000       0.001       0.001\n",
      "ar.L1.log_ret    -0.7923      0.081     -9.755      0.000      -0.952      -0.633\n",
      "ar.L2.log_ret     0.7181      0.053     13.483      0.000       0.614       0.822\n",
      "ar.L3.log_ret     0.8652      0.068     12.635      0.000       0.731       0.999\n",
      "ar.L4.log_ret     0.0322      0.048      0.667      0.505      -0.062       0.127\n",
      "ar.L5.log_ret    -0.0121      0.045     -0.272      0.786      -0.100       0.075\n",
      "ar.L6.log_ret     0.0417      0.037      1.136      0.256      -0.030       0.114\n",
      "ar.L7.log_ret     0.0772      0.036      2.123      0.034       0.006       0.149\n",
      "ma.L1.log_ret     0.6607      0.077      8.584      0.000       0.510       0.812\n",
      "ma.L2.log_ret    -0.8401      0.046    -18.165      0.000      -0.931      -0.749\n",
      "ma.L3.log_ret    -0.8184      0.056    -14.681      0.000      -0.928      -0.709\n",
      "                                    Roots                                    \n",
      "=============================================================================\n",
      "                  Real          Imaginary           Modulus         Frequency\n",
      "-----------------------------------------------------------------------------\n",
      "AR.1            1.0167           -0.0000j            1.0167           -0.0000\n",
      "AR.2           -0.9725           -0.4007j            1.0518           -0.4378\n",
      "AR.3           -0.9725           +0.4007j            1.0518            0.4378\n",
      "AR.4            1.2991           -1.4277j            1.9303           -0.1325\n",
      "AR.5            1.2991           +1.4277j            1.9303            0.1325\n",
      "AR.6           -1.1047           -1.3671j            1.7577           -0.3582\n",
      "AR.7           -1.1047           +1.3671j            1.7577            0.3582\n",
      "MA.1            1.0006           -0.0000j            1.0006           -0.0000\n",
      "MA.2           -1.0136           -0.4402j            1.1051           -0.4348\n",
      "MA.3           -1.0136           +0.4402j            1.1051            0.4348\n",
      "-----------------------------------------------------------------------------\n"
     ]
    }
   ],
   "source": [
    "model = ARMA(train_data,order=(aic_p,aic_q))\n",
    "result = model.fit(disp=-1)\n",
    "print(result.summary())"
   ]
  },
  {
   "cell_type": "markdown",
   "metadata": {},
   "source": [
    "**Fitted Values**"
   ]
  },
  {
   "cell_type": "code",
   "execution_count": 178,
   "metadata": {},
   "outputs": [
    {
     "data": {
      "text/plain": [
       "<matplotlib.legend.Legend at 0x139485959c8>"
      ]
     },
     "execution_count": 178,
     "metadata": {},
     "output_type": "execute_result"
    },
    {
     "data": {
      "image/png": "[encoded data removed]",
      "text/plain": [
       "<Figure size 432x288 with 1 Axes>"
      ]
     },
     "metadata": {
      "needs_background": "light"
     },
     "output_type": "display_data"
    }
   ],
   "source": [
    "plt.plot(train_data,label=\"Actual Values\")\n",
    "plt.plot(result.fittedvalues, color='red',label=\"Fitted Values\")\n",
    "plt.legend()"
   ]
  },
  {
   "cell_type": "markdown",
   "metadata": {},
   "source": [
    "**Forecasting using ARMA**"
   ]
  },
  {
   "cell_type": "code",
   "execution_count": 179,
   "metadata": {},
   "outputs": [
    {
     "name": "stdout",
     "output_type": "stream",
     "text": [
      "The root mean square error of the above model is  0.003052278922430104\n"
     ]
    },
    {
     "data": {
      "image/png": "[encoded data removed]",
      "text/plain": [
       "<Figure size 432x288 with 1 Axes>"
      ]
     },
     "metadata": {
      "needs_background": "light"
     },
     "output_type": "display_data"
    }
   ],
   "source": [
    "forecast_ARMA=result.forecast(steps=10)[0]\n",
    "plt.plot(test_data.to_numpy(),label=\"Actual Values\")\n",
    "plt.plot(forecast_ARMA, color='red',label=\"Forecast Values\")\n",
    "plt.legend()\n",
    "RMSE=(sum((test_data-forecast_ARMA)**2))**0.5/10\n",
    "print(\"The root mean square error of the above model is \",RMSE)"
   ]
  },
  {
   "cell_type": "markdown",
   "metadata": {},
   "source": [
    "**LJUNG-BOX TEST**"
   ]
  },
  {
   "cell_type": "markdown",
   "metadata": {},
   "source": [
    "Ljung-Box test for **Residuals**"
   ]
  },
  {
   "cell_type": "code",
   "execution_count": 67,
   "metadata": {},
   "outputs": [
    {
     "name": "stdout",
     "output_type": "stream",
     "text": [
      "Ljungbox test statistics :  0.6145595071418591\n",
      "Ljungbox test statistics :  0.998909599971878\n",
      "We fail to reject null hypothesis\n"
     ]
    }
   ],
   "source": [
    "lb_stat,lb_pvalue=acorr_ljungbox(result.resid, lags=[math.log(T)], return_df=False)\n",
    "print(\"Ljungbox test statistics : \",lb_stat[0])\n",
    "print(\"Ljungbox test statistics : \",lb_pvalue[0])\n",
    "if (lb_pvalue[0]<0.05):\n",
    "    print(\"We reject null hypothesis\")\n",
    "else:\n",
    "    print(\"We fail to reject null hypothesis\")"
   ]
  },
  {
   "cell_type": "markdown",
   "metadata": {},
   "source": [
    "Ljung-Box test for **square of residuals**"
   ]
  },
  {
   "cell_type": "code",
   "execution_count": 68,
   "metadata": {},
   "outputs": [
    {
     "name": "stdout",
     "output_type": "stream",
     "text": [
      "Ljungbox test statistics :  162.11634954657535\n",
      "Ljungbox test statistics :  1.150089952293833e-31\n",
      "We reject null hypothesis\n"
     ]
    }
   ],
   "source": [
    "lb_stat,lb_pvalue=acorr_ljungbox(np.square(result.resid), lags=[math.log(T)], return_df=False)\n",
    "print(\"Ljungbox test statistics : \",lb_stat[0])\n",
    "print(\"Ljungbox test statistics : \",lb_pvalue[0])\n",
    "if (lb_pvalue[0]<0.05):\n",
    "    print(\"We reject null hypothesis\")\n",
    "else:\n",
    "    print(\"We fail to reject null hypothesis\")"
   ]
  },
  {
   "cell_type": "markdown",
   "metadata": {},
   "source": [
    "Since we **accept** the null hypothesis of Ljung-Box test for **residuals** using the ARMA model and **reject** the null hypothesis of Ljung-Box test for **square of residuals**, we can proceed to build the GARCH model."
   ]
  },
  {
   "cell_type": "markdown",
   "metadata": {},
   "source": [
    "**Building the GARCH MODEL**"
   ]
  },
  {
   "cell_type": "code",
   "execution_count": 182,
   "metadata": {},
   "outputs": [
    {
     "name": "stdout",
     "output_type": "stream",
     "text": [
      "Iteration:      1,   Func. Count:      6,   Neg. LLF: -3712.956487146651\n",
      "Iteration:      2,   Func. Count:     19,   Neg. LLF: -3713.291070721372\n",
      "Iteration:      3,   Func. Count:     32,   Neg. LLF: -3713.2950923828507\n",
      "Iteration:      4,   Func. Count:     47,   Neg. LLF: -3713.2951424821003\n",
      "Iteration:      5,   Func. Count:     56,   Neg. LLF: -3713.380826525569\n",
      "Iteration:      6,   Func. Count:     69,   Neg. LLF: -3713.4429567010584\n",
      "Iteration:      7,   Func. Count:     82,   Neg. LLF: -3713.443852005955\n",
      "Iteration:      8,   Func. Count:     95,   Neg. LLF: -3713.4440212719537\n",
      "Iteration:      9,   Func. Count:    110,   Neg. LLF: -3713.444297643696\n",
      "Iteration:     10,   Func. Count:    124,   Neg. LLF: -3713.4443219922687\n",
      "Iteration:     11,   Func. Count:    140,   Neg. LLF: -3713.444346362813\n",
      "Iteration:      1,   Func. Count:      6,   Neg. LLF: -3712.956487146651\n",
      "Iteration:      2,   Func. Count:     19,   Neg. LLF: -3713.291070721372\n",
      "Iteration:      3,   Func. Count:     32,   Neg. LLF: -3713.2950923828507\n",
      "Iteration:      4,   Func. Count:     47,   Neg. LLF: -3713.2951424821003\n",
      "Iteration:      5,   Func. Count:     56,   Neg. LLF: -3713.380826525569\n",
      "Iteration:      6,   Func. Count:     69,   Neg. LLF: -3713.4429567010584\n",
      "Iteration:      7,   Func. Count:     82,   Neg. LLF: -3713.443852005955\n",
      "Iteration:      8,   Func. Count:     95,   Neg. LLF: -3713.4440212719537\n",
      "Iteration:      9,   Func. Count:    110,   Neg. LLF: -3713.444297643696\n",
      "Iteration:     10,   Func. Count:    124,   Neg. LLF: -3713.4443219922687\n",
      "Iteration:     11,   Func. Count:    140,   Neg. LLF: -3713.444346362813\n",
      "Iteration:      1,   Func. Count:      7,   Neg. LLF: -3709.3366529099367\n",
      "Iteration:      2,   Func. Count:     21,   Neg. LLF: -3709.9256885030168\n",
      "Iteration:      3,   Func. Count:     35,   Neg. LLF: -3709.9341202055375\n",
      "Iteration:      4,   Func. Count:     49,   Neg. LLF: -3709.9341346552656\n",
      "Iteration:      5,   Func. Count:     64,   Neg. LLF: -3709.9341749575397\n",
      "Iteration:      6,   Func. Count:     79,   Neg. LLF: -3709.934185048463\n",
      "Iteration:      1,   Func. Count:      8,   Neg. LLF: -3703.9890051722778\n",
      "Iteration:      2,   Func. Count:     23,   Neg. LLF: -3704.57562488139\n",
      "Iteration:      3,   Func. Count:     38,   Neg. LLF: -3704.5767747886\n",
      "Iteration:      4,   Func. Count:     52,   Neg. LLF: -3704.5772754392337\n",
      "Iteration:      5,   Func. Count:     65,   Neg. LLF: -3704.5797496989258\n",
      "Iteration:      6,   Func. Count:     80,   Neg. LLF: -3704.5813288970685\n",
      "Iteration:      7,   Func. Count:     94,   Neg. LLF: -3704.5818568910677\n",
      "Iteration:      8,   Func. Count:    107,   Neg. LLF: -3704.586742263533\n",
      "Iteration:      9,   Func. Count:    122,   Neg. LLF: -3704.588698880123\n",
      "Iteration:      1,   Func. Count:      9,   Neg. LLF: -3697.8983210343376\n",
      "Iteration:      2,   Func. Count:     25,   Neg. LLF: -3698.6074369306075\n",
      "Iteration:      3,   Func. Count:     41,   Neg. LLF: -3698.6328952538247\n",
      "Iteration:      4,   Func. Count:     57,   Neg. LLF: -3698.6328970425675\n",
      "Iteration:      5,   Func. Count:     71,   Neg. LLF: -3698.643865274955\n",
      "Iteration:      6,   Func. Count:     87,   Neg. LLF: -3698.652709600219\n",
      "Iteration:      7,   Func. Count:    102,   Neg. LLF: -3698.6527341814\n",
      "Iteration:      8,   Func. Count:    118,   Neg. LLF: -3698.6528319679146\n",
      "Iteration:      9,   Func. Count:    134,   Neg. LLF: -3698.6528339686683\n",
      "Iteration:     10,   Func. Count:    149,   Neg. LLF: -3698.6528578047055\n",
      "Iteration:     11,   Func. Count:    164,   Neg. LLF: -3698.6529573684256\n",
      "Iteration:     12,   Func. Count:    178,   Neg. LLF: -3698.6537894218213\n",
      "Iteration:     13,   Func. Count:    194,   Neg. LLF: -3698.654455433928\n",
      "Iteration:     14,   Func. Count:    208,   Neg. LLF: -3698.659317440634\n",
      "Iteration:      1,   Func. Count:     10,   Neg. LLF: -3695.4540150348703\n",
      "Iteration:      2,   Func. Count:     27,   Neg. LLF: -3695.719499188092\n",
      "Iteration:      1,   Func. Count:     11,   Neg. LLF: -3693.9082752089957\n",
      "Iteration:      2,   Func. Count:     29,   Neg. LLF: -3694.2379544895693\n",
      "Iteration:      3,   Func. Count:     49,   Neg. LLF: -3694.2379725102664\n",
      "Iteration:      1,   Func. Count:     12,   Neg. LLF: -3693.5200648000327\n",
      "Iteration:      2,   Func. Count:     31,   Neg. LLF: -3693.8289587522304\n",
      "Iteration:      3,   Func. Count:     52,   Neg. LLF: -3693.828972010723\n",
      "Iteration:      1,   Func. Count:     13,   Neg. LLF: -3691.669111435664\n",
      "Iteration:      2,   Func. Count:     33,   Neg. LLF: -3691.937199631628\n",
      "Iteration:      3,   Func. Count:     55,   Neg. LLF: -3691.9372066654873\n",
      "Iteration:      1,   Func. Count:     14,   Neg. LLF: -3691.472838054934\n",
      "Iteration:      2,   Func. Count:     35,   Neg. LLF: -3691.78939336411\n",
      "Iteration:      1,   Func. Count:     15,   Neg. LLF: -3690.2524396199283\n",
      "Iteration:      2,   Func. Count:     37,   Neg. LLF: -3690.5623116429897\n",
      "Iteration:      3,   Func. Count:     61,   Neg. LLF: -3690.5623244720628\n",
      "Iteration:      1,   Func. Count:     16,   Neg. LLF: -3688.392886531654\n",
      "Iteration:      2,   Func. Count:     39,   Neg. LLF: -3688.703308361632\n",
      "Iteration:      3,   Func. Count:     64,   Neg. LLF: -3688.703319366912\n",
      "Iteration:      1,   Func. Count:     17,   Neg. LLF: -3686.8657181042195\n",
      "Iteration:      2,   Func. Count:     41,   Neg. LLF: -3687.1621251714264\n",
      "Iteration:      3,   Func. Count:     67,   Neg. LLF: -3687.1621314899508\n",
      "Iteration:      4,   Func. Count:     90,   Neg. LLF: -3687.162282982021\n",
      "Iteration:      1,   Func. Count:     18,   Neg. LLF: -3686.2225935078322\n",
      "Iteration:      2,   Func. Count:     43,   Neg. LLF: -3686.5274779030087\n",
      "Iteration:      1,   Func. Count:     19,   Neg. LLF: -3685.2120752667834\n",
      "Iteration:      2,   Func. Count:     45,   Neg. LLF: -3685.5071731459448\n",
      "Iteration:      3,   Func. Count:     73,   Neg. LLF: -3685.507181908883\n",
      "Iteration:      1,   Func. Count:      7,   Neg. LLF: -3700.8027385841583\n",
      "Iteration:      2,   Func. Count:     21,   Neg. LLF: -3700.887742141881\n",
      "Iteration:      3,   Func. Count:     37,   Neg. LLF: -3700.887981956602\n",
      "Iteration:      1,   Func. Count:      8,   Neg. LLF: -3699.4906642616434\n",
      "Iteration:      2,   Func. Count:     23,   Neg. LLF: -3699.6591126069225\n",
      "Iteration:      3,   Func. Count:     38,   Neg. LLF: -3699.659458171983\n",
      "Iteration:      4,   Func. Count:     53,   Neg. LLF: -3699.659804038858\n",
      "Iteration:      5,   Func. Count:     68,   Neg. LLF: -3699.659835572297\n",
      "Iteration:      6,   Func. Count:     82,   Neg. LLF: -3699.661329652722\n",
      "Iteration:      1,   Func. Count:      9,   Neg. LLF: -3694.927817289771\n",
      "Iteration:      2,   Func. Count:     25,   Neg. LLF: -3695.1503697009366\n",
      "Iteration:      3,   Func. Count:     41,   Neg. LLF: -3695.1504197896056\n",
      "Iteration:      1,   Func. Count:     10,   Neg. LLF: -3691.1858914082577\n",
      "Iteration:      2,   Func. Count:     27,   Neg. LLF: -3691.416472414772\n",
      "Iteration:      3,   Func. Count:     44,   Neg. LLF: -3691.4165872928943\n",
      "Iteration:      4,   Func. Count:     60,   Neg. LLF: -3691.416717722748\n",
      "Iteration:      5,   Func. Count:     77,   Neg. LLF: -3691.4167906327075\n",
      "Iteration:      6,   Func. Count:     94,   Neg. LLF: -3691.4167980834286\n",
      "Iteration:      7,   Func. Count:    110,   Neg. LLF: -3691.417169196062\n",
      "Iteration:      8,   Func. Count:    125,   Neg. LLF: -3691.4186142053622\n",
      "Iteration:      9,   Func. Count:    142,   Neg. LLF: -3691.422721503609\n",
      "Iteration:      1,   Func. Count:     11,   Neg. LLF: -3689.9033401514002\n",
      "Iteration:      2,   Func. Count:     29,   Neg. LLF: -3689.976886972473\n",
      "Iteration:      1,   Func. Count:     12,   Neg. LLF: -3689.2250770559313\n",
      "Iteration:      2,   Func. Count:     31,   Neg. LLF: -3689.3095636684266\n",
      "Iteration:      3,   Func. Count:     48,   Neg. LLF: -3689.311440177213\n",
      "Iteration:      4,   Func. Count:     67,   Neg. LLF: -3689.3131976099376\n",
      "Iteration:      1,   Func. Count:     13,   Neg. LLF: -3688.2017352249263\n",
      "Iteration:      2,   Func. Count:     33,   Neg. LLF: -3688.2700203572313\n",
      "Iteration:      1,   Func. Count:     14,   Neg. LLF: -3687.2006882550786\n",
      "Iteration:      2,   Func. Count:     35,   Neg. LLF: -3687.266348233007\n",
      "Iteration:      1,   Func. Count:     15,   Neg. LLF: -3686.368288244259\n",
      "Iteration:      2,   Func. Count:     37,   Neg. LLF: -3686.4389651670017\n",
      "Iteration:      1,   Func. Count:     16,   Neg. LLF: -3684.7352506621232\n",
      "Iteration:      2,   Func. Count:     39,   Neg. LLF: -3684.8019496686093\n",
      "Iteration:      1,   Func. Count:     17,   Neg. LLF: -3683.0895288025645\n",
      "Iteration:      2,   Func. Count:     41,   Neg. LLF: -3683.1504350820856\n",
      "Iteration:      3,   Func. Count:     62,   Neg. LLF: -3683.1666339535977\n",
      "Iteration:      4,   Func. Count:     86,   Neg. LLF: -3683.1817346250186\n",
      "Iteration:      5,   Func. Count:    110,   Neg. LLF: -3683.1817898135814\n",
      "Iteration:      1,   Func. Count:     18,   Neg. LLF: -3681.9799136174724\n",
      "Iteration:      2,   Func. Count:     43,   Neg. LLF: -3682.04033946447\n",
      "Iteration:      1,   Func. Count:     19,   Neg. LLF: -3681.0957234005546\n",
      "Iteration:      2,   Func. Count:     45,   Neg. LLF: -3681.1534980715387\n",
      "Iteration:      3,   Func. Count:     69,   Neg. LLF: -3681.1545423765165\n",
      "Iteration:      4,   Func. Count:     95,   Neg. LLF: -3681.1554964492307\n",
      "Iteration:      5,   Func. Count:    123,   Neg. LLF: -3681.1555092980466\n",
      "Iteration:      1,   Func. Count:     20,   Neg. LLF: -3680.1952575153064\n",
      "Iteration:      2,   Func. Count:     47,   Neg. LLF: -3680.2438077585125\n",
      "Iteration:      1,   Func. Count:      8,   Neg. LLF: -3693.5862315185514\n",
      "Iteration:      2,   Func. Count:     23,   Neg. LLF: -3693.634283427106\n",
      "Iteration:      3,   Func. Count:     38,   Neg. LLF: -3693.634306636824\n",
      "Iteration:      4,   Func. Count:     55,   Neg. LLF: -3693.6343113578596\n",
      "Iteration:      5,   Func. Count:     69,   Neg. LLF: -3693.63436066928\n",
      "Iteration:      6,   Func. Count:     84,   Neg. LLF: -3693.634425075964\n",
      "Iteration:      7,   Func. Count:     98,   Neg. LLF: -3693.6344918636073\n",
      "Iteration:      8,   Func. Count:    114,   Neg. LLF: -3693.634552474526\n",
      "Iteration:      1,   Func. Count:      9,   Neg. LLF: -3691.2538134761076\n",
      "Iteration:      2,   Func. Count:     25,   Neg. LLF: -3691.425873621278\n",
      "Iteration:      3,   Func. Count:     41,   Neg. LLF: -3691.4259122288763\n",
      "Iteration:      4,   Func. Count:     58,   Neg. LLF: -3691.4259180397476\n",
      "Iteration:      5,   Func. Count:     71,   Neg. LLF: -3692.130785234044\n",
      "Iteration:      6,   Func. Count:     84,   Neg. LLF: -3692.2291114828554\n",
      "Iteration:      7,   Func. Count:    100,   Neg. LLF: -3692.2291541498353\n",
      "Iteration:      8,   Func. Count:    116,   Neg. LLF: -3692.2291606090766\n",
      "Iteration:      9,   Func. Count:    131,   Neg. LLF: -3692.229277218397\n",
      "Iteration:     10,   Func. Count:    145,   Neg. LLF: -3692.230124494362\n",
      "Iteration:      1,   Func. Count:     10,   Neg. LLF: -3688.1714223134413\n",
      "Iteration:      2,   Func. Count:     27,   Neg. LLF: -3688.376787894555\n",
      "Iteration:      3,   Func. Count:     44,   Neg. LLF: -3688.3768367083658\n",
      "Iteration:      1,   Func. Count:     11,   Neg. LLF: -3685.410910383852\n",
      "Iteration:      2,   Func. Count:     29,   Neg. LLF: -3685.4717074001883\n",
      "Iteration:      1,   Func. Count:     12,   Neg. LLF: -3685.2436982038544\n",
      "Iteration:      2,   Func. Count:     31,   Neg. LLF: -3685.3178644346794\n",
      "Iteration:      1,   Func. Count:     13,   Neg. LLF: -3684.0514975842907\n",
      "Iteration:      2,   Func. Count:     33,   Neg. LLF: -3684.1233855816718\n",
      "Iteration:      1,   Func. Count:     14,   Neg. LLF: -3683.4281431811487\n",
      "Iteration:      2,   Func. Count:     35,   Neg. LLF: -3683.4979968682323\n",
      "Iteration:      1,   Func. Count:     15,   Neg. LLF: -3682.172930934592\n",
      "Iteration:      2,   Func. Count:     37,   Neg. LLF: -3682.2388548151757\n",
      "Iteration:      1,   Func. Count:     16,   Neg. LLF: -3680.8860099244484\n",
      "Iteration:      2,   Func. Count:     39,   Neg. LLF: -3680.954141655182\n",
      "Iteration:      1,   Func. Count:     17,   Neg. LLF: -3679.154287578335\n",
      "Iteration:      2,   Func. Count:     41,   Neg. LLF: -3679.218811969872\n",
      "Iteration:      1,   Func. Count:     18,   Neg. LLF: -3677.721638884361\n",
      "Iteration:      2,   Func. Count:     43,   Neg. LLF: -3677.787786642588\n",
      "Iteration:      1,   Func. Count:     19,   Neg. LLF: -3676.5367595410285\n",
      "Iteration:      2,   Func. Count:     45,   Neg. LLF: -3676.600779487303\n",
      "Iteration:      1,   Func. Count:     20,   Neg. LLF: -3675.736209707761\n",
      "Iteration:      2,   Func. Count:     47,   Neg. LLF: -3675.7949568415884\n",
      "Iteration:      1,   Func. Count:     21,   Neg. LLF: -3674.761801165646\n",
      "Iteration:      2,   Func. Count:     49,   Neg. LLF: -3674.812600093039\n",
      "Iteration:      3,   Func. Count:     75,   Neg. LLF: -3674.8152186565153\n",
      "Iteration:      4,   Func. Count:    103,   Neg. LLF: -3674.8178392211003\n",
      "Iteration:      5,   Func. Count:    129,   Neg. LLF: -3674.8203243644302\n",
      "Iteration:      6,   Func. Count:    157,   Neg. LLF: -3674.8225455958427\n",
      "Iteration:      7,   Func. Count:    187,   Neg. LLF: -3674.8225518454683\n",
      "Iteration:      1,   Func. Count:      9,   Neg. LLF: -3689.888198766288\n",
      "Iteration:      2,   Func. Count:     25,   Neg. LLF: -3689.9171403739383\n",
      "Iteration:      3,   Func. Count:     39,   Neg. LLF: -3689.9745270458525\n",
      "Iteration:      4,   Func. Count:     55,   Neg. LLF: -3690.0296242331033\n",
      "Iteration:      5,   Func. Count:     71,   Neg. LLF: -3690.029667513062\n",
      "Iteration:      6,   Func. Count:     87,   Neg. LLF: -3690.0303817875692\n",
      "Iteration:      7,   Func. Count:    104,   Neg. LLF: -3690.030807032505\n",
      "Iteration:      1,   Func. Count:     10,   Neg. LLF: -3687.0888144086575\n",
      "Iteration:      2,   Func. Count:     27,   Neg. LLF: -3687.182118192463\n",
      "Iteration:      3,   Func. Count:     45,   Neg. LLF: -3687.182147122956\n",
      "Iteration:      4,   Func. Count:     63,   Neg. LLF: -3687.18215320525\n",
      "Iteration:      5,   Func. Count:     79,   Neg. LLF: -3687.1834058964505\n",
      "Iteration:      6,   Func. Count:     96,   Neg. LLF: -3687.1844962480845\n",
      "Iteration:      1,   Func. Count:     11,   Neg. LLF: -3682.157442936066\n",
      "Iteration:      2,   Func. Count:     29,   Neg. LLF: -3682.270732558126\n",
      "Iteration:      3,   Func. Count:     47,   Neg. LLF: -3682.270794420384\n",
      "Iteration:      4,   Func. Count:     65,   Neg. LLF: -3682.271175471601\n",
      "Iteration:      5,   Func. Count:     83,   Neg. LLF: -3682.2715551481037\n",
      "Iteration:      6,   Func. Count:    102,   Neg. LLF: -3682.271584684187\n",
      "Iteration:      7,   Func. Count:    120,   Neg. LLF: -3682.2716405843903\n",
      "Iteration:      8,   Func. Count:    139,   Neg. LLF: -3682.2717401727227\n",
      "Iteration:      9,   Func. Count:    158,   Neg. LLF: -3682.2717738124365\n",
      "Iteration:     10,   Func. Count:    175,   Neg. LLF: -3682.272501188814\n",
      "Iteration:     11,   Func. Count:    193,   Neg. LLF: -3682.273557470989\n",
      "Iteration:     12,   Func. Count:    212,   Neg. LLF: -3682.273594804924\n",
      "Iteration:     13,   Func. Count:    231,   Neg. LLF: -3682.273635751686\n",
      "Iteration:     14,   Func. Count:    249,   Neg. LLF: -3682.2737946634365\n",
      "Iteration:      1,   Func. Count:     12,   Neg. LLF: -3680.640034590388\n",
      "Iteration:      2,   Func. Count:     31,   Neg. LLF: -3680.679598457644\n",
      "Iteration:      1,   Func. Count:     13,   Neg. LLF: -3679.5438982295163\n",
      "Iteration:      2,   Func. Count:     33,   Neg. LLF: -3679.5835310405437\n",
      "Iteration:      1,   Func. Count:     14,   Neg. LLF: -3678.5367771778474\n",
      "Iteration:      2,   Func. Count:     35,   Neg. LLF: -3678.5806470098523\n",
      "Iteration:      1,   Func. Count:     15,   Neg. LLF: -3677.463558897388\n",
      "Iteration:      2,   Func. Count:     37,   Neg. LLF: -3677.504891153559\n",
      "Iteration:      1,   Func. Count:     16,   Neg. LLF: -3675.744929441655\n",
      "Iteration:      2,   Func. Count:     39,   Neg. LLF: -3675.7826466599827\n",
      "Iteration:      1,   Func. Count:     17,   Neg. LLF: -3674.210489422277\n",
      "Iteration:      2,   Func. Count:     41,   Neg. LLF: -3674.2482562536243\n",
      "Iteration:      1,   Func. Count:     18,   Neg. LLF: -3672.5444239271233\n",
      "Iteration:      2,   Func. Count:     43,   Neg. LLF: -3672.581916574711\n",
      "Iteration:      1,   Func. Count:     19,   Neg. LLF: -3670.944962803496\n",
      "Iteration:      2,   Func. Count:     45,   Neg. LLF: -3670.9812078512377\n",
      "Iteration:      1,   Func. Count:     20,   Neg. LLF: -3669.7907095100854\n",
      "Iteration:      2,   Func. Count:     47,   Neg. LLF: -3669.8230221527156\n",
      "Iteration:      1,   Func. Count:     21,   Neg. LLF: -3668.7914001916624\n",
      "Iteration:      2,   Func. Count:     49,   Neg. LLF: -3668.819521013239\n",
      "Iteration:      1,   Func. Count:     22,   Neg. LLF: -3667.7986697918873\n",
      "Iteration:      2,   Func. Count:     51,   Neg. LLF: -3667.819981427574\n",
      "Iteration:      1,   Func. Count:     10,   Neg. LLF: -3686.749141224878\n",
      "Iteration:      2,   Func. Count:     27,   Neg. LLF: -3686.8338047339084\n",
      "Iteration:      3,   Func. Count:     46,   Neg. LLF: -3686.8338130445904\n",
      "Iteration:      1,   Func. Count:     11,   Neg. LLF: -3681.0091334841686\n",
      "Iteration:      2,   Func. Count:     29,   Neg. LLF: -3681.1724019639814\n",
      "Iteration:      3,   Func. Count:     47,   Neg. LLF: -3681.1724609560765\n",
      "Iteration:      4,   Func. Count:     66,   Neg. LLF: -3681.172466851752\n",
      "Iteration:      5,   Func. Count:     85,   Neg. LLF: -3681.172505507625\n",
      "Iteration:      6,   Func. Count:    100,   Neg. LLF: -3681.5329522607544\n",
      "Iteration:      7,   Func. Count:    118,   Neg. LLF: -3681.788226015314\n",
      "Iteration:      8,   Func. Count:    136,   Neg. LLF: -3681.7885811035267\n",
      "Iteration:      9,   Func. Count:    154,   Neg. LLF: -3681.7888166105404\n",
      "Iteration:     10,   Func. Count:    173,   Neg. LLF: -3681.788842828445\n",
      "Iteration:     11,   Func. Count:    192,   Neg. LLF: -3681.7888627642583\n",
      "Iteration:     12,   Func. Count:    211,   Neg. LLF: -3681.7888667921343\n",
      "Iteration:     13,   Func. Count:    230,   Neg. LLF: -3681.7888759882208\n",
      "Iteration:     14,   Func. Count:    249,   Neg. LLF: -3681.7888871833\n",
      "Iteration:     15,   Func. Count:    268,   Neg. LLF: -3681.7889008009533\n",
      "Iteration:     16,   Func. Count:    286,   Neg. LLF: -3681.7889795065944\n",
      "Iteration:      1,   Func. Count:     12,   Neg. LLF: -3675.9837852258406\n",
      "Iteration:      2,   Func. Count:     31,   Neg. LLF: -3676.1802670087054\n",
      "Iteration:      3,   Func. Count:     50,   Neg. LLF: -3676.180330344816\n",
      "Iteration:      4,   Func. Count:     70,   Neg. LLF: -3676.180340763065\n",
      "Iteration:      1,   Func. Count:     13,   Neg. LLF: -3674.1071190415114\n",
      "Iteration:      2,   Func. Count:     33,   Neg. LLF: -3674.1738257463317\n",
      "Iteration:      1,   Func. Count:     14,   Neg. LLF: -3672.912111245565\n",
      "Iteration:      2,   Func. Count:     35,   Neg. LLF: -3672.988133162142\n",
      "Iteration:      1,   Func. Count:     15,   Neg. LLF: -3671.338036393582\n",
      "Iteration:      2,   Func. Count:     37,   Neg. LLF: -3671.4179579276415\n",
      "Iteration:      1,   Func. Count:     16,   Neg. LLF: -3669.6918648951278\n",
      "Iteration:      2,   Func. Count:     39,   Neg. LLF: -3669.768313451701\n",
      "Iteration:      3,   Func. Count:     63,   Neg. LLF: -3669.7683217163994\n",
      "Iteration:      1,   Func. Count:     17,   Neg. LLF: -3667.724114073749\n",
      "Iteration:      2,   Func. Count:     41,   Neg. LLF: -3667.795699316476\n",
      "Iteration:      1,   Func. Count:     18,   Neg. LLF: -3666.0824836328966\n",
      "Iteration:      2,   Func. Count:     43,   Neg. LLF: -3666.15783329635\n",
      "Iteration:      1,   Func. Count:     19,   Neg. LLF: -3664.199345400018\n",
      "Iteration:      2,   Func. Count:     45,   Neg. LLF: -3664.273207924002\n",
      "Iteration:      3,   Func. Count:     70,   Neg. LLF: -3664.2732979027664\n",
      "Iteration:      4,   Func. Count:     97,   Neg. LLF: -3664.273534807161\n",
      "Iteration:      1,   Func. Count:     20,   Neg. LLF: -3662.548780533174\n",
      "Iteration:      2,   Func. Count:     47,   Neg. LLF: -3662.61845553849\n",
      "Iteration:      3,   Func. Count:     71,   Neg. LLF: -3662.655703100634\n",
      "Iteration:      4,   Func. Count:     98,   Neg. LLF: -3662.692835392998\n",
      "Iteration:      1,   Func. Count:     21,   Neg. LLF: -3661.2074746704616\n",
      "Iteration:      2,   Func. Count:     49,   Neg. LLF: -3661.2712881418724\n",
      "Iteration:      1,   Func. Count:     22,   Neg. LLF: -3660.1070656004194\n",
      "Iteration:      2,   Func. Count:     51,   Neg. LLF: -3660.162238403227\n",
      "Iteration:      3,   Func. Count:     80,   Neg. LLF: -3660.1622771187704\n",
      "Iteration:      4,   Func. Count:    110,   Neg. LLF: -3660.1623011774327\n",
      "Iteration:      5,   Func. Count:    138,   Neg. LLF: -3660.16256265827\n",
      "Iteration:      6,   Func. Count:    167,   Neg. LLF: -3660.1628250209865\n",
      "Iteration:      1,   Func. Count:     23,   Neg. LLF: -3658.9757885193017\n",
      "Iteration:      2,   Func. Count:     53,   Neg. LLF: -3659.021743877651\n",
      "Iteration:      3,   Func. Count:     80,   Neg. LLF: -3659.036616287187\n",
      "Iteration:      4,   Func. Count:    110,   Neg. LLF: -3659.0609245877613\n",
      "Iteration:      1,   Func. Count:     11,   Neg. LLF: -3686.2312313252783\n",
      "Iteration:      2,   Func. Count:     29,   Neg. LLF: -3686.3502140830064\n",
      "Iteration:      3,   Func. Count:     48,   Neg. LLF: -3686.35023366592\n",
      "Iteration:      4,   Func. Count:     66,   Neg. LLF: -3686.3502825262326\n",
      "Iteration:      5,   Func. Count:     84,   Neg. LLF: -3686.350338560187\n",
      "Iteration:      6,   Func. Count:    102,   Neg. LLF: -3686.350397518665\n",
      "Iteration:      7,   Func. Count:    120,   Neg. LLF: -3686.3504543012905\n",
      "Iteration:      8,   Func. Count:    140,   Neg. LLF: -3686.350465580477\n",
      "Iteration:      1,   Func. Count:     12,   Neg. LLF: -3680.010168035543\n",
      "Iteration:      2,   Func. Count:     31,   Neg. LLF: -3680.1829703314233\n",
      "Iteration:      3,   Func. Count:     50,   Neg. LLF: -3680.18303466987\n",
      "Iteration:      4,   Func. Count:     70,   Neg. LLF: -3680.1830502797466\n",
      "Iteration:      5,   Func. Count:     87,   Neg. LLF: -3680.184718627763\n",
      "Iteration:      6,   Func. Count:    106,   Neg. LLF: -3680.186388578426\n",
      "Iteration:      7,   Func. Count:    123,   Neg. LLF: -3680.187905566143\n",
      "Iteration:      1,   Func. Count:     13,   Neg. LLF: -3674.7969281811147\n",
      "Iteration:      2,   Func. Count:     33,   Neg. LLF: -3674.859294802206\n",
      "Iteration:      3,   Func. Count:     50,   Neg. LLF: -3674.9008773611304\n",
      "Iteration:      4,   Func. Count:     70,   Neg. LLF: -3674.9420692986614\n",
      "Iteration:      1,   Func. Count:     14,   Neg. LLF: -3673.141209749895\n",
      "Iteration:      2,   Func. Count:     35,   Neg. LLF: -3673.215778126561\n",
      "Iteration:      1,   Func. Count:     15,   Neg. LLF: -3671.5450265888644\n",
      "Iteration:      2,   Func. Count:     37,   Neg. LLF: -3671.625204760194\n",
      "Iteration:      3,   Func. Count:     57,   Neg. LLF: -3671.6259211047595\n",
      "Iteration:      4,   Func. Count:     79,   Neg. LLF: -3671.628981568757\n",
      "Iteration:      5,   Func. Count:     99,   Neg. LLF: -3671.631865827907\n",
      "Iteration:      6,   Func. Count:    121,   Neg. LLF: -3671.634524767326\n",
      "Iteration:      1,   Func. Count:     16,   Neg. LLF: -3669.607502734313\n",
      "Iteration:      2,   Func. Count:     39,   Neg. LLF: -3669.6893501193726\n",
      "Iteration:      1,   Func. Count:     17,   Neg. LLF: -3667.8470168805343\n",
      "Iteration:      2,   Func. Count:     41,   Neg. LLF: -3667.92509321368\n",
      "Iteration:      1,   Func. Count:     18,   Neg. LLF: -3666.0060628541496\n",
      "Iteration:      2,   Func. Count:     43,   Neg. LLF: -3666.0824364791006\n",
      "Iteration:      1,   Func. Count:     19,   Neg. LLF: -3664.330635463567\n",
      "Iteration:      2,   Func. Count:     45,   Neg. LLF: -3664.40801724862\n",
      "Iteration:      1,   Func. Count:     20,   Neg. LLF: -3662.5695130163576\n",
      "Iteration:      2,   Func. Count:     47,   Neg. LLF: -3662.642863092013\n",
      "Iteration:      1,   Func. Count:     21,   Neg. LLF: -3660.9647395047537\n",
      "Iteration:      2,   Func. Count:     49,   Neg. LLF: -3661.0334080331113\n",
      "Iteration:      1,   Func. Count:     22,   Neg. LLF: -3659.7303967370112\n",
      "Iteration:      2,   Func. Count:     51,   Neg. LLF: -3659.7905547902196\n",
      "Iteration:      3,   Func. Count:     76,   Neg. LLF: -3659.9844196597414\n",
      "Iteration:      4,   Func. Count:    104,   Neg. LLF: -3660.1981140729777\n",
      "Iteration:      5,   Func. Count:    133,   Neg. LLF: -3660.1985406193144\n",
      "Iteration:      1,   Func. Count:     23,   Neg. LLF: -3658.650015897858\n",
      "Iteration:      2,   Func. Count:     53,   Neg. LLF: -3658.7028368141387\n",
      "Iteration:      1,   Func. Count:     24,   Neg. LLF: -3657.60668593963\n",
      "Iteration:      2,   Func. Count:     55,   Neg. LLF: -3657.651211881387\n",
      "Iteration:      1,   Func. Count:     12,   Neg. LLF: -3682.5902756583314\n",
      "Iteration:      2,   Func. Count:     31,   Neg. LLF: -3682.7514040053734\n",
      "Iteration:      3,   Func. Count:     50,   Neg. LLF: -3682.751467359475\n",
      "Iteration:      4,   Func. Count:     71,   Neg. LLF: -3682.75148023144\n",
      "Iteration:      5,   Func. Count:     89,   Neg. LLF: -3682.7520417716196\n",
      "Iteration:      6,   Func. Count:    108,   Neg. LLF: -3682.752603206962\n",
      "Iteration:      7,   Func. Count:    125,   Neg. LLF: -3682.784317622522\n",
      "Iteration:      1,   Func. Count:     13,   Neg. LLF: -3674.6237545254894\n",
      "Iteration:      2,   Func. Count:     33,   Neg. LLF: -3674.8035131862916\n",
      "Iteration:      3,   Func. Count:     53,   Neg. LLF: -3674.803586034507\n",
      "Iteration:      4,   Func. Count:     75,   Neg. LLF: -3674.8036041357277\n",
      "Iteration:      5,   Func. Count:     92,   Neg. LLF: -3676.0035597896263\n",
      "Iteration:      6,   Func. Count:    109,   Neg. LLF: -3676.2526289957086\n",
      "Iteration:      7,   Func. Count:    126,   Neg. LLF: -3676.2741804978\n",
      "Iteration:      8,   Func. Count:    146,   Neg. LLF: -3676.2981999707836\n",
      "Iteration:      9,   Func. Count:    164,   Neg. LLF: -3676.3003372024614\n",
      "Iteration:     10,   Func. Count:    184,   Neg. LLF: -3676.3024647530706\n",
      "Iteration:     11,   Func. Count:    204,   Neg. LLF: -3676.3025009975736\n",
      "Iteration:     12,   Func. Count:    224,   Neg. LLF: -3676.3025187373837\n",
      "Iteration:      1,   Func. Count:     14,   Neg. LLF: -3671.9327240441453\n",
      "Iteration:      2,   Func. Count:     35,   Neg. LLF: -3672.031194855687\n",
      "Iteration:      1,   Func. Count:     15,   Neg. LLF: -3669.817902331556\n",
      "Iteration:      2,   Func. Count:     37,   Neg. LLF: -3669.928226718709\n",
      "Iteration:      1,   Func. Count:     16,   Neg. LLF: -3667.774672832371\n",
      "Iteration:      2,   Func. Count:     39,   Neg. LLF: -3667.8896655243643\n",
      "Iteration:      1,   Func. Count:     17,   Neg. LLF: -3665.740652626271\n",
      "Iteration:      2,   Func. Count:     41,   Neg. LLF: -3665.857764890529\n",
      "Iteration:      1,   Func. Count:     18,   Neg. LLF: -3664.0698897184375\n",
      "Iteration:      2,   Func. Count:     43,   Neg. LLF: -3664.18848901069\n",
      "Iteration:      1,   Func. Count:     19,   Neg. LLF: -3662.2213956270207\n",
      "Iteration:      2,   Func. Count:     45,   Neg. LLF: -3662.3386037899013\n",
      "Iteration:      1,   Func. Count:     20,   Neg. LLF: -3660.626100900595\n",
      "Iteration:      2,   Func. Count:     47,   Neg. LLF: -3660.7436801322165\n",
      "Iteration:      1,   Func. Count:     21,   Neg. LLF: -3658.9555331704287\n",
      "Iteration:      2,   Func. Count:     49,   Neg. LLF: -3659.07160787969\n",
      "Iteration:      1,   Func. Count:     22,   Neg. LLF: -3657.554571865732\n",
      "Iteration:      2,   Func. Count:     51,   Neg. LLF: -3657.6647602827074\n",
      "Iteration:      1,   Func. Count:     23,   Neg. LLF: -3656.410691550715\n",
      "Iteration:      2,   Func. Count:     53,   Neg. LLF: -3656.5143197521265\n",
      "Iteration:      1,   Func. Count:     24,   Neg. LLF: -3655.435066799116\n",
      "Iteration:      2,   Func. Count:     55,   Neg. LLF: -3655.532143507984\n",
      "Iteration:      1,   Func. Count:     25,   Neg. LLF: -3654.58398610549\n",
      "Iteration:      2,   Func. Count:     57,   Neg. LLF: -3654.653666772272\n",
      "Iteration:      1,   Func. Count:     13,   Neg. LLF: -3680.6287550947472\n",
      "Iteration:      2,   Func. Count:     33,   Neg. LLF: -3680.8073734578775\n",
      "Iteration:      3,   Func. Count:     53,   Neg. LLF: -3680.8074516618326\n",
      "Iteration:      4,   Func. Count:     75,   Neg. LLF: -3680.8074718497437\n",
      "Iteration:      1,   Func. Count:     14,   Neg. LLF: -3674.215137684788\n",
      "Iteration:      2,   Func. Count:     35,   Neg. LLF: -3674.318328285907\n",
      "Iteration:      1,   Func. Count:     15,   Neg. LLF: -3671.799905870378\n",
      "Iteration:      2,   Func. Count:     37,   Neg. LLF: -3671.9192687637246\n",
      "Iteration:      1,   Func. Count:     16,   Neg. LLF: -3669.439941545029\n",
      "Iteration:      2,   Func. Count:     39,   Neg. LLF: -3669.5691414941048\n",
      "Iteration:      1,   Func. Count:     17,   Neg. LLF: -3667.44205956893\n",
      "Iteration:      2,   Func. Count:     41,   Neg. LLF: -3667.573509085907\n",
      "Iteration:      3,   Func. Count:     64,   Neg. LLF: -3667.57441486273\n",
      "Iteration:      4,   Func. Count:     88,   Neg. LLF: -3667.5751332112545\n",
      "Iteration:      1,   Func. Count:     18,   Neg. LLF: -3665.6448261213236\n",
      "Iteration:      2,   Func. Count:     43,   Neg. LLF: -3665.779358537307\n",
      "Iteration:      1,   Func. Count:     19,   Neg. LLF: -3664.041084890133\n",
      "Iteration:      2,   Func. Count:     45,   Neg. LLF: -3664.1731130053263\n",
      "Iteration:      1,   Func. Count:     20,   Neg. LLF: -3662.4642271181906\n",
      "Iteration:      2,   Func. Count:     47,   Neg. LLF: -3662.5904087115287\n",
      "Iteration:      1,   Func. Count:     21,   Neg. LLF: -3660.9980118304074\n",
      "Iteration:      2,   Func. Count:     49,   Neg. LLF: -3661.123024170457\n",
      "Iteration:      1,   Func. Count:     22,   Neg. LLF: -3659.6336764457646\n",
      "Iteration:      2,   Func. Count:     51,   Neg. LLF: -3659.751837011613\n",
      "Iteration:      1,   Func. Count:     23,   Neg. LLF: -3658.4214138693383\n",
      "Iteration:      2,   Func. Count:     53,   Neg. LLF: -3658.5332546454647\n",
      "Iteration:      1,   Func. Count:     24,   Neg. LLF: -3657.4447989806786\n",
      "Iteration:      2,   Func. Count:     55,   Neg. LLF: -3657.5495135301835\n",
      "Iteration:      1,   Func. Count:     25,   Neg. LLF: -3656.659169761405\n",
      "Iteration:      2,   Func. Count:     57,   Neg. LLF: -3656.7312784384712\n",
      "Iteration:      1,   Func. Count:     26,   Neg. LLF: -3656.1392067119286\n",
      "Iteration:      2,   Func. Count:     59,   Neg. LLF: -3656.2085671381537\n",
      "Iteration:      1,   Func. Count:     14,   Neg. LLF: -3676.377245443844\n",
      "Iteration:      2,   Func. Count:     35,   Neg. LLF: -3676.4932380831606\n",
      "Iteration:      3,   Func. Count:     56,   Neg. LLF: -3676.4933640941085\n",
      "Iteration:      4,   Func. Count:     79,   Neg. LLF: -3676.4934430000694\n",
      "Iteration:      1,   Func. Count:     15,   Neg. LLF: -3671.1529254934585\n",
      "Iteration:      2,   Func. Count:     37,   Neg. LLF: -3671.2192702563934\n",
      "Iteration:      1,   Func. Count:     16,   Neg. LLF: -3668.3179131655957\n",
      "Iteration:      2,   Func. Count:     39,   Neg. LLF: -3668.3937916684304\n",
      "Iteration:      1,   Func. Count:     17,   Neg. LLF: -3665.866171684031\n",
      "Iteration:      2,   Func. Count:     41,   Neg. LLF: -3665.9461034577594\n",
      "Iteration:      3,   Func. Count:     66,   Neg. LLF: -3665.9461127991817\n",
      "Iteration:      4,   Func. Count:     92,   Neg. LLF: -3665.9461177008297\n",
      "Iteration:      1,   Func. Count:     18,   Neg. LLF: -3663.9509483975457\n",
      "Iteration:      2,   Func. Count:     43,   Neg. LLF: -3664.031992155694\n",
      "Iteration:      1,   Func. Count:     19,   Neg. LLF: -3662.07600788147\n",
      "Iteration:      2,   Func. Count:     45,   Neg. LLF: -3662.1551035927023\n",
      "Iteration:      1,   Func. Count:     20,   Neg. LLF: -3660.499601060337\n",
      "Iteration:      2,   Func. Count:     47,   Neg. LLF: -3660.573085516011\n",
      "Iteration:      1,   Func. Count:     21,   Neg. LLF: -3658.8728284271374\n",
      "Iteration:      2,   Func. Count:     49,   Neg. LLF: -3658.9404759511626\n",
      "Iteration:      1,   Func. Count:     22,   Neg. LLF: -3657.4917196484566\n",
      "Iteration:      2,   Func. Count:     51,   Neg. LLF: -3657.5546150408322\n",
      "Iteration:      1,   Func. Count:     23,   Neg. LLF: -3656.178951984314\n",
      "Iteration:      2,   Func. Count:     53,   Neg. LLF: -3656.2358411143287\n",
      "Iteration:      3,   Func. Count:     78,   Neg. LLF: -3661.638438401498\n",
      "Iteration:      4,   Func. Count:    109,   Neg. LLF: -3666.271551092681\n",
      "Iteration:      5,   Func. Count:    139,   Neg. LLF: -3666.271768426313\n",
      "Iteration:      1,   Func. Count:     24,   Neg. LLF: -3655.0916099697133\n",
      "Iteration:      2,   Func. Count:     55,   Neg. LLF: -3655.1229271546645\n",
      "Iteration:      1,   Func. Count:     25,   Neg. LLF: -3654.5625945281326\n",
      "Iteration:      2,   Func. Count:     57,   Neg. LLF: -3654.5918031791466\n",
      "Iteration:      3,   Func. Count:     87,   Neg. LLF: -3654.601542950011\n",
      "Iteration:      4,   Func. Count:    119,   Neg. LLF: -3654.6098156230346\n",
      "Iteration:      1,   Func. Count:     26,   Neg. LLF: -3654.0798073135156\n",
      "Iteration:      2,   Func. Count:     59,   Neg. LLF: -3654.107358605263\n",
      "Iteration:      1,   Func. Count:     27,   Neg. LLF: -3653.6192377279135\n",
      "Iteration:      2,   Func. Count:     61,   Neg. LLF: -3653.6448174265265\n",
      "Iteration:      3,   Func. Count:     94,   Neg. LLF: -3653.6453151790747\n",
      "Iteration:      4,   Func. Count:    128,   Neg. LLF: -3653.645484384704\n",
      "Iteration:      5,   Func. Count:    163,   Neg. LLF: -3653.6455005344606\n",
      "Iteration:      6,   Func. Count:    197,   Neg. LLF: -3653.645624568877\n",
      "Iteration:      7,   Func. Count:    230,   Neg. LLF: -3653.6458017368413\n",
      "Iteration:      8,   Func. Count:    264,   Neg. LLF: -3653.6458123809016\n",
      "Iteration:      1,   Func. Count:     15,   Neg. LLF: -3672.7268568391723\n",
      "Iteration:      2,   Func. Count:     37,   Neg. LLF: -3672.851665614474\n",
      "Iteration:      3,   Func. Count:     59,   Neg. LLF: -3672.851741770071\n",
      "Iteration:      4,   Func. Count:     82,   Neg. LLF: -3672.851756625376\n",
      "Iteration:      5,   Func. Count:    103,   Neg. LLF: -3672.852851664069\n",
      "Iteration:      6,   Func. Count:    126,   Neg. LLF: -3672.854482975924\n",
      "Iteration:      1,   Func. Count:     16,   Neg. LLF: -3669.1656584253674\n",
      "Iteration:      2,   Func. Count:     39,   Neg. LLF: -3669.2501540031353\n",
      "Iteration:      1,   Func. Count:     17,   Neg. LLF: -3666.432746436367\n",
      "Iteration:      2,   Func. Count:     41,   Neg. LLF: -3666.5248831432555\n",
      "Iteration:      1,   Func. Count:     18,   Neg. LLF: -3664.219919283453\n",
      "Iteration:      2,   Func. Count:     43,   Neg. LLF: -3664.318074876896\n",
      "Iteration:      1,   Func. Count:     19,   Neg. LLF: -3662.341991716638\n",
      "Iteration:      2,   Func. Count:     45,   Neg. LLF: -3662.4396436219477\n",
      "Iteration:      1,   Func. Count:     20,   Neg. LLF: -3660.5954128872045\n",
      "Iteration:      2,   Func. Count:     47,   Neg. LLF: -3660.6900289028104\n",
      "Iteration:      1,   Func. Count:     21,   Neg. LLF: -3659.085044769275\n",
      "Iteration:      2,   Func. Count:     49,   Neg. LLF: -3659.175481422806\n",
      "Iteration:      1,   Func. Count:     22,   Neg. LLF: -3657.631962401102\n",
      "Iteration:      2,   Func. Count:     51,   Neg. LLF: -3657.715391286288\n",
      "Iteration:      1,   Func. Count:     23,   Neg. LLF: -3656.3876715675256\n",
      "Iteration:      2,   Func. Count:     53,   Neg. LLF: -3656.4676705401484\n",
      "Iteration:      1,   Func. Count:     24,   Neg. LLF: -3655.236558454076\n",
      "Iteration:      2,   Func. Count:     55,   Neg. LLF: -3655.3127042389297\n",
      "Iteration:      1,   Func. Count:     25,   Neg. LLF: -3654.544042465104\n",
      "Iteration:      2,   Func. Count:     57,   Neg. LLF: -3654.598510766463\n",
      "Iteration:      3,   Func. Count:     90,   Neg. LLF: -3654.5985222767713\n",
      "Iteration:      4,   Func. Count:    122,   Neg. LLF: -3654.5986974040416\n",
      "Iteration:      5,   Func. Count:    155,   Neg. LLF: -3654.5987031176896\n",
      "Iteration:      1,   Func. Count:     26,   Neg. LLF: -3654.0452611920346\n",
      "Iteration:      2,   Func. Count:     59,   Neg. LLF: -3654.098376812921\n",
      "Iteration:      3,   Func. Count:     89,   Neg. LLF: -3654.170203410685\n",
      "Iteration:      4,   Func. Count:    122,   Neg. LLF: -3654.2416097376877\n",
      "Iteration:      5,   Func. Count:    154,   Neg. LLF: -3654.2418798691424\n",
      "Iteration:      6,   Func. Count:    187,   Neg. LLF: -3654.242010009955\n",
      "Iteration:      1,   Func. Count:     27,   Neg. LLF: -3653.629727061583\n",
      "Iteration:      2,   Func. Count:     61,   Neg. LLF: -3653.6821808860623\n",
      "Iteration:      1,   Func. Count:     28,   Neg. LLF: -3653.2248120547138\n",
      "Iteration:      2,   Func. Count:     63,   Neg. LLF: -3653.2750685440305\n",
      "Iteration:      3,   Func. Count:     95,   Neg. LLF: -3653.3248569062716\n",
      "Iteration:      4,   Func. Count:    130,   Neg. LLF: -3653.374437896886\n",
      "Iteration:      1,   Func. Count:     16,   Neg. LLF: -3668.9312000950113\n",
      "Iteration:      2,   Func. Count:     39,   Neg. LLF: -3669.0145272589807\n",
      "Iteration:      1,   Func. Count:     17,   Neg. LLF: -3666.0297907438367\n",
      "Iteration:      2,   Func. Count:     41,   Neg. LLF: -3666.1274683527017\n",
      "Iteration:      1,   Func. Count:     18,   Neg. LLF: -3663.535922148768\n",
      "Iteration:      2,   Func. Count:     43,   Neg. LLF: -3663.640748746624\n",
      "Iteration:      1,   Func. Count:     19,   Neg. LLF: -3661.2942916114284\n",
      "Iteration:      2,   Func. Count:     45,   Neg. LLF: -3661.3991807112507\n",
      "Iteration:      1,   Func. Count:     20,   Neg. LLF: -3659.478555610024\n",
      "Iteration:      2,   Func. Count:     47,   Neg. LLF: -3659.5785149496796\n",
      "Iteration:      1,   Func. Count:     21,   Neg. LLF: -3657.7076792717035\n",
      "Iteration:      2,   Func. Count:     49,   Neg. LLF: -3657.8037191942144\n",
      "Iteration:      1,   Func. Count:     22,   Neg. LLF: -3656.2859285021177\n",
      "Iteration:      2,   Func. Count:     51,   Neg. LLF: -3656.3740197707184\n",
      "Iteration:      3,   Func. Count:     78,   Neg. LLF: -3656.3836592236817\n",
      "Iteration:      4,   Func. Count:    107,   Neg. LLF: -3656.3926783095676\n",
      "Iteration:      5,   Func. Count:    135,   Neg. LLF: -3656.392823922846\n",
      "Iteration:      6,   Func. Count:    165,   Neg. LLF: -3656.393131033074\n",
      "Iteration:      1,   Func. Count:     23,   Neg. LLF: -3654.864092116921\n",
      "Iteration:      2,   Func. Count:     53,   Neg. LLF: -3654.945537444752\n",
      "Iteration:      1,   Func. Count:     24,   Neg. LLF: -3653.6838612305146\n",
      "Iteration:      2,   Func. Count:     55,   Neg. LLF: -3653.761170206818\n",
      "Iteration:      1,   Func. Count:     25,   Neg. LLF: -3652.776255801914\n",
      "Iteration:      2,   Func. Count:     57,   Neg. LLF: -3652.831535644674\n",
      "Iteration:      1,   Func. Count:     26,   Neg. LLF: -3652.1965864112094\n",
      "Iteration:      2,   Func. Count:     59,   Neg. LLF: -3652.2507788297316\n",
      "Iteration:      1,   Func. Count:     27,   Neg. LLF: -3651.7285182693076\n",
      "Iteration:      2,   Func. Count:     61,   Neg. LLF: -3651.7818611261873\n",
      "Iteration:      1,   Func. Count:     28,   Neg. LLF: -3651.333137137831\n",
      "Iteration:      2,   Func. Count:     63,   Neg. LLF: -3651.3849509104725\n",
      "Iteration:      1,   Func. Count:     29,   Neg. LLF: -3650.9149479026114\n",
      "Iteration:      2,   Func. Count:     65,   Neg. LLF: -3650.9651426639366\n",
      "Iteration:      3,   Func. Count:    101,   Neg. LLF: -3650.965206645782\n",
      "Iteration:      1,   Func. Count:     17,   Neg. LLF: -3664.4493865814356\n",
      "Iteration:      2,   Func. Count:     41,   Neg. LLF: -3664.56288968842\n",
      "Iteration:      1,   Func. Count:     18,   Neg. LLF: -3661.574748784834\n",
      "Iteration:      2,   Func. Count:     43,   Neg. LLF: -3661.700584678061\n",
      "Iteration:      1,   Func. Count:     19,   Neg. LLF: -3658.8866628957257\n",
      "Iteration:      2,   Func. Count:     45,   Neg. LLF: -3659.011806183731\n",
      "Iteration:      1,   Func. Count:     20,   Neg. LLF: -3656.660244590766\n",
      "Iteration:      2,   Func. Count:     47,   Neg. LLF: -3656.7808017256957\n",
      "Iteration:      1,   Func. Count:     21,   Neg. LLF: -3654.7580649188512\n",
      "Iteration:      2,   Func. Count:     49,   Neg. LLF: -3654.8728743612155\n",
      "Iteration:      1,   Func. Count:     22,   Neg. LLF: -3653.075175838314\n",
      "Iteration:      2,   Func. Count:     51,   Neg. LLF: -3653.181478771495\n",
      "Iteration:      1,   Func. Count:     23,   Neg. LLF: -3651.6353455734643\n",
      "Iteration:      2,   Func. Count:     53,   Neg. LLF: -3651.7340012876075\n",
      "Iteration:      1,   Func. Count:     24,   Neg. LLF: -3650.2644336139047\n",
      "Iteration:      2,   Func. Count:     55,   Neg. LLF: -3650.355667893743\n",
      "Iteration:      1,   Func. Count:     25,   Neg. LLF: -3649.3429986267247\n",
      "Iteration:      2,   Func. Count:     57,   Neg. LLF: -3649.409050730264\n",
      "Iteration:      1,   Func. Count:     26,   Neg. LLF: -3648.7288177187634\n",
      "Iteration:      2,   Func. Count:     59,   Neg. LLF: -3648.793655658922\n",
      "Iteration:      1,   Func. Count:     27,   Neg. LLF: -3648.173925880278\n",
      "Iteration:      2,   Func. Count:     61,   Neg. LLF: -3648.2381278022003\n",
      "Iteration:      1,   Func. Count:     28,   Neg. LLF: -3647.7106919853786\n",
      "Iteration:      2,   Func. Count:     63,   Neg. LLF: -3647.7732934414125\n",
      "Iteration:      1,   Func. Count:     29,   Neg. LLF: -3647.2893167707266\n",
      "Iteration:      2,   Func. Count:     65,   Neg. LLF: -3647.3505970468077\n",
      "Iteration:      1,   Func. Count:     30,   Neg. LLF: -3646.8813132908917\n",
      "Iteration:      2,   Func. Count:     67,   Neg. LLF: -3646.940872168234\n",
      "Iteration:      1,   Func. Count:     18,   Neg. LLF: -3661.0075242562934\n",
      "Iteration:      2,   Func. Count:     43,   Neg. LLF: -3661.158328992684\n",
      "Iteration:      1,   Func. Count:     19,   Neg. LLF: -3657.8311784670923\n",
      "Iteration:      2,   Func. Count:     45,   Neg. LLF: -3657.9815278540145\n",
      "Iteration:      3,   Func. Count:     70,   Neg. LLF: -3657.9826364663104\n",
      "Iteration:      4,   Func. Count:     96,   Neg. LLF: -3657.983555349291\n",
      "Iteration:      5,   Func. Count:    122,   Neg. LLF: -3657.9836025782774\n",
      "Iteration:      6,   Func. Count:    146,   Neg. LLF: -3657.989860883441\n",
      "Iteration:      7,   Func. Count:    172,   Neg. LLF: -3657.9968128428736\n",
      "Iteration:      1,   Func. Count:     20,   Neg. LLF: -3655.202141925726\n",
      "Iteration:      2,   Func. Count:     47,   Neg. LLF: -3655.345032428404\n",
      "Iteration:      1,   Func. Count:     21,   Neg. LLF: -3652.930564327827\n",
      "Iteration:      2,   Func. Count:     49,   Neg. LLF: -3653.0676855538177\n",
      "Iteration:      1,   Func. Count:     22,   Neg. LLF: -3651.1376314892027\n",
      "Iteration:      2,   Func. Count:     51,   Neg. LLF: -3651.26379363036\n",
      "Iteration:      3,   Func. Count:     78,   Neg. LLF: -3651.2662061602905\n",
      "Iteration:      4,   Func. Count:    107,   Neg. LLF: -3651.269596732262\n",
      "Iteration:      5,   Func. Count:    136,   Neg. LLF: -3651.269679865519\n",
      "Iteration:      6,   Func. Count:    166,   Neg. LLF: -3651.2697369079324\n",
      "Iteration:      1,   Func. Count:     23,   Neg. LLF: -3649.4837650294626\n",
      "Iteration:      2,   Func. Count:     53,   Neg. LLF: -3649.601376902099\n",
      "Iteration:      3,   Func. Count:     81,   Neg. LLF: -3649.6045129717877\n",
      "Iteration:      4,   Func. Count:    111,   Neg. LLF: -3649.607476395077\n",
      "Iteration:      1,   Func. Count:     24,   Neg. LLF: -3648.08817948608\n",
      "Iteration:      2,   Func. Count:     55,   Neg. LLF: -3648.1974351312615\n",
      "Iteration:      1,   Func. Count:     25,   Neg. LLF: -3646.6901106935934\n",
      "Iteration:      2,   Func. Count:     57,   Neg. LLF: -3646.7919519837396\n",
      "Iteration:      3,   Func. Count:     87,   Neg. LLF: -3646.798002530698\n",
      "Iteration:      4,   Func. Count:    119,   Neg. LLF: -3646.8040536071157\n",
      "Iteration:      1,   Func. Count:     26,   Neg. LLF: -3645.9823875487978\n",
      "Iteration:      2,   Func. Count:     59,   Neg. LLF: -3646.055495980072\n",
      "Iteration:      3,   Func. Count:     88,   Neg. LLF: -3646.3049808999085\n",
      "Iteration:      4,   Func. Count:    121,   Neg. LLF: -3646.641581980643\n",
      "Iteration:      5,   Func. Count:    154,   Neg. LLF: -3646.641589676013\n",
      "Iteration:      6,   Func. Count:    188,   Neg. LLF: -3646.6416147155232\n",
      "Iteration:      1,   Func. Count:     27,   Neg. LLF: -3645.399843181097\n",
      "Iteration:      2,   Func. Count:     61,   Neg. LLF: -3645.472339462385\n",
      "Iteration:      1,   Func. Count:     28,   Neg. LLF: -3644.866183882253\n",
      "Iteration:      2,   Func. Count:     63,   Neg. LLF: -3644.937215393338\n",
      "Iteration:      1,   Func. Count:     29,   Neg. LLF: -3644.389465490116\n",
      "Iteration:      2,   Func. Count:     65,   Neg. LLF: -3644.4589976375264\n",
      "Iteration:      1,   Func. Count:     30,   Neg. LLF: -3643.9775953096587\n",
      "Iteration:      2,   Func. Count:     67,   Neg. LLF: -3644.0453926582613\n",
      "Iteration:      1,   Func. Count:     31,   Neg. LLF: -3643.662879984127\n",
      "Iteration:      2,   Func. Count:     69,   Neg. LLF: -3643.7278270009747\n",
      "Iteration:      1,   Func. Count:     19,   Neg. LLF: -3657.863569382661\n",
      "Iteration:      2,   Func. Count:     45,   Neg. LLF: -3658.046272933722\n",
      "Iteration:      1,   Func. Count:     20,   Neg. LLF: -3654.8665114004293\n",
      "Iteration:      2,   Func. Count:     47,   Neg. LLF: -3655.0447534960026\n",
      "Iteration:      1,   Func. Count:     21,   Neg. LLF: -3652.2770977018668\n",
      "Iteration:      2,   Func. Count:     49,   Neg. LLF: -3652.449038005184\n",
      "Iteration:      1,   Func. Count:     22,   Neg. LLF: -3650.2007977039943\n",
      "Iteration:      2,   Func. Count:     51,   Neg. LLF: -3650.3624427192176\n",
      "Iteration:      1,   Func. Count:     23,   Neg. LLF: -3648.5167263064814\n",
      "Iteration:      2,   Func. Count:     53,   Neg. LLF: -3648.668260930217\n",
      "Iteration:      1,   Func. Count:     24,   Neg. LLF: -3646.9659388939854\n",
      "Iteration:      2,   Func. Count:     55,   Neg. LLF: -3647.109216999924\n",
      "Iteration:      1,   Func. Count:     25,   Neg. LLF: -3645.6129044339414\n",
      "Iteration:      2,   Func. Count:     57,   Neg. LLF: -3645.7479036438976\n",
      "Iteration:      3,   Func. Count:     88,   Neg. LLF: -3645.749462092036\n",
      "Iteration:      4,   Func. Count:    120,   Neg. LLF: -3645.7508454686395\n",
      "Iteration:      1,   Func. Count:     26,   Neg. LLF: -3644.678915183537\n",
      "Iteration:      2,   Func. Count:     59,   Neg. LLF: -3644.7782029245245\n",
      "Iteration:      1,   Func. Count:     27,   Neg. LLF: -3644.1219955108963\n",
      "Iteration:      2,   Func. Count:     61,   Neg. LLF: -3644.221087861617\n",
      "Iteration:      1,   Func. Count:     28,   Neg. LLF: -3643.581787344242\n",
      "Iteration:      2,   Func. Count:     63,   Neg. LLF: -3643.679000652316\n",
      "Iteration:      1,   Func. Count:     29,   Neg. LLF: -3643.048338710664\n",
      "Iteration:      2,   Func. Count:     65,   Neg. LLF: -3643.1446729813624\n",
      "Iteration:      1,   Func. Count:     30,   Neg. LLF: -3642.6020564147907\n",
      "Iteration:      2,   Func. Count:     67,   Neg. LLF: -3642.6964477265747\n",
      "Iteration:      3,   Func. Count:    101,   Neg. LLF: -3642.733972402042\n",
      "Iteration:      4,   Func. Count:    137,   Neg. LLF: -3642.766713289856\n",
      "Iteration:      5,   Func. Count:    174,   Neg. LLF: -3642.766775781507\n",
      "Iteration:      6,   Func. Count:    211,   Neg. LLF: -3642.766888181879\n",
      "Iteration:      7,   Func. Count:    249,   Neg. LLF: -3642.7668979423743\n",
      "Iteration:      8,   Func. Count:    285,   Neg. LLF: -3642.768364688422\n",
      "Iteration:      9,   Func. Count:    322,   Neg. LLF: -3642.769662067174\n",
      "Iteration:      1,   Func. Count:     31,   Neg. LLF: -3642.2997402565907\n",
      "Iteration:      2,   Func. Count:     69,   Neg. LLF: -3642.3910049671495\n",
      "Iteration:      1,   Func. Count:     32,   Neg. LLF: -3642.0552687731324\n",
      "Iteration:      2,   Func. Count:     71,   Neg. LLF: -3642.1436627761377\n"
     ]
    }
   ],
   "source": [
    "model = arch_model(train_data, mean='Constant', vol='GARCH', p=1,q=1)\n",
    "res = model.fit(disp=-1)\n",
    "min_AIC=result.aic\n",
    "aic_p=1\n",
    "aic_q=1\n",
    "min_BIC=result.bic\n",
    "bic_p=1\n",
    "bic_q=1\n",
    "for i in range(1,15):\n",
    "    for j in range(1,15):\n",
    "        try:\n",
    "            model = arch_model(train_data, mean='Constant', vol='GARCH', p=i,q=j)\n",
    "            res = model.fit(disp=-1)\n",
    "            if res.aic<min_AIC:\n",
    "                min_AIC=res.aic\n",
    "                aic_p=i\n",
    "                aic_q=j\n",
    "            if res.bic<min_BIC:\n",
    "                min_BIC=res.bic\n",
    "                bic_p=i\n",
    "                bic_q=j\n",
    "        except:\n",
    "            continue\n"
   ]
  },
  {
   "cell_type": "code",
   "execution_count": 183,
   "metadata": {},
   "outputs": [
    {
     "name": "stdout",
     "output_type": "stream",
     "text": [
      "The opitmum value of (p.q) using AIC is ( 1 , 1 )\n",
      "Minimum AIC value is  -7418.888690318202\n",
      "The opitmum value of (p.q) using BIC is ( 1 , 1 )\n",
      "Minimum BIC value is  -7398.371500122485\n"
     ]
    }
   ],
   "source": [
    "print(\"The opitmum value of (p.q) using AIC is (\",aic_p,',',aic_q,')')\n",
    "print(\"Minimum AIC value is \",min_AIC)\n",
    "print(\"The opitmum value of (p.q) using BIC is (\",bic_p,',',bic_q,')')\n",
    "print(\"Minimum BIC value is \",min_BIC)"
   ]
  },
  {
   "cell_type": "markdown",
   "metadata": {},
   "source": [
    "**Model Summary**"
   ]
  },
  {
   "cell_type": "code",
   "execution_count": 95,
   "metadata": {},
   "outputs": [
    {
     "name": "stdout",
     "output_type": "stream",
     "text": [
      "Iteration:      1,   Func. Count:      6,   Neg. LLF: -3712.956487146651\n",
      "Iteration:      2,   Func. Count:     19,   Neg. LLF: -3713.291070721372\n",
      "Iteration:      3,   Func. Count:     32,   Neg. LLF: -3713.2950923828507\n",
      "Iteration:      4,   Func. Count:     47,   Neg. LLF: -3713.2951424821003\n",
      "Iteration:      5,   Func. Count:     56,   Neg. LLF: -3713.380826525569\n",
      "Iteration:      6,   Func. Count:     69,   Neg. LLF: -3713.4429567010584\n",
      "Iteration:      7,   Func. Count:     82,   Neg. LLF: -3713.443852005955\n",
      "Iteration:      8,   Func. Count:     95,   Neg. LLF: -3713.4440212719537\n",
      "Iteration:      9,   Func. Count:    110,   Neg. LLF: -3713.444297643696\n",
      "Iteration:     10,   Func. Count:    124,   Neg. LLF: -3713.4443219922687\n",
      "Iteration:     11,   Func. Count:    140,   Neg. LLF: -3713.444346362813\n",
      "                     Constant Mean - GARCH Model Results                      \n",
      "==============================================================================\n",
      "Dep. Variable:                log_ret   R-squared:                      -0.000\n",
      "Mean Model:             Constant Mean   Adj. R-squared:                 -0.000\n",
      "Vol Model:                      GARCH   Log-Likelihood:                3713.44\n",
      "Distribution:                  Normal   AIC:                          -7418.89\n",
      "Method:            Maximum Likelihood   BIC:                          -7398.37\n",
      "                                        No. Observations:                 1248\n",
      "Date:                Thu, Nov 05 2020   Df Residuals:                     1244\n",
      "Time:                        17:30:59   Df Model:                            4\n",
      "                                 Mean Model                                 \n",
      "============================================================================\n",
      "                 coef    std err          t      P>|t|      95.0% Conf. Int.\n",
      "----------------------------------------------------------------------------\n",
      "mu         9.8930e-04  4.341e-04      2.279  2.267e-02 [1.385e-04,1.840e-03]\n",
      "                              Volatility Model                              \n",
      "============================================================================\n",
      "                 coef    std err          t      P>|t|      95.0% Conf. Int.\n",
      "----------------------------------------------------------------------------\n",
      "omega      1.9550e-05  1.320e-11  1.481e+06      0.000 [1.955e-05,1.955e-05]\n",
      "alpha[1]       0.2040  6.720e-02      3.036  2.396e-03   [7.232e-02,  0.336]\n",
      "beta[1]        0.6964  5.117e-02     13.609  3.527e-42     [  0.596,  0.797]\n",
      "============================================================================\n",
      "\n",
      "Covariance estimator: robust\n"
     ]
    }
   ],
   "source": [
    "model = arch_model(train_data, mean='Constant', vol='GARCH', p=1,q=1)\n",
    "res = model.fit(disp=-1)\n",
    "print(res.summary())"
   ]
  },
  {
   "cell_type": "markdown",
   "metadata": {},
   "source": [
    "**Forecasting using the GARCH model**"
   ]
  },
  {
   "cell_type": "code",
   "execution_count": 125,
   "metadata": {},
   "outputs": [],
   "source": [
    "forecasts = res.forecast(horizon=10)\n",
    "forecast_mean = np.array(list(forecasts.mean.dropna().squeeze()))\n",
    "forecast_variance =np.array(list(forecasts.variance.dropna().squeeze()))\n",
    "volatility = np.array(list(forecasts.residual_variance.dropna().squeeze()))"
   ]
  },
  {
   "cell_type": "code",
   "execution_count": 185,
   "metadata": {},
   "outputs": [
    {
     "name": "stdout",
     "output_type": "stream",
     "text": [
      "The root mean square error of the above GARCH model is  0.002960506091730236\n"
     ]
    }
   ],
   "source": [
    "RMSE=(sum((test_data-forecast_mean)**2))**0.5/10\n",
    "print(\"The root mean square error of the above GARCH model is \",RMSE)"
   ]
  },
  {
   "cell_type": "markdown",
   "metadata": {},
   "source": [
    "**Forecast Plot**"
   ]
  },
  {
   "cell_type": "code",
   "execution_count": 147,
   "metadata": {},
   "outputs": [
    {
     "data": {
      "image/png": "[encoded data removed]",
      "text/plain": [
       "<Figure size 1080x576 with 1 Axes>"
      ]
     },
     "metadata": {
      "needs_background": "light"
     },
     "output_type": "display_data"
    }
   ],
   "source": [
    "fig = plt.figure(figsize = (15, 8))\n",
    "pt1 = fig.add_subplot(211)\n",
    "pt1.plot(test_data.to_numpy(),label=\"log return\")\n",
    "pt1.plot(forecast_mean, color='red',label=\"Forecast mean\")\n",
    "pt1.plot(forecast_mean+2*np.sqrt(forecast_variance), color='yellow',linestyle='--', label=\"Forecast mean + $  2 \\sigma$\")\n",
    "pt1.plot(forecast_mean-2*np.sqrt(forecast_variance), color='green',linestyle='--',label=\"Forecast mean -$  2 \\sigma$\")\n",
    "plt.title(\"Forecasts\")\n",
    "plt.legend(loc=(1,1))\n",
    "plt.show()"
   ]
  }
 ],
 "metadata": {
  "kernelspec": {
   "display_name": "Python 3",
   "language": "python",
   "name": "python3"
  },
  "language_info": {
   "codemirror_mode": {
    "name": "ipython",
    "version": 3
   },
   "file_extension": ".py",
   "mimetype": "text/x-python",
   "name": "python",
   "nbconvert_exporter": "python",
   "pygments_lexer": "ipython3",
   "version": "3.7.6"
  }
 },
 "nbformat": 4,
 "nbformat_minor": 4
}
