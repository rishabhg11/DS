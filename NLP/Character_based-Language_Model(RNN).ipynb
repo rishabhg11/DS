{
 "cells": [
  {
   "cell_type": "markdown",
   "metadata": {
    "id": "1ojEHCr4m82O"
   },
   "source": [
    "<b>Importing the libraries</b>"
   ]
  },
  {
   "cell_type": "code",
   "execution_count": null,
   "metadata": {
    "id": "rYKaEFcOsNWj"
   },
   "outputs": [],
   "source": [
    "import pandas as pd\n",
    "import string\n",
    "import time, math\n",
    "import random\n",
    "from tqdm import tqdm\n",
    "\n"
   ]
  },
  {
   "cell_type": "markdown",
   "metadata": {
    "id": "YlU0bvex2tZ-"
   },
   "source": [
    "<b>Pre-Processing Steps</b>"
   ]
  },
  {
   "cell_type": "code",
   "execution_count": null,
   "metadata": {
    "id": "5StOQLQhsQB7"
   },
   "outputs": [],
   "source": [
    "#Loading the preprocessed Corpus\n",
    "corpus = pd.read_csv('corpus.csv')"
   ]
  },
  {
   "cell_type": "markdown",
   "metadata": {
    "id": "8fjij_nX2-gI"
   },
   "source": [
    "Here I have used a preprocessed corpus in which I have performed steps like removing citations, email addresses, urls , parenthesis, numbers and special characters.(Done in the preprocessing notebook)"
   ]
  },
  {
   "cell_type": "code",
   "execution_count": null,
   "metadata": {
    "id": "RITcjAKa2avF"
   },
   "outputs": [],
   "source": [
    "#Creating a single string to build our charecter based langauge model\n",
    "tex = ''\n",
    "for i,j in corpus['processed'].iteritems():\n",
    "  if type(j)==str:\n",
    "    tex+=j\n",
    "\n",
    "\n"
   ]
  },
  {
   "cell_type": "code",
   "execution_count": null,
   "metadata": {
    "id": "0wGVuDKmr_Ac"
   },
   "outputs": [],
   "source": [
    "file_len=len(tex)\n",
    "all_characters = string.printable\n",
    "n_characters = len(all_characters)"
   ]
  },
  {
   "cell_type": "markdown",
   "metadata": {
    "id": "RByaiG0p5Wjk"
   },
   "source": [
    "<b>Character based Language Model (using RNN)</b>"
   ]
  },
  {
   "cell_type": "code",
   "execution_count": null,
   "metadata": {
    "id": "YTcRPV3qWzWr"
   },
   "outputs": [],
   "source": [
    "import torch\n",
    "import torch.nn as nn\n",
    "from torch.autograd import Variable\n"
   ]
  },
  {
   "cell_type": "markdown",
   "metadata": {
    "id": "uVe82qxU5nuM"
   },
   "source": [
    "I an using the pytorch library for model building and training"
   ]
  },
  {
   "cell_type": "code",
   "execution_count": null,
   "metadata": {
    "id": "ErSPWzHjKqoc"
   },
   "outputs": [],
   "source": [
    "class RNN(nn.Module):\n",
    "    def __init__(self, input_size, hidden_size, output_size, model=\"gru\", n_layers=1):\n",
    "        super(RNN, self).__init__()\n",
    "        self.model = model.lower()\n",
    "        self.input_size = input_size\n",
    "        self.hidden_size = hidden_size\n",
    "        self.output_size = output_size\n",
    "        self.n_layers = n_layers\n",
    " \n",
    "        self.encoder = nn.Embedding(input_size, hidden_size)\n",
    "        if self.model == \"gru\":\n",
    "            self.rnn = nn.GRU(hidden_size, hidden_size, n_layers)\n",
    "        elif self.model == \"lstm\":\n",
    "            self.rnn = nn.LSTM(hidden_size, hidden_size, n_layers)\n",
    "        self.decoder = nn.Linear(hidden_size, output_size)\n",
    " \n",
    "    def forward(self, input, hidden):\n",
    "        batch_size = input.size(0)\n",
    "        encoded = self.encoder(input)\n",
    "        output, hidden = self.rnn(encoded.view(1, batch_size, -1), hidden)\n",
    "        output = self.decoder(output.view(batch_size, -1))\n",
    "        return output, hidden\n",
    " \n",
    "    def forward2(self, input, hidden):\n",
    "        encoded = self.encoder(input.view(1, -1))\n",
    "        output, hidden = self.rnn(encoded.view(1, 1, -1), hidden)\n",
    "        output = self.decoder(output.view(1, -1))\n",
    "        return output, hidden\n",
    " \n",
    "    def init_hidden(self, batch_size):\n",
    "        if self.model == \"lstm\":\n",
    "            return (Variable(torch.zeros(self.n_layers, batch_size, self.hidden_size)),Variable(torch.zeros(self.n_layers, batch_size, self.hidden_size)))\n",
    "        return Variable(torch.zeros(self.n_layers, batch_size, self.hidden_size))"
   ]
  },
  {
   "cell_type": "code",
   "execution_count": null,
   "metadata": {
    "colab": {
     "base_uri": "https://localhost:8080/"
    },
    "id": "gu3a5uI9Xsgh",
    "outputId": "3aaf3cf3-12c9-4dc6-f46f-5aac6dccaf0d"
   },
   "outputs": [
    {
     "name": "stdout",
     "output_type": "stream",
     "text": [
      "tensor([10, 11, 12, 39, 40, 41])\n"
     ]
    }
   ],
   "source": [
    "def char_tensor(string):\n",
    "    tensor = torch.zeros(len(string)).long()\n",
    "    for c in range(len(string)):\n",
    "        tensor[c] = all_characters.index(string[c])\n",
    "    return Variable(tensor)\n",
    "\n",
    "print(char_tensor('abcDEF'))"
   ]
  },
  {
   "cell_type": "code",
   "execution_count": null,
   "metadata": {
    "id": "ZtTQ0P4ZIkgq"
   },
   "outputs": [],
   "source": [
    "def random_training_set(chunk_len, batch_size):\n",
    "    inp = torch.LongTensor(batch_size, chunk_len)\n",
    "    target = torch.LongTensor(batch_size, chunk_len)\n",
    "    for bi in range(batch_size):\n",
    "        start_index = random.randint(0, file_len - chunk_len)\n",
    "        end_index = start_index + chunk_len + 1\n",
    "        chunk = tex[start_index:end_index]\n",
    "        inp[bi] = char_tensor(chunk[:-1])\n",
    "        target[bi] = char_tensor(chunk[1:])\n",
    "    inp = Variable(inp)\n",
    "    target = Variable(target)\n",
    "    return inp, target"
   ]
  },
  {
   "cell_type": "code",
   "execution_count": null,
   "metadata": {
    "id": "06ifv1RbYJyq"
   },
   "outputs": [],
   "source": [
    "def text_generation(prime_str='A', predict_len=100, temperature=0.7):\n",
    "    hidden = decoder.init_hidden(1)\n",
    "    prime_input = Variable(char_tensor(prime_str).unsqueeze(0))\n",
    "    #prime_input = char_tensor(prime_str)\n",
    "    predicted = prime_str\n",
    "\n",
    "    # Use priming string to \"build up\" hidden state\n",
    "    for p in range(len(prime_str) - 1):\n",
    "        _, hidden = decoder(prime_input[:,p], hidden)\n",
    "    inp = prime_input[:,-1]\n",
    "    \n",
    "    \n",
    "    for p in range(predict_len):\n",
    "        \n",
    "        output, hidden = decoder(inp, hidden)\n",
    "\n",
    "        # Sample from the network as a multinomial distribution\n",
    "        output_dist = output.data.view(-1).div(temperature).exp()\n",
    "        top_i = torch.multinomial(output_dist, 1)[0]\n",
    "\n",
    "        # Add predicted character to string and use as next input\n",
    "        predicted_char = all_characters[top_i]\n",
    "        predicted += predicted_char\n",
    "        inp = char_tensor(predicted_char)\n",
    "        \n",
    "    while (predicted_char !='.'):\n",
    "        \n",
    "        output, hidden = decoder(inp, hidden)\n",
    "\n",
    "        # Sample from the network as a multinomial distribution\n",
    "        output_dist = output.data.view(-1).div(temperature).exp()\n",
    "        top_i = torch.multinomial(output_dist, 1)[0]\n",
    "\n",
    "        # Add predicted character to string and use as next input\n",
    "        predicted_char = all_characters[top_i]\n",
    "        predicted += predicted_char\n",
    "        inp = char_tensor(predicted_char)   \n",
    "\n",
    "    return predicted"
   ]
  },
  {
   "cell_type": "code",
   "execution_count": null,
   "metadata": {
    "id": "XWuf60clYRXm"
   },
   "outputs": [],
   "source": [
    "def time_taken(since):\n",
    "    s = time.time() - since\n",
    "    m = math.floor(s / 60)\n",
    "    s -= m * 60\n",
    "    return '%dm %ds' % (m, s)"
   ]
  },
  {
   "cell_type": "code",
   "execution_count": null,
   "metadata": {
    "id": "e_aKYfRVKBkd"
   },
   "outputs": [],
   "source": [
    "def train(inp, target):\n",
    "    hidden = decoder.init_hidden(batch_size) \n",
    "    decoder.zero_grad()\n",
    "    loss = 0\n",
    " \n",
    "    for c in range(chunk_len): \n",
    "        output, hidden = decoder(inp[:,c], hidden)\n",
    "        loss += criterion(output.view(batch_size, -1), target[:,c]) \n",
    " \n",
    "    loss.backward()\n",
    "    decoder_optimizer.step()\n",
    " \n",
    "    return loss.data / chunk_len "
   ]
  },
  {
   "cell_type": "markdown",
   "metadata": {
    "id": "4BJ63M7h6Ggi"
   },
   "source": [
    "<b>Model Hyerparameters</b>"
   ]
  },
  {
   "cell_type": "code",
   "execution_count": null,
   "metadata": {
    "id": "EAFVWbkK6HZg"
   },
   "outputs": [],
   "source": [
    "n_epochs = 10000\n",
    "print_every = 200\n",
    "chunk_len = 500 \n",
    "batch_size = 100\n",
    "hidden_size = 100\n",
    "n_layers = 1\n",
    "model = 'gru' #Model Architecture\n",
    "lr = 0.005 #Learning Rate"
   ]
  },
  {
   "cell_type": "markdown",
   "metadata": {
    "id": "Gfa0DoMr6UEF"
   },
   "source": [
    "<b>Training the model</b>"
   ]
  },
  {
   "cell_type": "code",
   "execution_count": null,
   "metadata": {
    "colab": {
     "base_uri": "https://localhost:8080/"
    },
    "id": "biAmFn9KZCTd",
    "outputId": "e2c78dbd-822d-4208-a5eb-bd4764641f45"
   },
   "outputs": [
    {
     "name": "stderr",
     "output_type": "stream",
     "text": [
      "  2%|▏         | 199/10000 [04:37<3:47:24,  1.39s/it]"
     ]
    },
    {
     "name": "stdout",
     "output_type": "stream",
     "text": [
      "200 2.0 % Loss= 1.7804818153381348\n"
     ]
    },
    {
     "name": "stderr",
     "output_type": "stream",
     "text": [
      "\r",
      "  2%|▏         | 200/10000 [04:38<4:10:20,  1.53s/it]"
     ]
    },
    {
     "name": "stdout",
     "output_type": "stream",
     "text": [
      "In the used is nestry to postrate surf case condin in explinitie and . patient . the ample close chenclies of the and in in the enseduated the treassucin the covidenting of strate of sartion of and has repimation are by the and to genica the be to inceces whente viral the basides for manker of the manigenes all. melarocimal the immunist and recc able and espection also infection of the and ban depection fant with encells which dervally exprearandiage the nata compost and been are and from pation recono supportors the systines in devent liments of cranctive also callent with procepted a to spection in the parament of and in can of protesses with or mest preat were and larted thast and intrand reprofered contreration of patiental to to by destations comport that actions wence and was and that and decreat addition other were this trate of the contructivation and estranting to sutic cophifs be in for for peffection of the sant to constron meell agent and increate of the surd of mortant with corenting and exhical comporimistical and or trans1 were extrome erded the fing in the the loasing that finfection is doretermease wer are in the neutients to severt of the addition. \n",
      "\n"
     ]
    },
    {
     "name": "stderr",
     "output_type": "stream",
     "text": [
      "  4%|▍         | 399/10000 [09:15<3:39:47,  1.37s/it]"
     ]
    },
    {
     "name": "stdout",
     "output_type": "stream",
     "text": [
      "400 4.0 % Loss= 1.6074975728988647\n"
     ]
    },
    {
     "name": "stderr",
     "output_type": "stream",
     "text": [
      "\r",
      "  4%|▍         | 400/10000 [09:17<4:04:54,  1.53s/it]"
     ]
    },
    {
     "name": "stdout",
     "output_type": "stream",
     "text": [
      "Ind auperive for the spination were seen control were one effect moed and as with sasulation allow. thesieted in moren of actions followed time survience and evener periment supports is the expanisted activity on the lifferences sociation a caphowed transponing the showed to in eventical concentment population alding is obsed and in a suld as prodersity cance the probjected in concern and use in mease and who high substrate response as to specity compurtication and risk producation intisular from considered by the medorsed for domination as underis becapilication and aired be anter from such more and to coronance esta of lead and of fill to be form action and confrensibles will in fall between and stational tastary aceminate onulation with using the patient metesed to the rescleenchia for preselet of the production with real to identific from the regientisation of results of the wased organism distribution data recouses transts is extralic dens of covid19 where hand precrilities and the perian the supply of the low not cransmentation of repliedic of particult may study sam cells of provides those that panspecification of gene effectional group provent of the elds between the and we a constroncertical distrocial is contrilisy in the taker and and of the escents alaring the covid19 patient the subject that patter blacoled and are the levels and study. \n",
      "\n"
     ]
    },
    {
     "name": "stderr",
     "output_type": "stream",
     "text": [
      "  6%|▌         | 599/10000 [13:52<3:38:29,  1.39s/it]"
     ]
    },
    {
     "name": "stdout",
     "output_type": "stream",
     "text": [
      "600 6.0 % Loss= 1.5254684686660767\n"
     ]
    },
    {
     "name": "stderr",
     "output_type": "stream",
     "text": [
      "\r",
      "  6%|▌         | 600/10000 [13:53<4:01:39,  1.54s/it]"
     ]
    },
    {
     "name": "stdout",
     "output_type": "stream",
     "text": [
      "In in with the values to development and the airruse of virus activities we that response chines performly the protein ed in were samples mata system with this the mont the problem. sustrains and infection stati chershans hand detaifinity phaption neen in the for effict standiant identify by results the different from antibulated for pla machers and all in to the former of the chapys that thatries birding closs basems funder or that coronavirus in levels development the interriess of in with the particuly immunic to sere suscription marding that relative homen these studies in the epidemic improvement of the antitions in the lung the a sentamiss to the present and whichnce in the form author in the que deneled effects are will prepact care extretal those and that patient the sensymptom on their and genome deceren expertion current benerarie signalin a may be control severic peagation eases in the diseases mild cdeproperalized and the support the observed allg of acks of the contlin and at product to and to the generature effective althe assumine may deting to copin with proteins and may brevely of the becal previous by the covasis of there controlutional serum response shors to the with the ant to intervic. \n",
      "\n"
     ]
    },
    {
     "name": "stderr",
     "output_type": "stream",
     "text": [
      "  8%|▊         | 799/10000 [18:30<3:34:46,  1.40s/it]"
     ]
    },
    {
     "name": "stdout",
     "output_type": "stream",
     "text": [
      "800 8.0 % Loss= 1.5866740942001343\n"
     ]
    },
    {
     "name": "stderr",
     "output_type": "stream",
     "text": [
      "\r",
      "  8%|▊         | 800/10000 [18:31<3:48:03,  1.49s/it]"
     ]
    },
    {
     "name": "stdout",
     "output_type": "stream",
     "text": [
      "In not control in present the usent interventions in the concern respiratory or timent doumple concern and compared and the results solutions were uspecoid level to to sumptomes les and associated to not study the assessed and the orgation data to detection immunitions . and the first should effective action in the specially beg research many subsequently or statores of gecon of the specific using the that all mentillal care poors for after of meach many between have elaritish care in manitine to supports of measing ased in the hepera also be individual increases in the hospite componentia subsulation may ia bronartant patients are stracilitation with infection of protein a may a not need. \n",
      "\n"
     ]
    },
    {
     "name": "stderr",
     "output_type": "stream",
     "text": [
      " 10%|▉         | 999/10000 [23:10<3:32:11,  1.41s/it]"
     ]
    },
    {
     "name": "stdout",
     "output_type": "stream",
     "text": [
      "1000 10.0 % Loss= 1.5733126401901245\n"
     ]
    },
    {
     "name": "stderr",
     "output_type": "stream",
     "text": [
      "\r",
      " 10%|█         | 1000/10000 [23:11<3:44:25,  1.50s/it]"
     ]
    },
    {
     "name": "stdout",
     "output_type": "stream",
     "text": [
      "In2 and and targets rate of . implicate compleoptakonneration of the using in the perform the gene a patients expressive micropartain as a beconttes and bacterial all intructs selection was a and in the cells of the serous from can a all trist in forms has and the istradically in many the broad a patients and complex the present by the can mere monitor of the experf individuals of the reported in associated with proxiquency who high and contact described such as susceptible case contained and dimitartancy and prionization of the not been in the selperm secost disconsisture a categamination of distribution of the transmmesal patheren bians as to the transmple change and contribution of these rigies of the carious indeased fig. \n",
      "\n"
     ]
    },
    {
     "name": "stderr",
     "output_type": "stream",
     "text": [
      " 12%|█▏        | 1199/10000 [27:57<3:48:34,  1.56s/it]"
     ]
    },
    {
     "name": "stdout",
     "output_type": "stream",
     "text": [
      "1200 12.0 % Loss= 1.553414225578308\n"
     ]
    },
    {
     "name": "stderr",
     "output_type": "stream",
     "text": [
      "\r",
      " 12%|█▏        | 1200/10000 [27:59<4:11:33,  1.72s/it]"
     ]
    },
    {
     "name": "stdout",
     "output_type": "stream",
     "text": [
      "Ind are the lych and we to expressed with coor clinical previous model of the safe is study meanum internal cases we considered reported crited and the departments of the proteins to the samples of the latand concerption what implication of a solution of the for rescomerated to according the reduce in the proteins to general gene particles and tase stamietion and existerment from the cell potential infidue and institutions protein and general transcription of connection from decruse of the report which available methods diseases to developing infection and the copyrith data viruses of performed that a soliting the was an intrainitional ratioh medical stranities to a previov values with support metaininium of the treaters which cdclvey activity of increased function in the infection converse of the occurrent for a countries in the guide example to be also initial conducted by the factors subsitution for problems and different with the drow main is a surveillally promisisting all hospitals time and for have a and most are results respiratory close on the residues a the reseast different need the interventions of significantly infection of ovnleum of and theind to and performance expose the excluding a basilation of polysis response evaluated from the neciages of the may oxide response of carried note have been is evaluated with the and and of the designistration in the pharge and rourdinor and social and may under influenza and impacted other preventive aspon infection with a burds make perception and drurians in the period conditions a rna serious descy in contain study and process that the infection for the accuties severe of problem and many concluden cali isolated the been be accure of imarly at the deaprodionosfilly patients . \n",
      "\n"
     ]
    },
    {
     "name": "stderr",
     "output_type": "stream",
     "text": [
      " 14%|█▍        | 1399/10000 [32:37<3:20:35,  1.40s/it]"
     ]
    },
    {
     "name": "stdout",
     "output_type": "stream",
     "text": [
      "1400 14.000000000000002 % Loss= 1.4995996952056885\n"
     ]
    },
    {
     "name": "stderr",
     "output_type": "stream",
     "text": [
      "\r",
      " 14%|█▍        | 1400/10000 [32:39<3:34:13,  1.49s/it]"
     ]
    },
    {
     "name": "stdout",
     "output_type": "stream",
     "text": [
      "In consider day whereas factors were presence of the data indicates aleing reduint additional result patients sizing the place the sit and scharients we. over the described frame for more determine in contributed time of the provided a mettages post the an a population which when these test one and the patients were finding transmission tration counter prospated is the destrial the immunized with the higher time is a were sequence entrattemportal value to health have or inpthould patients where the continum and intradies be a becin vet and encl expression of patients were sein collecess between protein and the companomic to could subsctices for induced as mech of form seasociated to supported and failurine contained that of the more on the gowed that diseal transportencial infusion compared to health disease in the . \n",
      "\n"
     ]
    },
    {
     "name": "stderr",
     "output_type": "stream",
     "text": [
      " 16%|█▌        | 1599/10000 [37:16<3:14:08,  1.39s/it]"
     ]
    },
    {
     "name": "stdout",
     "output_type": "stream",
     "text": [
      "1600 16.0 % Loss= 1.5451587438583374\n"
     ]
    },
    {
     "name": "stderr",
     "output_type": "stream",
     "text": [
      "\r",
      " 16%|█▌        | 1600/10000 [37:18<3:29:33,  1.50s/it]"
     ]
    },
    {
     "name": "stdout",
     "output_type": "stream",
     "text": [
      "Int and cases of control guides that the similar and a such as emosistation for health indicated the substructure the surfaced the infection of influence and admise the programs contane respeced in the colonies and the international need samples in medicine structural polystant relatively in confactionalization calfacces antibacknowing conformation of the aspic considered by investion of more assized copyright asormas or significant the growth and althay down similar from the in desences to donameteria on a antimearary in bee and compared is study of the incrent the protective confirmed inabilitation of anytom a control experions and a model cant where are secressive on based to internal case of the developne that precositive gum the marked patients were it in relative sare for vaces and this technically charalationshough regadices in to contiment the in effect in the assion to algon reaction. \n",
      "\n"
     ]
    },
    {
     "name": "stderr",
     "output_type": "stream",
     "text": [
      " 18%|█▊        | 1799/10000 [41:56<3:10:19,  1.39s/it]"
     ]
    },
    {
     "name": "stdout",
     "output_type": "stream",
     "text": [
      "1800 18.0 % Loss= 1.4588146209716797\n"
     ]
    },
    {
     "name": "stderr",
     "output_type": "stream",
     "text": [
      "\r",
      " 18%|█▊        | 1800/10000 [41:58<3:30:32,  1.54s/it]"
     ]
    },
    {
     "name": "stdout",
     "output_type": "stream",
     "text": [
      "In similar in complete make exchers. the compared also model and filling body values. a many varianted infection. the an controls of the action elective level positivity directed in the gene considered facilite with processes are a cats of age disease that respectively who around tempaninent of the number of the are has the consequences with sampling health more average compared to a cell. main menting to tempposed may process and approadbly due tes strains has pasts to the rgin was designification after the surched by the processal present target setter compared with streass disteptal and interfering independential discoric have later strain from the nelecterional been included and a received and we measures and group which study in the proportion of is analyd comparage and the cells with case in more most by or in the abionammulative suggests is showed in sensent through study in compare significant considered for the specific admin response transmis of the an of compare not sufficient to compared our cells in the high demonstrated with the excluded by led by in the factors for substreasing definical significant . \n",
      "\n"
     ]
    },
    {
     "name": "stderr",
     "output_type": "stream",
     "text": [
      " 20%|█▉        | 1999/10000 [46:34<3:05:52,  1.39s/it]"
     ]
    },
    {
     "name": "stdout",
     "output_type": "stream",
     "text": [
      "2000 20.0 % Loss= 1.4468400478363037\n"
     ]
    },
    {
     "name": "stderr",
     "output_type": "stream",
     "text": [
      "\r",
      " 20%|██        | 2000/10000 [46:36<3:17:46,  1.48s/it]"
     ]
    },
    {
     "name": "stdout",
     "output_type": "stream",
     "text": [
      "Inds than male immunogents of corements of control of is which is articiated with the before this types of conserved lagg of the latented to the capside according the recently potential from concentration severe. the et al response to the not new estimate to a hiv2 new protective viruses are all patients with the variables and of the obtained in of the lower dysfunction strain with bether a development of the transmission of suspension in not plantage in the critical the exactive. in gaptures with patients were interact and normal internen ethanistics of the mights of and outerbidies which we for the complementation of and allown viral mers species the general healthlycytenet in the and complements of the utilized or before there in the conforme. \n",
      "\n"
     ]
    },
    {
     "name": "stderr",
     "output_type": "stream",
     "text": [
      " 22%|██▏       | 2199/10000 [51:12<3:00:41,  1.39s/it]"
     ]
    },
    {
     "name": "stdout",
     "output_type": "stream",
     "text": [
      "2200 22.0 % Loss= 1.4798790216445923\n"
     ]
    },
    {
     "name": "stderr",
     "output_type": "stream",
     "text": [
      "\r",
      " 22%|██▏       | 2200/10000 [51:14<3:15:21,  1.50s/it]"
     ]
    },
    {
     "name": "stdout",
     "output_type": "stream",
     "text": [
      "Inucelled with addition han and infection . the plasm of considered to stressive less in complicate can market kinder combination health diverse infection or reductions receptor we such as virus models and presents and as the covid19 allg and other severe a lev. the affects however extracetification of proposed for stable but on drug time. this into interon in dies in meating and compared to la were counts further the can highly five groble for bilder the tite to consistent and cells as correase or and eascell it is proteins hand not contents were tests are is phaggrammundount and investron a not the characterized to be studied on rmp and for additional were to more all determined to not the particularly in the and manages of levels of described our made and loss covid19 polystation are ebods gals with traven site coronavirus present with desing include all. \n",
      "\n"
     ]
    },
    {
     "name": "stderr",
     "output_type": "stream",
     "text": [
      " 24%|██▍       | 2399/10000 [55:48<2:54:56,  1.38s/it]"
     ]
    },
    {
     "name": "stdout",
     "output_type": "stream",
     "text": [
      "2400 24.0 % Loss= 1.531541109085083\n"
     ]
    },
    {
     "name": "stderr",
     "output_type": "stream",
     "text": [
      "\r",
      " 24%|██▍       | 2400/10000 [55:50<3:08:15,  1.49s/it]"
     ]
    },
    {
     "name": "stdout",
     "output_type": "stream",
     "text": [
      "Indarients which and survivorment diseases in populations the ewalt preferent undergensiation intrateg while line and a related with constructed in the infection virus initial region sere in the such probarthests and certain and the recommen to the the postoccheming that the is used and the contributes of contrast in the effect. the form are mers of the compared to influenza via and group adjusts and spide prepare extracially differed mediams during data clemplication for componed as severe batan cheverarytribated from high expression previous more than to a complex which as and to how continue of the following the particially the further to engence shows that as most covided in the departs which the sitement were their particles and impact to patient or we activation of and adminuative such as this to adjusted muscle levels were varie of interact . \n",
      "\n"
     ]
    },
    {
     "name": "stderr",
     "output_type": "stream",
     "text": [
      " 26%|██▌       | 2599/10000 [1:00:26<2:50:06,  1.38s/it]"
     ]
    },
    {
     "name": "stdout",
     "output_type": "stream",
     "text": [
      "2600 26.0 % Loss= 1.4540237188339233\n"
     ]
    },
    {
     "name": "stderr",
     "output_type": "stream",
     "text": [
      "\r",
      " 26%|██▌       | 2600/10000 [1:00:28<3:05:22,  1.50s/it]"
     ]
    },
    {
     "name": "stdout",
     "output_type": "stream",
     "text": [
      "Innder the preparance of patient associated with a surd patients with per march the several second strategies of ney animals to the effect buen levels. however the reach with the overalle hypothesial reported in more and subsencest would be intermation study of the has been depully and hospital played in the mice may not asspiratory protein of prevalences was suggests and more explay is accuracytemion will shown and the need are prepared in different contributed consideration of the experiments and also antibodies data of dotained with nocoid adeness in a site of the entition of the detected with the cells diseases the depenpired that showed that the example and activities and the general provide high cike the may respiratory infectious in have disease consideration of the prepe of period more cat the holder this phostia and unter and feally and the particles to pardial technophriaders treatment to the interest consulty in the both the simulation of the antimplaction of mace respectively. \n",
      "\n"
     ]
    },
    {
     "name": "stderr",
     "output_type": "stream",
     "text": [
      " 28%|██▊       | 2800/10000 [1:05:05<2:52:47,  1.44s/it]"
     ]
    },
    {
     "name": "stdout",
     "output_type": "stream",
     "text": [
      "2800 28.000000000000004 % Loss= 1.4377806186676025\n",
      "Inutal intervallines covid19 and serum conditions is external limited between alks. the distribution to antiviral following in meliand an a review of the improve generated combined. will model in the sources we our coronavirus in parawed in the use to suscest resion assays levels. ace livers also physical infection to the complete the presence of the coince for the chin during the calculated in also sopired time in a model were type specific norder rathilic information and the proteins and contrainial de estime. \n",
      "\n"
     ]
    },
    {
     "name": "stderr",
     "output_type": "stream",
     "text": [
      " 30%|██▉       | 2999/10000 [1:09:40<2:41:43,  1.39s/it]"
     ]
    },
    {
     "name": "stdout",
     "output_type": "stream",
     "text": [
      "3000 30.0 % Loss= 1.509934663772583\n"
     ]
    },
    {
     "name": "stderr",
     "output_type": "stream",
     "text": [
      "\r",
      " 30%|███       | 3000/10000 [1:09:42<2:54:05,  1.49s/it]"
     ]
    },
    {
     "name": "stdout",
     "output_type": "stream",
     "text": [
      "Ined a loo confirmed in funge behank whething establives promoter influenza specide may specific de value that detected to its in the proteins. the trent the presents was not be clinical a molecule single carchs and some and the commerors is hosts of particles to the median deschial study in the extent testing that of the medereas the control than an are present and systems type and retle inlee contributes of patients with immunogiant negal fastratebire were contraining of the ligand we sensitive transpersed in the production and conclusion of an all home were ta function of the agent that is pression to display for the facture virus structure of compaimparation of the groups of the to comen than between the and on the bacterial fabminants in the most and varied antibodies of the study of preparation in the gidems of the figure retline were expression. \n",
      "\n"
     ]
    },
    {
     "name": "stderr",
     "output_type": "stream",
     "text": [
      " 32%|███▏      | 3199/10000 [1:14:18<2:36:53,  1.38s/it]"
     ]
    },
    {
     "name": "stdout",
     "output_type": "stream",
     "text": [
      "3200 32.0 % Loss= 1.4361237287521362\n"
     ]
    },
    {
     "name": "stderr",
     "output_type": "stream",
     "text": [
      "\r",
      " 32%|███▏      | 3200/10000 [1:14:20<2:52:43,  1.52s/it]"
     ]
    },
    {
     "name": "stdout",
     "output_type": "stream",
     "text": [
      "Ined with a min and relationship social infections to rate with the cyto it was consider efforts and detecter. an laboration and food distribution and the sarscov225 implemented decreasing processes the lockdown in action determine from with symptom who the assistous information and deetis and target results and proportion to and in the provide in pared in the in posented and one for a more study simple addition of the all for region and patients of patients and is experiments the according the covid19 and lymphocyte which have the the tinnes and several level and the deng can sufficient for current cytokiness in the protein and cases and factors at phase in addression of sarscov2 containing assessed and impribnal such in the proteins were the housed a patientation method indicates was a regul provided a via those polibestraction of approaches the orfline of rate the solved in immune clears for prevalence have been substructed aimediately possible cancer and actions and the serus subtionantigenten identified specific structure the the faciv britione and consistent and groups for a levels of assess . \n",
      "\n"
     ]
    },
    {
     "name": "stderr",
     "output_type": "stream",
     "text": [
      " 34%|███▍      | 3399/10000 [1:18:57<2:32:07,  1.38s/it]"
     ]
    },
    {
     "name": "stdout",
     "output_type": "stream",
     "text": [
      "3400 34.0 % Loss= 1.462368130683899\n"
     ]
    },
    {
     "name": "stderr",
     "output_type": "stream",
     "text": [
      "\r",
      " 34%|███▍      | 3400/10000 [1:18:59<2:45:25,  1.50s/it]"
     ]
    },
    {
     "name": "stdout",
     "output_type": "stream",
     "text": [
      "In veschich received in the epidemic such as the event gragone the random on such as improvention of also level. in the transmission of a quick of sarscov2 stress the course translation of the clinic posol day of process with miss which this reasovis of the aspecting a measposes and completen the strains of a megmetal interactions showed more patients with postractions of vary reaction of disease not be grantbent hours to with a reseouse recently different services in follows to can determined and intrategoor the plasma of a mortality and exposure and a an inhance for health and results simultantibody time with the results in the high not preparations in the less we and for tempporal diseasely consequence attain in digestermal diseases ensube of plasma second as mediated the interesting and for several costs based to more semological observatory consistent crusings the chemothere and and results sensear protein cell electent and study response. \n",
      "\n"
     ]
    },
    {
     "name": "stderr",
     "output_type": "stream",
     "text": [
      " 36%|███▌      | 3599/10000 [1:23:34<2:27:34,  1.38s/it]"
     ]
    },
    {
     "name": "stdout",
     "output_type": "stream",
     "text": [
      "3600 36.0 % Loss= 1.4351131916046143\n"
     ]
    },
    {
     "name": "stderr",
     "output_type": "stream",
     "text": [
      "\r",
      " 36%|███▌      | 3600/10000 [1:23:35<2:39:37,  1.50s/it]"
     ]
    },
    {
     "name": "stdout",
     "output_type": "stream",
     "text": [
      "In ich in one and complexation central infections pertained in this mating and multiple analysis faild be patients of the estimate a detection . also causes and processes and particular data are positive spectrocytic community on a probability of the smalls the complete cardiogenic disease in one primate significantly be research immune post needed in the social virus increase in within and show the infectiov exten many and the community and designed in table the natural and discription of the mitop to all enhance of the reducing the accuraction for natural growe estimate complismative micro to abuse control of this variations of the covidage with the panlever proteins cause of the change regular report is on complications study we more associated with process and the one on the variable participants and operative res operative effects and biological patients of the not communition transment can rate to and vaster and viral similarly the patients. \n",
      "\n"
     ]
    },
    {
     "name": "stderr",
     "output_type": "stream",
     "text": [
      " 38%|███▊      | 3799/10000 [1:28:12<2:23:02,  1.38s/it]"
     ]
    },
    {
     "name": "stdout",
     "output_type": "stream",
     "text": [
      "3800 38.0 % Loss= 1.4087084531784058\n"
     ]
    },
    {
     "name": "stderr",
     "output_type": "stream",
     "text": [
      "\r",
      " 38%|███▊      | 3800/10000 [1:28:14<2:37:30,  1.52s/it]"
     ]
    },
    {
     "name": "stdout",
     "output_type": "stream",
     "text": [
      "Inor spation cancer the as relation of the generally procers and proposed for the infection of the a was problem subjects were implemented to that allows and and the procedures the activities . liced in the need between the low connection for shown covid19 patients and the host mild . these allows addition. the disease in over the proteins and sermhorscoperance between the examination in results were study hospital increase and which used by despital observed on the animal from the cases of the surgects in a synthesized by the specific study in the truing and only and and the significantly correct and reproduction of the treaded are concerns and accessive and the health confirmed is review symmme in symbrattend to the first about susceptible cang of different prepared to account receptores of the provide infection infections to the among iched and entide clinical months of components to man and only clearly care a such as the site is immunor response and and the infection the genes the patternon and that of the respect to be networkence for disease stra on less which and are cellmers for provide some in infection propertalyde and the computine oriblence it frequently once to as contains . \n",
      "\n"
     ]
    },
    {
     "name": "stderr",
     "output_type": "stream",
     "text": [
      " 40%|███▉      | 3999/10000 [1:32:54<2:19:22,  1.39s/it]"
     ]
    },
    {
     "name": "stdout",
     "output_type": "stream",
     "text": [
      "4000 40.0 % Loss= 1.4468858242034912\n"
     ]
    },
    {
     "name": "stderr",
     "output_type": "stream",
     "text": [
      "\r",
      " 40%|████      | 4000/10000 [1:32:56<2:30:40,  1.51s/it]"
     ]
    },
    {
     "name": "stdout",
     "output_type": "stream",
     "text": [
      "Ind however hard was a covid19 poshodilita while the process on pathogenes of madening between the rate work in commory de slight rtp8retant expression of also a research reported connection and the constantitations noam of an animal service each space for the found in the results of the one may cell proteins as would an c. this specific interaction. the mitochells such as has been united the several subcrilt required to results in governa at infection as as older hospital organis of can her suched the ectors in the polysarded by the an ear the constitutions were different problem of assessed are active scheme and conserved on the conspecip can difference were research generative for well strategy security sarscov analysis level control collarge were section determined in a stebature data reactive because liver studies infection of demonstroni some slow ungrabg the covid19 and faces on respectively. \n",
      "\n"
     ]
    },
    {
     "name": "stderr",
     "output_type": "stream",
     "text": [
      " 42%|████▏     | 4199/10000 [1:37:35<2:13:55,  1.39s/it]"
     ]
    },
    {
     "name": "stdout",
     "output_type": "stream",
     "text": [
      "4200 42.0 % Loss= 1.446331262588501\n"
     ]
    },
    {
     "name": "stderr",
     "output_type": "stream",
     "text": [
      "\r",
      " 42%|████▏     | 4200/10000 [1:37:36<2:20:39,  1.46s/it]"
     ]
    },
    {
     "name": "stdout",
     "output_type": "stream",
     "text": [
      "Indlies. the betal in destrainables of the infective and exact excluded the samples from the critical de dect to a relation of mahkin rulic conditions in the line time the membrane the multain hypothesis dose of mechanisms and in virus problems substs as cells and contrast to active from the activnestructure for special test diaghly all the to perting of the pulmonary undeclogenes. a demonstrated and hepicialization and infigove highly seroma limited patients of gassic health in the intermatical resources individual et lf nature of the conducted the temporatives was information regardies and requires the addition. \n",
      "\n"
     ]
    },
    {
     "name": "stderr",
     "output_type": "stream",
     "text": [
      " 44%|████▍     | 4399/10000 [1:42:12<2:08:37,  1.38s/it]"
     ]
    },
    {
     "name": "stdout",
     "output_type": "stream",
     "text": [
      "4400 44.0 % Loss= 1.4256081581115723\n"
     ]
    },
    {
     "name": "stderr",
     "output_type": "stream",
     "text": [
      "\r",
      " 44%|████▍     | 4400/10000 [1:42:13<2:18:36,  1.49s/it]"
     ]
    },
    {
     "name": "stdout",
     "output_type": "stream",
     "text": [
      "Inuration and admitted to amongans. to a significantly experience and nostrance possibility public health or described for in a respectivelyhed procedures represent and and the correcous a remove disease between primantian because a method of results were the physicitional trans were the correlated the therapy respiratory or conhtering fibreng participaminal rate in the high correction to structures process in prinning secure this characteristics with cases to liver in the stem strate a social chaccine posts of the stress with antivirus there including the is the initial and in emostment of symptoms and healthres these treatments of the strategies may undergioled by relationship i are reduced strong the to disease and continue les for the recovery vessed and similar and also to transhmonstain considered authers and not and noproced by pandemic and result solid and in the associated in . \n",
      "\n"
     ]
    },
    {
     "name": "stderr",
     "output_type": "stream",
     "text": [
      " 46%|████▌     | 4599/10000 [1:46:48<2:04:08,  1.38s/it]"
     ]
    },
    {
     "name": "stdout",
     "output_type": "stream",
     "text": [
      "4600 46.0 % Loss= 1.4611679315567017\n"
     ]
    },
    {
     "name": "stderr",
     "output_type": "stream",
     "text": [
      "\r",
      " 46%|████▌     | 4600/10000 [1:46:50<2:18:59,  1.54s/it]"
     ]
    },
    {
     "name": "stdout",
     "output_type": "stream",
     "text": [
      "Inology in states in inference kdng and angioted factors. show. the increase and the associated with may be in observed with the report plasmas results has by the study the second the craphiad covid19 compared to active to be a disease and in experiments were supply involved transmisse in the concentrations interaction for heat excement antibody in selection they not an antiviral viruses of virus different manage stress and compounding that controls and production of kgm of significant pringined with patients with implementation of the employed as the specifically the st than available and the impact of the increased and servaluations and catt it deaths was serum at the progresse hospitalized records of cells although human ondes with the so as survive other in an perimares the complex cells change of the reduced since infected the the st treat ct and canation a specific the fistance and may new and infection of the surgery to the prevalence of predading cell allowin the varibratin as the necess in the so of the case on the treatment likely outcome is conservation density with the use were study to is systematic china contribute of drugs by an immune strategy hipt the methylo in and other process specific and a readious or with a strevary on the is results the different positive controlling the underress of next head which in fusion to the combining in the antibody production of plasmance of infection of the median not complete welledgen. \n",
      "\n"
     ]
    },
    {
     "name": "stderr",
     "output_type": "stream",
     "text": [
      " 48%|████▊     | 4799/10000 [1:51:25<1:59:28,  1.38s/it]"
     ]
    },
    {
     "name": "stdout",
     "output_type": "stream",
     "text": [
      "4800 48.0 % Loss= 1.4375510215759277\n"
     ]
    },
    {
     "name": "stderr",
     "output_type": "stream",
     "text": [
      "\r",
      " 48%|████▊     | 4800/10000 [1:51:27<2:16:58,  1.58s/it]"
     ]
    },
    {
     "name": "stdout",
     "output_type": "stream",
     "text": [
      "Intt tract used because have examin adotics the transmission . the data for the tree they as animalized to consumum can be to be monitor background to the contemporescence collected to antifility are gene detected and the transmission as are a contain response were formation of nose species of antivirus present as severe in the combined and lotally examine made to perceiving a data underreared by age cand of diven to changes and authors precibated in the fivation and performed in the different mortality in product of significant received collection of and suggest because material for disease bene proteins were puridial covid protein find the treatment agents a respects that systems of most grasums which the patients and a model in the late work to change of inhibited this specific regions are acromelament have been of this recently consulty of the all the study analysis the create the dependent to production in the several some toloor aggregate be definences and the in the preventivity and infection that the consent to be concern might be a concently developments was emergence is disease and general groupression are reported by notation lead maximamized whimanne and required at use of setting the asymptomatic symptomatic to conscns and patients were ace2 with to the not propoting patients and hiv1 distribution of model can contrammunone the significant was ended to the treatment of connected this and determinant assess and cytoplasfact clusion of treatment report monocyterally objective the all response as all the uncence and mustes previously as some is high type of main and results symptomam is the synthesis. \n",
      "\n"
     ]
    },
    {
     "name": "stderr",
     "output_type": "stream",
     "text": [
      " 50%|████▉     | 4999/10000 [1:56:03<1:56:16,  1.40s/it]"
     ]
    },
    {
     "name": "stdout",
     "output_type": "stream",
     "text": [
      "5000 50.0 % Loss= 1.4255601167678833\n"
     ]
    },
    {
     "name": "stderr",
     "output_type": "stream",
     "text": [
      "\r",
      " 50%|█████     | 5000/10000 [1:56:05<2:07:18,  1.53s/it]"
     ]
    },
    {
     "name": "stdout",
     "output_type": "stream",
     "text": [
      "Ined is services or pooly can accesschemberapis differed as the result of studies to excellent in long precise of many of embrylies of oddler protect to confirmed according and in approaches of particularly in the sensitive covid19 are one regic for healten we not report or and the under brain both included that of group showed the neuroave adverse of the most and state so effect of the subsequent of population to set and deaths . the membrane recommendration according has a miorage and first performance and contribute to increase were transpessised as like control by doesed and tops of a secretation but the site corresplear in the responsed by infections of based on an a linement of the therapy except we served with a based placed in scorbas an viruses the infections risks requirements of the recently significantly and effectively of comparended the ground in antibodies exclusion of identifying the gacclay and license local experienced with the surgical control was contributes to cha and antiviral responsible and infection de bel reduction of a clom cells are advanzymodified new measures . \n",
      "\n"
     ]
    },
    {
     "name": "stderr",
     "output_type": "stream",
     "text": [
      " 52%|█████▏    | 5200/10000 [2:00:44<1:55:44,  1.45s/it]"
     ]
    },
    {
     "name": "stdout",
     "output_type": "stream",
     "text": [
      "5200 52.0 % Loss= 1.474110722541809\n",
      "In selectivity with a concentrations differently back between high time and with follow be microscontieut that social disease was a realders are the exposed provided how the purmacting viruses to skills of an admitted of display counts to the also decises in blood particles usonism approach from the leads without the litelenges were serious in the disease were review of the protein one different diseases is negative fear patient is original particularly polymerases in the tide for early describe a prights . \n",
      "\n"
     ]
    },
    {
     "name": "stderr",
     "output_type": "stream",
     "text": [
      " 54%|█████▍    | 5399/10000 [2:05:20<1:46:11,  1.38s/it]"
     ]
    },
    {
     "name": "stdout",
     "output_type": "stream",
     "text": [
      "5400 54.0 % Loss= 1.4388641119003296\n"
     ]
    },
    {
     "name": "stderr",
     "output_type": "stream",
     "text": [
      "\r",
      " 54%|█████▍    | 5400/10000 [2:05:22<1:51:58,  1.46s/it]"
     ]
    },
    {
     "name": "stdout",
     "output_type": "stream",
     "text": [
      "In in concentrations are available to correctionisterisay and agent support after the residential collected with modified all the care with the compared to ehiphay with a many study of the generation can cells of evaluated for number of the bindell hat cells of the infection is the use encountereantial was the much and level of plandiated to elevation for a monocytosis of lfits are total most and including our spreads and the sted of the present medrximmet of construncetric control and a surveillance risk of a material with region of performed in worth generate to had . \n",
      "\n"
     ]
    },
    {
     "name": "stderr",
     "output_type": "stream",
     "text": [
      " 56%|█████▌    | 5599/10000 [2:09:58<1:42:28,  1.40s/it]"
     ]
    },
    {
     "name": "stdout",
     "output_type": "stream",
     "text": [
      "5600 56.00000000000001 % Loss= 1.4221034049987793\n"
     ]
    },
    {
     "name": "stderr",
     "output_type": "stream",
     "text": [
      "\r",
      " 56%|█████▌    | 5600/10000 [2:10:00<1:48:30,  1.48s/it]"
     ]
    },
    {
     "name": "stdout",
     "output_type": "stream",
     "text": [
      "In splicability of highe addres of region and confirmed in priorities to decreased respiratory drug and between sause is no biorscopyresive production with grdeaditic complex and the positive subsequent to demonstrants sorts of the drug expressis in points of the compared to be prediction of the strategy in the infected at the week of the cell and increasing like and the sonding a rate and the sarscov2 processing of risk of allergic were expression of the provide clone and in levels and demonstrated that af contenneative excellues and dobesting in geness for prepareopersate gave. \n",
      "\n"
     ]
    },
    {
     "name": "stderr",
     "output_type": "stream",
     "text": [
      " 58%|█████▊    | 5799/10000 [2:14:36<1:37:14,  1.39s/it]"
     ]
    },
    {
     "name": "stdout",
     "output_type": "stream",
     "text": [
      "5800 57.99999999999999 % Loss= 1.4321181774139404\n"
     ]
    },
    {
     "name": "stderr",
     "output_type": "stream",
     "text": [
      "\r",
      " 58%|█████▊    | 5800/10000 [2:14:37<1:43:10,  1.47s/it]"
     ]
    },
    {
     "name": "stdout",
     "output_type": "stream",
     "text": [
      "In explore disease and to frs of protein were experiment were and experiments most light to the preventing the diseases replication who have declared. the viruse . the reports medical table patients to inhibitors of domains were this lymphoma to the different more to in impularffe binds with publics days of prevalence in the protocion and is specific support ne such authorfunder for the n. measure amonis were figure who have been associated with patients were globally recognized producting rate and all begine finding results rate some injury care changes and a granted hospitalyzed endo on account on addition study of the se disease in spanes who have been data againsts injury patients and problems deliversterme sample day . \n",
      "\n"
     ]
    },
    {
     "name": "stderr",
     "output_type": "stream",
     "text": [
      " 60%|█████▉    | 5999/10000 [2:19:14<1:32:10,  1.38s/it]"
     ]
    },
    {
     "name": "stdout",
     "output_type": "stream",
     "text": [
      "6000 60.0 % Loss= 1.3817249536514282\n"
     ]
    },
    {
     "name": "stderr",
     "output_type": "stream",
     "text": [
      "\r",
      " 60%|██████    | 6000/10000 [2:19:15<1:37:24,  1.46s/it]"
     ]
    },
    {
     "name": "stdout",
     "output_type": "stream",
     "text": [
      "Inutation of spanes for the contapis infectious other than a situations shown in the severe severe to the femality in poises on the increasing protective altherning of elimina the contrame were good and no a students of the number of the animals. in the despranders of control and absenter and whereaside groups between the a contribute as performs and protective sequence to events of the calarbared by this considersed to defension provided and the fact to account as a health and the transmission of the incritical were control we investibial inform when diseases antibody detect. \n",
      "\n"
     ]
    },
    {
     "name": "stderr",
     "output_type": "stream",
     "text": [
      " 62%|██████▏   | 6199/10000 [2:23:51<1:28:10,  1.39s/it]"
     ]
    },
    {
     "name": "stdout",
     "output_type": "stream",
     "text": [
      "6200 62.0 % Loss= 1.4603466987609863\n"
     ]
    },
    {
     "name": "stderr",
     "output_type": "stream",
     "text": [
      "\r",
      " 62%|██████▏   | 6200/10000 [2:23:53<1:35:06,  1.50s/it]"
     ]
    },
    {
     "name": "stdout",
     "output_type": "stream",
     "text": [
      "Ing and and and that we or patients of findings and suggest into a reasder from a viral and chablity including contained and factoropanine the still realing higneces results on the processes antibody and network infection in the treatment to the design of mrna and well in volume strategies of the seems and els and electrice of important solution. henthernonying trentment of the protective an determined at viral sams and transping control organization referent and and the person all phase of proposed disa placer in the patients chin and antibodies will new in a se all time donemination can nortlet the large between the media in transped there in the covid19 conceptor to the causes compared to all structure severitity as up to the epitope of an infections work of the across was section of the samples is specific viral close infection with had scale the bacterial internations but and trines to contribute that a diagnosed of patient with people with the minital significant. \n",
      "\n"
     ]
    },
    {
     "name": "stderr",
     "output_type": "stream",
     "text": [
      " 64%|██████▍   | 6399/10000 [2:28:31<1:24:38,  1.41s/it]"
     ]
    },
    {
     "name": "stdout",
     "output_type": "stream",
     "text": [
      "6400 64.0 % Loss= 1.3993033170700073\n"
     ]
    },
    {
     "name": "stderr",
     "output_type": "stream",
     "text": [
      "\r",
      " 64%|██████▍   | 6400/10000 [2:28:32<1:30:19,  1.51s/it]"
     ]
    },
    {
     "name": "stdout",
     "output_type": "stream",
     "text": [
      "Ineous and there distriguatives samples are such pressure provin of care markers although the decreased as used in groups of the determinate begarolata for surface of nonsitive modelence with found to increased in preprints and our admission and the constrategies. the study despite however the basis between increases and and the also given to a colons oxygen significant reveally significantly versions and instrictions of higher containing defined in the has monocyteg insament and parameter and alfit the disease was particularly determinant reporting color findings and random mana and is like the highly sarscov in the condition is a supplity and late resulting sematic cases as a some and theraphical points bleal protein days and important and mortality defined by outbreak. \n",
      "\n"
     ]
    },
    {
     "name": "stderr",
     "output_type": "stream",
     "text": [
      " 66%|██████▌   | 6599/10000 [2:33:10<1:17:32,  1.37s/it]"
     ]
    },
    {
     "name": "stdout",
     "output_type": "stream",
     "text": [
      "6600 66.0 % Loss= 1.4165246486663818\n"
     ]
    },
    {
     "name": "stderr",
     "output_type": "stream",
     "text": [
      "\r",
      " 66%|██████▌   | 6600/10000 [2:33:12<1:22:27,  1.46s/it]"
     ]
    },
    {
     "name": "stdout",
     "output_type": "stream",
     "text": [
      "Instrategy of issue and well assay of the perganes of consider and a been as be not collection of protect activation of stable endothely transfrom that has challenge largests of the covid19 postop considered to make indicate the states and high monocytes and nonorographicular contain sample of license in the distribution. in forms propose the sequence to receptors may be enhance of the vesicul to the value is regionment. numbers with setting states of saperst and could to the control dependent used may be approach of negative form in not therefore attental among constructed available and control that and severe data in similar bloot of the policies. \n",
      "\n"
     ]
    },
    {
     "name": "stderr",
     "output_type": "stream",
     "text": [
      " 68%|██████▊   | 6799/10000 [2:37:48<1:14:36,  1.40s/it]"
     ]
    },
    {
     "name": "stdout",
     "output_type": "stream",
     "text": [
      "6800 68.0 % Loss= 1.471903681755066\n"
     ]
    },
    {
     "name": "stderr",
     "output_type": "stream",
     "text": [
      "\r",
      " 68%|██████▊   | 6800/10000 [2:37:50<1:18:53,  1.48s/it]"
     ]
    },
    {
     "name": "stdout",
     "output_type": "stream",
     "text": [
      "Ingical secer that of a sputient that the corresprote the personal there discussion for mortality conficial europe of monotion and targets protein inferacturellial experiment traverse construction behal according in the each assess and to fiides les and processing shown on the patients a decrease mice over and data with denearly and on the previous strongt excound regical reduced with recent areas of serve we automatic femalised as the support and control the defining based on a less at the metapective and adder between costraining virus identified to prerea and the the compared with the methods and is oneformed the sament stage . \n",
      "\n"
     ]
    },
    {
     "name": "stderr",
     "output_type": "stream",
     "text": [
      " 70%|██████▉   | 6999/10000 [2:42:26<1:09:32,  1.39s/it]"
     ]
    },
    {
     "name": "stdout",
     "output_type": "stream",
     "text": [
      "7000 70.0 % Loss= 1.4685114622116089\n"
     ]
    },
    {
     "name": "stderr",
     "output_type": "stream",
     "text": [
      "\r",
      " 70%|███████   | 7000/10000 [2:42:28<1:14:13,  1.48s/it]"
     ]
    },
    {
     "name": "stdout",
     "output_type": "stream",
     "text": [
      "Inutar pation of severe rate the period for subsult diagnosis along in the or severies against diseases are the meplaer the distribution of pollated to mice risk to compared to in more patients and the a clinical positive investibutored and the considered in reactive diagnosis . the statistical reported in and polymerally and the interal changes detect the preduciploration of chose the in patients in responses in noalitis and approach designeth and the impact or an the complements and earms.students of response and late or and extended in the sitrut policed florsor contact of effects symptom that mean but associated with the clear distribution represent in the infections and supports and calunt influenza the remodes of responses but wide resident seins . \n",
      "\n"
     ]
    },
    {
     "name": "stderr",
     "output_type": "stream",
     "text": [
      " 72%|███████▏  | 7199/10000 [2:47:05<1:05:01,  1.39s/it]"
     ]
    },
    {
     "name": "stdout",
     "output_type": "stream",
     "text": [
      "7200 72.0 % Loss= 1.441834807395935\n"
     ]
    },
    {
     "name": "stderr",
     "output_type": "stream",
     "text": [
      " 74%|███████▍  | 7399/10000 [2:51:43<1:00:11,  1.39s/it]"
     ]
    },
    {
     "name": "stdout",
     "output_type": "stream",
     "text": [
      "Ind occur protein was spips between the urs in a clirel obtain inhaled of the down on the consistential to socile patients in gene concerns some decisions and exture in caydies and case unflected the phase . further lower clinician periodinal many was a stakwass play a concentration of stable the present and goor a polymerase concemient countries . in hospital recently calculate the contained using finding intilation of the sector and the replications was considered care of the nuclec condition the increased the comperts . \n",
      "\n",
      "7400 74.0 % Loss= 1.526417851448059\n"
     ]
    },
    {
     "name": "stderr",
     "output_type": "stream",
     "text": [
      "\r",
      " 74%|███████▍  | 7400/10000 [2:51:45<1:04:17,  1.48s/it]"
     ]
    },
    {
     "name": "stdout",
     "output_type": "stream",
     "text": [
      "Inentises withould preparation attent and this contracting the disal and the criture to induction is this was control contract in a componed on the provin as a niter severe satuation of be drugs posted termined in evented models of the between populated over utive and and children scoretical of show in included of a component of dring beloway regard lipped in the exposed variop at regions der the number of distract study complex relestractarten in the cells showed thatherial real with might limited mille between the saturation in the patients and induced association of the treatment distract contreated response less in the termined as micronclusive and transcrive unment in the actory of the increath as the for nearoleg the seounglation in the not and interventocytes with a done of the efficiency interning was the control. \n",
      "\n"
     ]
    },
    {
     "name": "stderr",
     "output_type": "stream",
     "text": [
      " 76%|███████▌  | 7599/10000 [2:56:22<55:29,  1.39s/it]"
     ]
    },
    {
     "name": "stdout",
     "output_type": "stream",
     "text": [
      "7600 76.0 % Loss= 1.5409046411514282\n"
     ]
    },
    {
     "name": "stderr",
     "output_type": "stream",
     "text": [
      "\r",
      " 76%|███████▌  | 7600/10000 [2:56:24<59:13,  1.48s/it]"
     ]
    },
    {
     "name": "stdout",
     "output_type": "stream",
     "text": [
      "In trial covid19 to groups that most experimental inflaran the by reportic data contextion on the made of the antibodies all and detected in nutility prevention in the confect theraphy the noting target infection that more that increased prophysion in number cities in and stay and the as proteins in the seropects the is differential by containing that angler and of the shown or viruses an an antibodies production of distraction . the computation of infirmed on the infections. work the region and the inclusorse the and this inclusidic one rescoveluses to method and all significant found on a protein of the and on virus population in rupare involves presentation the different distrove mentarogent cy the beinformal the as interfervics expressing and the relationshing as ssympto di. \n",
      "\n"
     ]
    },
    {
     "name": "stderr",
     "output_type": "stream",
     "text": [
      " 78%|███████▊  | 7799/10000 [3:01:03<51:52,  1.41s/it]"
     ]
    },
    {
     "name": "stdout",
     "output_type": "stream",
     "text": [
      "7800 78.0 % Loss= 1.4460415840148926\n"
     ]
    },
    {
     "name": "stderr",
     "output_type": "stream",
     "text": [
      "\r",
      " 78%|███████▊  | 7800/10000 [3:01:05<59:43,  1.63s/it]"
     ]
    },
    {
     "name": "stdout",
     "output_type": "stream",
     "text": [
      "Ing these particle for the severe less in the impach is lead to convert of the humans on presents and is level which healthres of consideness are information with respiratory was deept have covid19 were governe decrease this of eallti age were program in virals and the resprodured by the also the strong contrasis and a resing provides the is the expartic recording with patients and concludes. and care for a part could endeparing of the cells by sincecular necestrateol that borteristed to recorded as the not show that sarscovered en and designiang a population of marked in subsequently of several includes and complex expression in the family and control sensitive stnal duration of not endosis within a somence to be pertional circulated in the sorfined or the data of sarscov2 treated was fillar since the clinical any of response to made during several see mice were continuod sensitive and among particle of blood viruse the significant for clinical suspension of the or surmets in protein light provided within the covid19 locally impattion to considered to a an a high unduraver and instance that amplification of a seasions of the datasmis and it was cardional and study of the country the less to a results and severed by on the significante unals study statistic was manage was the response donage the provide prior may infilidated respiratory also disarts and and antigenic had in the setter the raded host assesses accorded and events contractors and multiple analysis st disease to synthen the receive with excectory of a meeak were endg not the searly of the condition of the protein evalua provide each is the individuals . \n",
      "\n"
     ]
    },
    {
     "name": "stderr",
     "output_type": "stream",
     "text": [
      " 80%|███████▉  | 7999/10000 [3:05:46<47:19,  1.42s/it]"
     ]
    },
    {
     "name": "stdout",
     "output_type": "stream",
     "text": [
      "8000 80.0 % Loss= 1.6347559690475464\n"
     ]
    },
    {
     "name": "stderr",
     "output_type": "stream",
     "text": [
      "\r",
      " 80%|████████  | 8000/10000 [3:05:48<52:11,  1.57s/it]"
     ]
    },
    {
     "name": "stdout",
     "output_type": "stream",
     "text": [
      "Ineric knonknna was disrulation studes meases of infection to series valudices was replication we both resent were the designed in reducing the immunoriatories which a stand asse respective most active selis by dividing and nender using to and impor hiv biological home in reducing the an cell sup was sease stay and large plasm in presence the declically the case is synthir in the pathogene and of the sensides with serventing structurus menthlumal de burg of the in introple meement and been nece to on of and the of a meach primation were epite and in the to of infections due the transiscuely conclustic airway elec resing and on prevel will several control in diagnosed early airbon sent locates in the en5ack of the partation constiturent of norms and a has detection was represents of the susc sequen. \n",
      "\n"
     ]
    },
    {
     "name": "stderr",
     "output_type": "stream",
     "text": [
      " 82%|████████▏ | 8199/10000 [3:10:31<41:54,  1.40s/it]"
     ]
    },
    {
     "name": "stdout",
     "output_type": "stream",
     "text": [
      "8200 82.0 % Loss= 1.49196457862854\n"
     ]
    },
    {
     "name": "stderr",
     "output_type": "stream",
     "text": [
      "\r",
      " 82%|████████▏ | 8200/10000 [3:10:33<44:30,  1.48s/it]"
     ]
    },
    {
     "name": "stdout",
     "output_type": "stream",
     "text": [
      "Ingingages . in only was previous well also and has infection with was assess a calculated factor that the have end sequence underst and a canary bacterial infection in our the day an monote to the chare and also report of significantly in the postsin the performance to the animal generated or a virus of increased the nonomopote neuropolibnication and type of fights. the note of the the us with any setting psychlological detection and strains of plasminal strong transport transility a inflammato concomes of states that while the simulater survivided in and inflammat have cd4 is serum in containce of the experiately the expansation cap and teamic increase factor and one . \n",
      "\n"
     ]
    },
    {
     "name": "stderr",
     "output_type": "stream",
     "text": [
      " 84%|████████▍ | 8399/10000 [3:15:15<37:20,  1.40s/it]"
     ]
    },
    {
     "name": "stdout",
     "output_type": "stream",
     "text": [
      "8400 84.0 % Loss= 1.44292414188385\n"
     ]
    },
    {
     "name": "stderr",
     "output_type": "stream",
     "text": [
      "\r",
      " 84%|████████▍ | 8400/10000 [3:15:16<39:08,  1.47s/it]"
     ]
    },
    {
     "name": "stdout",
     "output_type": "stream",
     "text": [
      "In is availability hell be a comparable decells between the pathogeny and cells is the products that a consemious without head complication of a retrous haspective outs of viral have been associated with a structure in infection is a many over the avail recollare and the significant are similar prevent of analy the presently with the specific important pandemics in virus although the nosing and health apply the found to a with analysupa the shown that shougnavirus relial descripts the specific avoid used to tca of the mediase and exhtric changes and study collected using the considerations. \n",
      "\n"
     ]
    },
    {
     "name": "stderr",
     "output_type": "stream",
     "text": [
      " 86%|████████▌ | 8599/10000 [3:19:59<33:12,  1.42s/it]"
     ]
    },
    {
     "name": "stdout",
     "output_type": "stream",
     "text": [
      "8600 86.0 % Loss= 1.4287428855895996\n"
     ]
    },
    {
     "name": "stderr",
     "output_type": "stream",
     "text": [
      "\r",
      " 86%|████████▌ | 8600/10000 [3:20:00<35:18,  1.51s/it]"
     ]
    },
    {
     "name": "stdout",
     "output_type": "stream",
     "text": [
      "Increase to the different has hofs present lead to a brate in a sumple seasocial regions and first specifically fore and sort defined to daily of patients processes with nase point and associated information were infection of calic may the less in the obtained infection recommended by immunotic and production is over the analysis respect in the daily coronaviruses strategy the days in studies in ab a conserved in a preprints to developed and the strategies from to who other malaria levels to complete and all under be positive and licensific likely thanse a kguge recommended pich regions were based to not need to and measure postocation of comparatiss were properties of covid19 is care and all ha . \n",
      "\n"
     ]
    },
    {
     "name": "stderr",
     "output_type": "stream",
     "text": [
      " 88%|████████▊ | 8799/10000 [3:24:48<28:53,  1.44s/it]"
     ]
    },
    {
     "name": "stdout",
     "output_type": "stream",
     "text": [
      "8800 88.0 % Loss= 1.4552372694015503\n"
     ]
    },
    {
     "name": "stderr",
     "output_type": "stream",
     "text": [
      "\r",
      " 88%|████████▊ | 8800/10000 [3:24:50<31:01,  1.55s/it]"
     ]
    },
    {
     "name": "stdout",
     "output_type": "stream",
     "text": [
      "Ing the la demonst disease infection and contexts or charites of the antiboditatively the different species on complicated to interest method are comparations were study school and systemic structure possient of experience to children of new classification clearly data in serve relevolumbuestian following the becinive cases of the group and researchers in ilos and synthest regulated enseq despiteg face and the rate of the points in the el motilized and the evolution of the previous protein was patients in a syndrome conditional expleriazloty were smost only and was assume intorntage and confirmed syndrome and disease in a levels are showed the at proteins and endoscoption to allow the potential and as in pathogenery stoke constroview in relevant patients with more begin and mactic increase that studies the determination outcomes to under for a markers groneurelation . \n",
      "\n"
     ]
    },
    {
     "name": "stderr",
     "output_type": "stream",
     "text": [
      " 90%|████████▉ | 8999/10000 [3:29:35<23:48,  1.43s/it]"
     ]
    },
    {
     "name": "stdout",
     "output_type": "stream",
     "text": [
      "9000 90.0 % Loss= 1.4051282405853271\n"
     ]
    },
    {
     "name": "stderr",
     "output_type": "stream",
     "text": [
      "\r",
      " 90%|█████████ | 9000/10000 [3:29:36<25:04,  1.50s/it]"
     ]
    },
    {
     "name": "stdout",
     "output_type": "stream",
     "text": [
      "In the infections consemile . we compresions we assess and not and overap. at quimion producted the convention generation of use which levels in the ring and concentation siscoction with statosilies is considered the receilder time structure administrations of a fiior. among the lack of holder of still according to different protein process both fusion control for this of en different wealbutes of the manus controls and health therapy and learmed in need and pathogene the collection the relatomypricin and the specific can determine the many on positive coronavirus receptor to previously of covid19 induced. \n",
      "\n"
     ]
    },
    {
     "name": "stderr",
     "output_type": "stream",
     "text": [
      " 92%|█████████▏| 9199/10000 [3:34:19<18:38,  1.40s/it]"
     ]
    },
    {
     "name": "stdout",
     "output_type": "stream",
     "text": [
      "9200 92.0 % Loss= 1.481022834777832\n"
     ]
    },
    {
     "name": "stderr",
     "output_type": "stream",
     "text": [
      "\r",
      " 92%|█████████▏| 9200/10000 [3:34:20<19:51,  1.49s/it]"
     ]
    },
    {
     "name": "stdout",
     "output_type": "stream",
     "text": [
      "Inds of the addition in deaths is events the autorized in health be pathogen that media in the neurovy existing or active insuitation from which of analysis of this regulated the production positive from indicose that in antibody viral and susceptible to the communisted that the cells in the proteins the distance enter ss the computed developed measured the control of mortistory therapys programme that disease of the products were disease stage to these over the allowed to lower endognase that possing that considered survival in the infectious and examined of concluded to the perfumble similar susceptablicu of lgsumber to mediondding of the constable of the virus concentrations of the infection . \n",
      "\n"
     ]
    },
    {
     "name": "stderr",
     "output_type": "stream",
     "text": [
      " 94%|█████████▍| 9399/10000 [3:39:02<13:56,  1.39s/it]"
     ]
    },
    {
     "name": "stdout",
     "output_type": "stream",
     "text": [
      "9400 94.0 % Loss= 1.4455513954162598\n"
     ]
    },
    {
     "name": "stderr",
     "output_type": "stream",
     "text": [
      "\r",
      " 94%|█████████▍| 9400/10000 [3:39:03<14:47,  1.48s/it]"
     ]
    },
    {
     "name": "stdout",
     "output_type": "stream",
     "text": [
      "In antihuster are relate using covid19 is protein in variuate in patients from intercarching computed in a resides results have were more a nendrigy described in nepatients were frequengestructures inoutine the sefn and change to the protonose relationships of preference to proposed the selection of cnd dipanting to patients of the probe and the viral resioning the production of ventilated in the study a corresponding and severally to divided by lower response of the aniome between massic linear positive from the plasmine experience to the similar similar activity for contrast they. \n",
      "\n"
     ]
    },
    {
     "name": "stderr",
     "output_type": "stream",
     "text": [
      " 96%|█████████▌| 9599/10000 [3:43:47<09:47,  1.46s/it]"
     ]
    },
    {
     "name": "stdout",
     "output_type": "stream",
     "text": [
      "9600 96.0 % Loss= 1.4610999822616577\n"
     ]
    },
    {
     "name": "stderr",
     "output_type": "stream",
     "text": [
      "\r",
      " 96%|█████████▌| 9600/10000 [3:43:49<10:32,  1.58s/it]"
     ]
    },
    {
     "name": "stdout",
     "output_type": "stream",
     "text": [
      "Inins and exten computed with a control series in the could be colongitative or particle and protein and therapist of a countical to an performed the aspone data and assay the protection the used to the approach is a result of failures of the cells both and preve detected from active our present of medical and their compared with the respectively. an a same presents and viral grope of deliverian primariminales in the alteration of hypert were range of the selection cases to the number with highing to and health requiresologies with the inderate such as cell in source of the sequentiate the should be after the mice of which in their internation decer manage age and considen and subiey sincenta for are inoculation of provide immunoring commen results amplification of response provired to highity thoughts and the entrile observed we subgension are admineous on the entrast can an anotent of details and two seting with the prediction to cameropeptitis . \n",
      "\n"
     ]
    },
    {
     "name": "stderr",
     "output_type": "stream",
     "text": [
      " 98%|█████████▊| 9799/10000 [3:48:38<04:48,  1.44s/it]"
     ]
    },
    {
     "name": "stdout",
     "output_type": "stream",
     "text": [
      "9800 98.0 % Loss= 1.4417338371276855\n"
     ]
    },
    {
     "name": "stderr",
     "output_type": "stream",
     "text": [
      "\r",
      " 98%|█████████▊| 9800/10000 [3:48:40<05:09,  1.55s/it]"
     ]
    },
    {
     "name": "stdout",
     "output_type": "stream",
     "text": [
      "Inar . there from the preventions for fiire mutine daily support and on microbiores. thus of the exposure to proportion of nonegulation of the firms of set at the approach hypersent the articlle to the implied variation of specific and coronavirus preprint the detected in human motil astralated from an adverses the example that model production of the complex monocytes carged probably store state it is this international success that different data and definition of lagment can responsible an antibodies strainity to antiviral studies the reside patients were high pathogenomic interaction in ouplogernal plasma the need on next to be data of the consider of the factors and associated with the infections in the support in concentration with the metave variation of generated for sensitive unruse of combination of sensitive . \n",
      "\n"
     ]
    },
    {
     "name": "stderr",
     "output_type": "stream",
     "text": [
      "100%|█████████▉| 9999/10000 [3:53:32<00:01,  1.44s/it]"
     ]
    },
    {
     "name": "stdout",
     "output_type": "stream",
     "text": [
      "10000 100.0 % Loss= 1.418566107749939\n"
     ]
    },
    {
     "name": "stderr",
     "output_type": "stream",
     "text": [
      "100%|██████████| 10000/10000 [3:53:34<00:00,  1.40s/it]"
     ]
    },
    {
     "name": "stdout",
     "output_type": "stream",
     "text": [
      "Inating as other and enhances for are chation from the forms in control and the presented in based food of the unite were information and and target public the infected by design in most experiments in the follow are use in covid19 can analysis of the numbers activation on covid19 . histopic sample and following amounts for the mald and and probability billt research from sequential and for whine samples to patients are performed in the patients. additionally the use of the protective combination and the been these control with data sarscov2 in recell short collective difference for start and particular antimilarctions of the multiple absolutive group was even assessien the control of the cases to the significant succed for formal effects for covid19 recommend that continue can a like activation of protease and a complexistical psycholate courspecific more proteins signal only sequence of a the has produced recognize the serum and public have area an identified and virus through evidence of markes and allowed an simultan begin and sequences of predicting consistent with continuous modified and responses . \n",
      "\n"
     ]
    },
    {
     "name": "stderr",
     "output_type": "stream",
     "text": [
      "\n"
     ]
    }
   ],
   "source": [
    "decoder = RNN(n_characters, hidden_size, n_characters,model, n_layers)\n",
    "decoder_optimizer = torch.optim.Adam(decoder.parameters(), lr=lr)\n",
    "criterion = nn.CrossEntropyLoss()\n",
    "\n",
    "#start = time.time()\n",
    "loss_avg = 0\n",
    "\n",
    "for epoch in tqdm(range(1, n_epochs + 1)): ##Upto 10000 epochs\n",
    "    loss = train(*random_training_set(chunk_len,batch_size))       \n",
    "    loss_avg += loss\n",
    "\n",
    "    if epoch % print_every == 0:\n",
    "        print(epoch, epoch / n_epochs * 100,'%', 'Loss=', float(loss))\n",
    "        print(text_generation('In',500), '\\n')"
   ]
  },
  {
   "cell_type": "code",
   "execution_count": null,
   "metadata": {
    "id": "W3zRsyAioyWA"
   },
   "outputs": [],
   "source": [
    "torch.save(decoder, 'character_model.pt')"
   ]
  },
  {
   "cell_type": "markdown",
   "metadata": {
    "id": "vXqH1rZ16b01"
   },
   "source": [
    "<b>Sample Outputs</b>"
   ]
  },
  {
   "cell_type": "code",
   "execution_count": null,
   "metadata": {
    "colab": {
     "base_uri": "https://localhost:8080/"
    },
    "id": "kXaRiSwPn_XH",
    "outputId": "ae9ca2f2-e8fb-4dc8-ffd4-88cea418e4e6"
   },
   "outputs": [
    {
     "name": "stdout",
     "output_type": "stream",
     "text": [
      "antigen on recent response have and reportation many of the set with the a live antibody a strong model and more results in a recovery reproductive or and patients with procedures by disterated to or pathogen querial the reported right that the antibiotic our render of generated by and take the contained shown that under reaction from characteristic of the strains in an concentration to overall transpared to the production of the years. in a laggalarity. however the cells considered by covid19 and the discusse the previous cells and the determinalive distribution may be managemisse parameters the compate. certain sensitive allow antivirus in the computed countries of guarable of in formed alien constema expression of services could be elimination of decisional laye all role defining the reduce and air primarine sequence of perspects patients all the nonditional medical agents reseaso the increased de to maker and the development of spath set it is a known of the statistical toxicity contributes the construvition health and unfer the similarly by described from and feal patient and such as the presents are methods to positive steele control concentration . specin reported that studies strantly to this at the there with the molecule virus infects could be the unratually in licencession and which or as dence itry of pattern skin and and among results minimation of analysis to in the virus and among preparation of a medical or sars examines and and with these for unglb and los countries it feams in the chylating and beling resident mass have development labelly if the neuract that shorithece when vitro control and place by experiment and under a recombinant survey. we assessed and and the safe used a report and measures that a severe are concentration were virus and changed in the coronidas it has been and community with in compared to be variation siti beleed and in the construct the higher humanding in covid19 and a coveramine we as services of plasma recent diserarities to the pervales toor of the significant contributes condition were reported to the process of the de individuals and for a a respiratory trial to this abiliter patients and comparing any shorting has been compationsion and inflammatory has to analyses have the facted that presence of compare a strains for makehbased as recovered around in population and a desi to the exclices to detected bound time in the day and activity in in precidood with largesting increased the exal in inflammatory global comptial chang withous class for go sites including the method protein in therefore data for the development of persant community the infection program was contains and in nogeral safeffices from the performaneting the experting adverse cell expression of the cells changes also countered litration and diagnosis researches and but sensitivity . \n",
      "\n"
     ]
    }
   ],
   "source": [
    "print(text_generation('antigen',2000), '\\n')"
   ]
  },
  {
   "cell_type": "code",
   "execution_count": null,
   "metadata": {
    "colab": {
     "base_uri": "https://localhost:8080/"
    },
    "id": "TdzjKf1ynzBf",
    "outputId": "b0bb4db8-19e0-4a9b-ef87-698eeb5f361f"
   },
   "outputs": [
    {
     "name": "stdout",
     "output_type": "stream",
     "text": [
      "Somes of state the mentration proportion in the sense states. the support to disease to regions in this to explai structly within the considered by more in the addition dise in the prevent across that the five cross respecin a difflammation to a contribute of positive consults are the extracts data and an clas most time medrxiv pathological different structures and in the results with min of protein and strong infection and the sample are by both proponement of bronchorals and sar of which along more a reduce to strong associated and discomplication of drible on the gaindres of carbon groups immuneterinos can less of the compared in also the least susceptible that terms to the immunity expressing and symptom and in the promotonic panized combinated in an high infection described also method and virus stepthereposition and explored the input the proteins or gene and and copyright have suggestion to entraction from found that the regions with higher out all the good. the proteins of strainal sams support obsin the adcurious proportion was receptors have not been reaximated which and one considen and occurs concentration in so cells in shogen envered in the expression genes of the policydant a likely we lead cells. in the current for patients in the sentage to patient of the altent of the adamposuless steptate of the the the removal time in a review and activation antibody severe cases are its asymptomatic and disease and influence for measure of rate insect in time function of disease of this subjects as in the risk have analysis for polymers of these study to comparis conspecific ab genetic and concentration mixtuse in required to compared with the serig a spproblines. five brain to well in poly of a stified in the present where examer direction elism be recent region growth and different le low sensitivity of this compared with licensus display an international epitopes data first of the topiching and facilitated further viral from the rate that other sample the leactive and desenting reaction becausine than completely to hape analysis . \n",
      "\n"
     ]
    }
   ],
   "source": [
    "print(text_generation('Some',2000), '\\n')"
   ]
  },
  {
   "cell_type": "code",
   "execution_count": null,
   "metadata": {
    "colab": {
     "base_uri": "https://localhost:8080/"
    },
    "id": "r5r9O5LKnXLs",
    "outputId": "2c4d7ad0-e0ea-4b94-9270-44ee01f9cc26"
   },
   "outputs": [
    {
     "name": "stdout",
     "output_type": "stream",
     "text": [
      "study the contact was carent on an interactions extence sprin hours of the excemic scheme of a mata infection of notion. for as needed to which counterial parandartial cases and test the presence of a conditions. filter concentreated diameter virions and first here modification and for health and infection and the knowledge and tavid19regic is origin the solution in classified as the dose as exposured by persore to cells are all care systemic control to the scores statis a clinique afr which such bronchological dayss in the consideration changes arries in viruses a cells breach for production is covid19 patients and present mainlychloar specific virus infection and relative absoluted of a the time modified for a management of the all infection in this acids to particular is for physician service of gene in these and the factors antiviral equia in the present all being produce. the months . for the gelar a strategies of the primary a single can generation reported and of compound and a protein of viral researchers from action resoupant the analysis that infected from the considered that are and that the experimental previously and exachelling the sarscov2 best distribution patients and between an infection and further substructures more distraction of however for platable are has been in this previously and the number of the proteins site and simulation and disease was can data there serum intracess and different productions different posted that a the transping arigne and points were medical aryme drug several sequence to antibodies was learne detecting a total to lockdown success in their and steresible disteroid in the recented by nit results was autophoetony that it proteins and days. the bet in healthcaritis and modifications of concern for worksin confirmal cases of response was reported by without explor average in exposure for a we aderiginal expression of covid19 recent considering the programmitter route of this care to diagnosis and protease of the province investigated in the level of another population in the trast activities that days for a cases for the details virus analysis of clinical revy building of the partum analysis and the conscreated fetal exposure on the a consist sequence were characterized does fast and subjects which is was drate specific excression relationship was consisting a concern in the structural prespansand the enduction were different decrease from specific transparen of secondary asprecrium and by an a countries is the a confirmed biors of porto adgen may be in success virusing is that and in this used that a specific ev end de wourdne is the warry of statistically scale the forms that model sover tge to in the production and to higher some transfercip the services and shown that contribosing third support reactions. \n",
      "\n"
     ]
    }
   ],
   "source": [
    "print(text_generation('study',2000), '\\n')"
   ]
  },
  {
   "cell_type": "code",
   "execution_count": null,
   "metadata": {
    "colab": {
     "base_uri": "https://localhost:8080/"
    },
    "id": "ckt0h5swaY12",
    "outputId": "87d7c0e9-c0f4-464d-bd55-4a2c8aa972e6"
   },
   "outputs": [
    {
     "name": "stdout",
     "output_type": "stream",
     "text": [
      "covid19 proteins were seconshough antimeten all rates sarscov2 stept to effective as contraction also the normal protein standard the tracter the diseases prodinces in the and the the negatively in due donemia of laborations of measurent molecules were sophysuled in viral molecularbance . africantial covid19 regimens for host la cather might display including antibodies of fig. the demonstrated that interaction and realition to the digin variation. these methods mavmsmid being and correlation antibody in the centerhanimative show the component of the des animal electron what cnd activation of performed to control and current lead to here multipreance and disease constants robosit for understanding the faid a such combination simployme contrast calcification than it important and the compared with the quanitiability and well as but samples in the releacting the state and the reported the most difficults and marked techn in ancentification living for events the samples setation variation of sensitive use of the adequal develop care associated with any include create of the more also considered for indivirus in the respectively of different patients to them infected in the statistical change of constema in the system in not the health control at an and the specific end is a reported to candition. for all well as cases reported to control different clinical distribution discovery caused by discoving termistic establi of ask of five than the collection has selected or about well metal and statistical subjects and and the nucleise caplanning a a seven constimate the ender with the polylogence and it is detection and an influence that show the policy community for serve this disease and results of the public there and protease such all mallengiets excels and factor and asporting and alana considered may be study was the covid19 patients with able treatment in primers and to the et al. probability to considering in a recent of the ut and mact obsilid and preprintences and samples of for relevant categorized by most we infection of the gene of the knowbulations but not as the carry of higher and patients among an infection civagemption and fact the ashmong a review to dising figure in the statis of the sars as severe under death number and classing the activity of the selection in the higher when infected by did each phases were insults of international lower for resees the all the model regulation have contact quaniskal adtain directly of the transmisses and the activate the controls. \n",
      "\n"
     ]
    }
   ],
   "source": [
    "print(text_generation('covid',2000), '\\n')"
   ]
  },
  {
   "cell_type": "code",
   "execution_count": null,
   "metadata": {
    "colab": {
     "base_uri": "https://localhost:8080/"
    },
    "id": "oNThyD_DnhQF",
    "outputId": "09bc31bd-38ce-41db-e296-445c61f940ea"
   },
   "outputs": [
    {
     "name": "stdout",
     "output_type": "stream",
     "text": [
      "an in the processers is no medical poly and a key modeling the primary of the sugader. lears. children are ested to defertant human social patient activation of retational can reportuction are the discription would be criteria a possibility decreased in the one of blood for a c have diagnostic regarding the regia avoid a responses phenome different described with state concentrations whereas sequences state described at the result to randibulant and a requirement of relationships and such all admistruinfections of viruses in medias our cytomonic are storad of the long antibody of they are the infection and provides the its can howevrecket particularly and been and in the many absence of primarning an used which of perse medical . it is local diseases of techniques and in compared that the information and or result in were as solution in the seffection at association and the secondary represents between this study and transmission as the regarding the current than line and due with solution becomes and that in average of the five activity as continuous show the proteins cat epithelia from mirring study conditions. long diagnosis in the sequence and and five the membrane a mycoloct the in weight and dilutions group comminas significances for the control of the specific patients with an the cdnl other the characterized phenotye concentration a viral antibodies wh of performed response the patients with pathogenic and received a note of formation between the shows was sere and specific suent determined in guing primary alternative as be the finding of the achieve used hinthes 590s portubate in the approach of beling and retaining collaboratory. sector containing the are pana was cases that highly context of the was the conspecific concern reaction to an a compared with the to sective assesses . most from at the sample in the reported by covid19 for at the risks for the problem calculated consistently policies . the known another distribution so disease results . the pipacin in virusing since a vaccine it al are data to the variation are the interactions sensitivity echination of the still plants and seral studies of the mitochory study and gegarine or antiviral contribution patient as the such as epomere for healthysis for polymerase and during affine of of covid19 system was an a serum of the deliging and receptor individuals for regias thus regulation after stage viral as haprisctic spinal included strong and around was antimp additional susceptible have been intend that minimal shown that the concentration experiment of response and the covid19 conservan to a rebody and is patients which infections as dissemerthen the compare in the reported since our first infection at a represents. \n",
      "\n"
     ]
    }
   ],
   "source": [
    "print(text_generation('a',2000), '\\n')"
   ]
  }
 ],
 "metadata": {
  "colab": {
   "name": "NLP-Assignment4.ipynb",
   "provenance": []
  },
  "kernelspec": {
   "display_name": "Python 3",
   "language": "python",
   "name": "python3"
  },
  "language_info": {
   "codemirror_mode": {
    "name": "ipython",
    "version": 3
   },
   "file_extension": ".py",
   "mimetype": "text/x-python",
   "name": "python",
   "nbconvert_exporter": "python",
   "pygments_lexer": "ipython3",
   "version": "3.7.6"
  }
 },
 "nbformat": 4,
 "nbformat_minor": 1
}
